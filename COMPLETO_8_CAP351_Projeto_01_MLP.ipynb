{
  "nbformat": 4,
  "nbformat_minor": 0,
  "metadata": {
    "colab": {
      "name": "COMPLETO 8 - CAP351_Projeto_01_MLP.ipynb",
      "provenance": [],
      "collapsed_sections": [],
      "machine_shape": "hm",
      "toc_visible": true,
      "authorship_tag": "ABX9TyPNkHssU2gkM6scpGlfIe0c",
      "include_colab_link": true
    },
    "kernelspec": {
      "name": "python3",
      "display_name": "Python 3"
    },
    "language_info": {
      "name": "python"
    },
    "accelerator": "GPU",
    "gpuClass": "standard"
  },
  "cells": [
    {
      "cell_type": "markdown",
      "metadata": {
        "id": "view-in-github",
        "colab_type": "text"
      },
      "source": [
        "<a href=\"https://colab.research.google.com/github/lourencocavalcante/Exemple-template-sb-admin-2-com-laravel8/blob/main/COMPLETO_8_CAP351_Projeto_01_MLP.ipynb\" target=\"_parent\"><img src=\"https://colab.research.google.com/assets/colab-badge.svg\" alt=\"Open In Colab\"/></a>"
      ]
    },
    {
      "cell_type": "markdown",
      "source": [
        "[<img src=\"https://github.com/lourencocavalcante/LogosINPE/blob/main/logoinpe.png?raw=true\" width = 500 align=\"left\">](https://www.gov.br/inpe/pt-br)\n",
        "\n",
        "[<img src=\"https://github.com/lourencocavalcante/LogosINPE/blob/main/LogoCAP.png?raw=true\" width = 300 align=\"right\">](http://www.inpe.br/posgraduacao/cap/)"
      ],
      "metadata": {
        "id": "CSLQp4jYNHcB"
      }
    },
    {
      "cell_type": "markdown",
      "source": [
        "# **CAP-351 Neurocomputação**\n",
        "\n",
        "**Professor:**\n",
        "*Dr. Marcos Goncalves Quiles*\n",
        "\n",
        "**Aluno:**\n",
        "*Lourenço José Cavalcante Neto*\n",
        "\n",
        "---\n",
        "\n",
        "**PROPOSTA DE PROJETO 1: Experimentos com a rede Multi-layer Perceptron (MLP)**\n",
        "\n",
        "**Descrição do projeto:**\n",
        "\n",
        "1. Selecionar dois datasets (não triviais): Um dataset para classificação; Um dataset para regressão; Separar em treino/validação/teste.\n",
        "\n",
        "2. Treinar modelos MLP para os dois problemas (**classificação** e **regressão**)\n",
        "\n",
        "3. Considerar:\n",
        "  * Diferentes topologias (>=5 topologias, variar número de\n",
        "camadas)\n",
        "  * Usar o algoritmo original SGD (não usar algoritmos otimizados,\n",
        "e.g. ADAM)\n",
        "  * Avaliar o impacto do uso do Momentum\n",
        "  * Avaliar o impacto do uso da regularização (i.e. L2)\n",
        "\n",
        "4. Ilustrar graficamente a evolução do treinamento (treino/validação).\n",
        "\n",
        "5. Confeccionar um relatório (reprodutível) contendo os\n",
        "experimentos e resados"
      ],
      "metadata": {
        "id": "4Uk7l1OnKjYG"
      }
    },
    {
      "cell_type": "markdown",
      "source": [
        "# **Introdução**\n",
        "\n",
        "A larga aplicabilidade das redes neurais se justifica pelo fato da existência de vários de modelos presentes na literatura no tocante deste tema, nas quais possuem diferentes modos, paradigmas e formas de aprendizagem. Destaca-se a rede Multilayer Perceptron, denominada por (BASHEER; HAJMEER, 2000) como o “workhorse”das redes neurais, sendo este um dos modelos mais largamente utilizado (BASHEER; HAJMEER, 2000).\n",
        "\n",
        "No presente notebook contém diversos experimentos e testes com a rede Multi-layer Perceptron (MLP). Foi selecionado um datasets (não trivial) no qual foi divido em treino, validação e teste, e utilizado para treino de modelos MLP em dois problemas: classificação e regressão. Os Dados são de um equipamento chamado **Disdrômetro RD80** (também chamado de **Joss**). Instalado próximo à torre **ATTO**, em um sítio chamado Campina, na região Amazônica, o Disdrômetro RD80 mede a distribuição das gotas de chuva que chegam à superfície.\n",
        "\n",
        "Foram criadas 5 topologias diferentes, variando o número de camadas. O algoritmo utilizado foi SGD, e foram aplicadas diferentes hyperparâmetros afim de avaliar o impacto do uso do Momentum e da Regularização (L2).\n",
        "\n",
        "Este notebook pode ser acessado no **github**: https://github.com/lourencocavalcante/Neurocomputacao.git"
      ],
      "metadata": {
        "id": "UTePmjPO0HTy"
      }
    },
    {
      "cell_type": "markdown",
      "source": [
        "# **Bibliotecas/Pacotes**"
      ],
      "metadata": {
        "id": "FxA9_U4DVVcF"
      }
    },
    {
      "cell_type": "code",
      "execution_count": null,
      "metadata": {
        "id": "3jZRmEf4Kha7",
        "colab": {
          "base_uri": "https://localhost:8080/"
        },
        "outputId": "09db63b7-b648-445a-beb7-aa191ac9e559"
      },
      "outputs": [
        {
          "output_type": "stream",
          "name": "stdout",
          "text": [
            "Drive already mounted at /content/drive; to attempt to forcibly remount, call drive.mount(\"/content/drive\", force_remount=True).\n",
            "2.8.2\n"
          ]
        }
      ],
      "source": [
        "import pandas as pd\n",
        "\n",
        "import numpy as np\n",
        "import seaborn as sns\n",
        "\n",
        "import matplotlib.pyplot as plt\n",
        "from matplotlib.pyplot import figure\n",
        "import math\n",
        "\n",
        "import tensorflow as tf\n",
        "from tensorflow import keras\n",
        "from tensorflow.keras.optimizers import Adam, SGD\n",
        "from tensorflow.keras.layers import Dropout\n",
        "from tensorflow.keras.regularizers import l2\n",
        "\n",
        "from sklearn.model_selection import train_test_split\n",
        "from sklearn.neural_network import MLPClassifier\n",
        "\n",
        "import datetime\n",
        "\n",
        "from google.colab import drive\n",
        "drive.mount('/content/drive')\n",
        "\n",
        "print(tf.__version__)"
      ]
    },
    {
      "cell_type": "markdown",
      "source": [
        "# **Dataset**\n",
        " \n",
        "No total, o Dataset possui 06 atributos, nos são listados abaixo:\n",
        "\n",
        "```\n",
        "Datetime\n",
        "Rain Intensity (mm/h)\n",
        "radar reflectivity (1/mm6m3)\n",
        "Liquid watercontent (g/m3)\n",
        "Mean weight diameter(mm)\n",
        "Time integration (s)\n",
        "```\n",
        "\n",
        "*Ob.: Conforme sugerido/autorizado pelo professor Marcos na aula do dia 11/07, o mesmo Dataset será utilizado para os problemas de Classificação e Regressão.*"
      ],
      "metadata": {
        "id": "EyIldOmMMLJ7"
      }
    },
    {
      "cell_type": "markdown",
      "source": [
        "## **Importação, Formatação, Tratamento e Visualização dos dados**"
      ],
      "metadata": {
        "id": "mKuzj0eJ8bu2"
      }
    },
    {
      "cell_type": "code",
      "source": [
        "#Importando o Dataset e criando o Dataframe\n",
        "df_rd80_full = pd.read_csv(\"/content/drive/MyDrive/MestradoCAP/Lourenco/cap351/Datasets/df_final_rd80_joss.csv\")\n",
        "df_rd80_full = pd.DataFrame(df_rd80_full)\n",
        "\n",
        "#Aqui verificamos o tamanho e quantidade de atributos do Dataset\n",
        "print('Tamanho do dataset: ',df_rd80_full.shape[0], ', quantidade de atributos: ', df_rd80_full.shape[1])"
      ],
      "metadata": {
        "colab": {
          "base_uri": "https://localhost:8080/"
        },
        "id": "Qvv_eiv2Hy7a",
        "outputId": "508c7ddc-4e81-4937-b7e8-7d670e928986"
      },
      "execution_count": null,
      "outputs": [
        {
          "output_type": "stream",
          "name": "stdout",
          "text": [
            "Tamanho do dataset:  315420 , quantidade de atributos:  6\n"
          ]
        }
      ]
    },
    {
      "cell_type": "markdown",
      "source": [
        "Como podemos ver, o tamanho do nosso Dataset é de 315.420 e isso pode ocasionar um custo computacional muito alto durante os experimentos e testes do Projeto. Sendo assim, será utilizado apenas 1/3 dos dados."
      ],
      "metadata": {
        "id": "qre8VpmUvboU"
      }
    },
    {
      "cell_type": "code",
      "source": [
        "#Definindo uma parte do Dataset para usá-lo neste Projeto\n",
        "limit_date = datetime.datetime(year=2022, month=4,day=1)\n",
        "\n",
        "df_rd80_full = df_rd80_full.set_index('Datetime')\n",
        "\n",
        "df_rd80 = df_rd80_full.loc[df_rd80_full.index >= str(limit_date)]\n",
        "#df_rd80 = df_rd80.loc[df_rd80['Rain Intensity (mm/h)'] > 0]\n",
        "df_rd80.reset_index(inplace=True)\n",
        "\n",
        "print('Tamanho do Dataset que será utilizado: ', df_rd80.shape[0])\n"
      ],
      "metadata": {
        "colab": {
          "base_uri": "https://localhost:8080/"
        },
        "id": "b8QBsVdza6Eh",
        "outputId": "68ccd0a9-afad-4d6c-92e6-1ce4ab12acc3"
      },
      "execution_count": null,
      "outputs": [
        {
          "output_type": "stream",
          "name": "stdout",
          "text": [
            "Tamanho do Dataset que será utilizado:  120881\n"
          ]
        }
      ]
    },
    {
      "cell_type": "code",
      "source": [
        "#Carregando o Dataset\n",
        "df_rd80.loc[df_rd80['Rain Intensity (mm/h)'] > 0].head()"
      ],
      "metadata": {
        "colab": {
          "base_uri": "https://localhost:8080/",
          "height": 354
        },
        "id": "lNxc5-Vva_tc",
        "outputId": "d2e09e59-4214-44f6-d935-928d7d19d243"
      },
      "execution_count": null,
      "outputs": [
        {
          "output_type": "execute_result",
          "data": {
            "text/plain": [
              "                Datetime  Rain Intensity (mm/h)  radar reflectivity (1/mm6m3)  \\\n",
              "906  2022-04-01 15:06:00                0.43260                      38.06263   \n",
              "907  2022-04-01 15:07:00                0.41725                      27.16787   \n",
              "914  2022-04-01 15:14:00                1.17214                     584.40277   \n",
              "915  2022-04-01 15:15:00                5.79155                    2041.65967   \n",
              "916  2022-04-01 15:16:00                5.42038                    1292.17163   \n",
              "\n",
              "     Liquid watercontent (g/m3)  Mean weight diameter(mm)  \\\n",
              "906                     0.03692                   0.79742   \n",
              "907                     0.04383                   0.64697   \n",
              "914                     0.05541                   1.72444   \n",
              "915                     0.30273                   1.47975   \n",
              "916                     0.32774                   1.21349   \n",
              "\n",
              "     Time integration (s)  \n",
              "906                  60.0  \n",
              "907                  60.0  \n",
              "914                  60.0  \n",
              "915                  60.0  \n",
              "916                  60.0  "
            ],
            "text/html": [
              "\n",
              "  <div id=\"df-dc477d95-f2dc-4a3e-8442-32ad374519d2\">\n",
              "    <div class=\"colab-df-container\">\n",
              "      <div>\n",
              "<style scoped>\n",
              "    .dataframe tbody tr th:only-of-type {\n",
              "        vertical-align: middle;\n",
              "    }\n",
              "\n",
              "    .dataframe tbody tr th {\n",
              "        vertical-align: top;\n",
              "    }\n",
              "\n",
              "    .dataframe thead th {\n",
              "        text-align: right;\n",
              "    }\n",
              "</style>\n",
              "<table border=\"1\" class=\"dataframe\">\n",
              "  <thead>\n",
              "    <tr style=\"text-align: right;\">\n",
              "      <th></th>\n",
              "      <th>Datetime</th>\n",
              "      <th>Rain Intensity (mm/h)</th>\n",
              "      <th>radar reflectivity (1/mm6m3)</th>\n",
              "      <th>Liquid watercontent (g/m3)</th>\n",
              "      <th>Mean weight diameter(mm)</th>\n",
              "      <th>Time integration (s)</th>\n",
              "    </tr>\n",
              "  </thead>\n",
              "  <tbody>\n",
              "    <tr>\n",
              "      <th>906</th>\n",
              "      <td>2022-04-01 15:06:00</td>\n",
              "      <td>0.43260</td>\n",
              "      <td>38.06263</td>\n",
              "      <td>0.03692</td>\n",
              "      <td>0.79742</td>\n",
              "      <td>60.0</td>\n",
              "    </tr>\n",
              "    <tr>\n",
              "      <th>907</th>\n",
              "      <td>2022-04-01 15:07:00</td>\n",
              "      <td>0.41725</td>\n",
              "      <td>27.16787</td>\n",
              "      <td>0.04383</td>\n",
              "      <td>0.64697</td>\n",
              "      <td>60.0</td>\n",
              "    </tr>\n",
              "    <tr>\n",
              "      <th>914</th>\n",
              "      <td>2022-04-01 15:14:00</td>\n",
              "      <td>1.17214</td>\n",
              "      <td>584.40277</td>\n",
              "      <td>0.05541</td>\n",
              "      <td>1.72444</td>\n",
              "      <td>60.0</td>\n",
              "    </tr>\n",
              "    <tr>\n",
              "      <th>915</th>\n",
              "      <td>2022-04-01 15:15:00</td>\n",
              "      <td>5.79155</td>\n",
              "      <td>2041.65967</td>\n",
              "      <td>0.30273</td>\n",
              "      <td>1.47975</td>\n",
              "      <td>60.0</td>\n",
              "    </tr>\n",
              "    <tr>\n",
              "      <th>916</th>\n",
              "      <td>2022-04-01 15:16:00</td>\n",
              "      <td>5.42038</td>\n",
              "      <td>1292.17163</td>\n",
              "      <td>0.32774</td>\n",
              "      <td>1.21349</td>\n",
              "      <td>60.0</td>\n",
              "    </tr>\n",
              "  </tbody>\n",
              "</table>\n",
              "</div>\n",
              "      <button class=\"colab-df-convert\" onclick=\"convertToInteractive('df-dc477d95-f2dc-4a3e-8442-32ad374519d2')\"\n",
              "              title=\"Convert this dataframe to an interactive table.\"\n",
              "              style=\"display:none;\">\n",
              "        \n",
              "  <svg xmlns=\"http://www.w3.org/2000/svg\" height=\"24px\"viewBox=\"0 0 24 24\"\n",
              "       width=\"24px\">\n",
              "    <path d=\"M0 0h24v24H0V0z\" fill=\"none\"/>\n",
              "    <path d=\"M18.56 5.44l.94 2.06.94-2.06 2.06-.94-2.06-.94-.94-2.06-.94 2.06-2.06.94zm-11 1L8.5 8.5l.94-2.06 2.06-.94-2.06-.94L8.5 2.5l-.94 2.06-2.06.94zm10 10l.94 2.06.94-2.06 2.06-.94-2.06-.94-.94-2.06-.94 2.06-2.06.94z\"/><path d=\"M17.41 7.96l-1.37-1.37c-.4-.4-.92-.59-1.43-.59-.52 0-1.04.2-1.43.59L10.3 9.45l-7.72 7.72c-.78.78-.78 2.05 0 2.83L4 21.41c.39.39.9.59 1.41.59.51 0 1.02-.2 1.41-.59l7.78-7.78 2.81-2.81c.8-.78.8-2.07 0-2.86zM5.41 20L4 18.59l7.72-7.72 1.47 1.35L5.41 20z\"/>\n",
              "  </svg>\n",
              "      </button>\n",
              "      \n",
              "  <style>\n",
              "    .colab-df-container {\n",
              "      display:flex;\n",
              "      flex-wrap:wrap;\n",
              "      gap: 12px;\n",
              "    }\n",
              "\n",
              "    .colab-df-convert {\n",
              "      background-color: #E8F0FE;\n",
              "      border: none;\n",
              "      border-radius: 50%;\n",
              "      cursor: pointer;\n",
              "      display: none;\n",
              "      fill: #1967D2;\n",
              "      height: 32px;\n",
              "      padding: 0 0 0 0;\n",
              "      width: 32px;\n",
              "    }\n",
              "\n",
              "    .colab-df-convert:hover {\n",
              "      background-color: #E2EBFA;\n",
              "      box-shadow: 0px 1px 2px rgba(60, 64, 67, 0.3), 0px 1px 3px 1px rgba(60, 64, 67, 0.15);\n",
              "      fill: #174EA6;\n",
              "    }\n",
              "\n",
              "    [theme=dark] .colab-df-convert {\n",
              "      background-color: #3B4455;\n",
              "      fill: #D2E3FC;\n",
              "    }\n",
              "\n",
              "    [theme=dark] .colab-df-convert:hover {\n",
              "      background-color: #434B5C;\n",
              "      box-shadow: 0px 1px 3px 1px rgba(0, 0, 0, 0.15);\n",
              "      filter: drop-shadow(0px 1px 2px rgba(0, 0, 0, 0.3));\n",
              "      fill: #FFFFFF;\n",
              "    }\n",
              "  </style>\n",
              "\n",
              "      <script>\n",
              "        const buttonEl =\n",
              "          document.querySelector('#df-dc477d95-f2dc-4a3e-8442-32ad374519d2 button.colab-df-convert');\n",
              "        buttonEl.style.display =\n",
              "          google.colab.kernel.accessAllowed ? 'block' : 'none';\n",
              "\n",
              "        async function convertToInteractive(key) {\n",
              "          const element = document.querySelector('#df-dc477d95-f2dc-4a3e-8442-32ad374519d2');\n",
              "          const dataTable =\n",
              "            await google.colab.kernel.invokeFunction('convertToInteractive',\n",
              "                                                     [key], {});\n",
              "          if (!dataTable) return;\n",
              "\n",
              "          const docLinkHtml = 'Like what you see? Visit the ' +\n",
              "            '<a target=\"_blank\" href=https://colab.research.google.com/notebooks/data_table.ipynb>data table notebook</a>'\n",
              "            + ' to learn more about interactive tables.';\n",
              "          element.innerHTML = '';\n",
              "          dataTable['output_type'] = 'display_data';\n",
              "          await google.colab.output.renderOutput(dataTable, element);\n",
              "          const docLink = document.createElement('div');\n",
              "          docLink.innerHTML = docLinkHtml;\n",
              "          element.appendChild(docLink);\n",
              "        }\n",
              "      </script>\n",
              "    </div>\n",
              "  </div>\n",
              "  "
            ]
          },
          "metadata": {},
          "execution_count": 309
        }
      ]
    },
    {
      "cell_type": "code",
      "source": [
        "#Normalizando os dados\n",
        "#É necessário assumir que os valores para Rain Intensity (mm/h) que forem menores que 0.1 sejam considerados como 0(zero)\n",
        "df_rd80['Rain Intensity (mm/h)'].loc[df_rd80['Rain Intensity (mm/h)'] < 0.1] = 0"
      ],
      "metadata": {
        "id": "Jsqf8diZMPnj"
      },
      "execution_count": null,
      "outputs": []
    },
    {
      "cell_type": "code",
      "source": [
        "#Visualizando as correlações entre as variáveis\n",
        "corr = df_rd80.corr()\n",
        "plt.figure(figsize=(6, 6))\n",
        "sns.heatmap(corr[(corr >= 0.30) | (corr <= -0.30)],cmap='viridis', vmax=1.0, vmin=-1.0, linewidths=0.1, annot=True, annot_kws={\"size\": 14}, square=True);"
      ],
      "metadata": {
        "colab": {
          "base_uri": "https://localhost:8080/",
          "height": 484
        },
        "id": "v9pz9gxXfHl8",
        "outputId": "7acf513b-0734-4248-eb7d-c9e1918860e2"
      },
      "execution_count": null,
      "outputs": [
        {
          "output_type": "display_data",
          "data": {
            "text/plain": [
              "<Figure size 432x432 with 2 Axes>"
            ],
            "image/png": "[encoded data removed]"
          },
          "metadata": {
            "needs_background": "light"
          }
        }
      ]
    },
    {
      "cell_type": "code",
      "source": [
        "figure(figsize=(12,5),dpi=80)\n",
        "plt.scatter(df_rd80['Rain Intensity (mm/h)'] ,df_rd80['Mean weight diameter(mm)'],s=2, color='#4682B4')\n",
        "plt.xlabel(r'Teor de água líquida (g/m3)',size=14)\n",
        "plt.ylabel(r'Intensidade da chuva (mm/h)',size=14)\n",
        "plt.title(\"Distribuição das gotas de chuva que chegam à superfície\", size=16)\n",
        "plt.plot()"
      ],
      "metadata": {
        "colab": {
          "base_uri": "https://localhost:8080/",
          "height": 411
        },
        "id": "saEqKzsLffw0",
        "outputId": "fbee29d3-b77e-47d5-a67a-8fa917cb8629"
      },
      "execution_count": null,
      "outputs": [
        {
          "output_type": "execute_result",
          "data": {
            "text/plain": [
              "[]"
            ]
          },
          "metadata": {},
          "execution_count": 312
        },
        {
          "output_type": "display_data",
          "data": {
            "text/plain": [
              "<Figure size 960x400 with 1 Axes>"
            ],
            "image/png": "[encoded data removed]"
          },
          "metadata": {
            "needs_background": "light"
          }
        }
      ]
    },
    {
      "cell_type": "markdown",
      "source": [
        "Conforme orientações para o projeto, para realizar o treinamento e validação do aprendizado de uma rede **Multi-layer Perceptron (MLP)**, realizou-se a divisão do conjunto de dados em dois grupos: Treino (70%) e Teste (30%). A biblioteca scikit-learn nos auxiliará nesta tarefa. "
      ],
      "metadata": {
        "id": "JKofm2JV_fhO"
      }
    },
    {
      "cell_type": "code",
      "source": [
        "#Dividindo os datasets de treino e teste\n",
        "x_train, x_test, y_train, y_test = train_test_split(df_rd80['Rain Intensity (mm/h)'] ,df_rd80['Mean weight diameter(mm)'], test_size=0.76)\n",
        "print('Tamanho do dataset para treinamento: ',len(x_train))\n",
        "print('Tamanho do dataset para validação: ',len(x_test))"
      ],
      "metadata": {
        "colab": {
          "base_uri": "https://localhost:8080/"
        },
        "id": "bG5YkThZy0iH",
        "outputId": "6e244ae7-df51-4d1c-c58d-7fd15d6a4ae0"
      },
      "execution_count": null,
      "outputs": [
        {
          "output_type": "stream",
          "name": "stdout",
          "text": [
            "Tamanho do dataset para treinamento:  29011\n",
            "Tamanho do dataset para validação:  91870\n"
          ]
        }
      ]
    },
    {
      "cell_type": "markdown",
      "source": [
        "Após dividir o Dataset, inicialmente vamos checar o comportamento do dataset de Treino e de Teste da rede, para entender o que a rede buscará aprender e o que esta rede buscará prever."
      ],
      "metadata": {
        "id": "z892lYjhI80Y"
      }
    },
    {
      "cell_type": "code",
      "source": [
        "figure(figsize=(12,4),dpi=80)\n",
        "plt.plot(x_train, y_train, '.', color='#FF8C00', label=\"Dados para Treinamento\")\n",
        "plt.plot(x_test, y_test, '.', color='#4682B4', label=\"Dados para Teste\")\n",
        "plt.show()"
      ],
      "metadata": {
        "colab": {
          "base_uri": "https://localhost:8080/",
          "height": 292
        },
        "id": "Gu3oVIfJJeZX",
        "outputId": "7b76f52c-86ae-45ef-d5f6-157857032650"
      },
      "execution_count": null,
      "outputs": [
        {
          "output_type": "display_data",
          "data": {
            "text/plain": [
              "<Figure size 960x320 with 1 Axes>"
            ],
            "image/png": "[encoded data removed]"
          },
          "metadata": {
            "needs_background": "light"
          }
        }
      ]
    },
    {
      "cell_type": "markdown",
      "source": [
        "# **Problema 1: Regressão**\n",
        "Com o objetivo de construir uma rede capaz de encontrar uma lei de regressão para o problema, serão criadas 05(cinco) topologias de rede MLP diferentes. O primeiro caso será um simples e clássico de um perceptron e a partir do segundo será modificado o número de camadas e o número de neurônios."
      ],
      "metadata": {
        "id": "QNWZvm9A3weo"
      }
    },
    {
      "cell_type": "markdown",
      "source": [
        "**Valores para configurações dos Hiperparâmetros do Momentum e Regularização (L2) para avaliar seus impactos**"
      ],
      "metadata": {
        "id": "h8_t5IjCa2c7"
      }
    },
    {
      "cell_type": "code",
      "source": [
        "#Configurações para avaliar o impacto do uso do Momentum e da Regularização (L2)\n",
        "momentum =    [0.1, 0.2, 0.3, 0.0]\n",
        "regularizer = [0.3, 0.2, 0.1, 0.0]\n",
        "dropout = [0.0, 0.0, 0.0, 0.0]\n",
        "\n",
        "#Define a quantidade de épocas para o treinamento\n",
        "epochs = 500 "
      ],
      "metadata": {
        "id": "bTNyRN1XaygL"
      },
      "execution_count": null,
      "outputs": []
    },
    {
      "cell_type": "markdown",
      "source": [
        "## **Topologia I**\n",
        "Este primeiro será um caso simples e clássico de um perceptron. A rede neural que será criada  é uma MLP com 2 camadas, sendo estas a camada de entrada e a camada de saída. \n",
        "\n",
        "\n"
      ],
      "metadata": {
        "id": "v4ViwiUIsO30"
      }
    },
    {
      "cell_type": "markdown",
      "source": [
        "**Criação dos modelos**"
      ],
      "metadata": {
        "id": "Zvgv9bHmshmc"
      }
    },
    {
      "cell_type": "code",
      "source": [
        "#Modelos da Topologia I\n",
        "modelos_tpl_I = []\n",
        "\n",
        "for res in range(0,4):\n",
        "  #print(i)\n",
        "  sgd = tf.keras.optimizers.SGD(learning_rate=0.01, momentum=momentum[res])\n",
        "  modelos_tpl_I.append(keras.Sequential())\n",
        "  modelos_tpl_I[res].add(keras.layers.Dense(units=3, kernel_regularizer=l2(regularizer[res]), input_shape=[1], activation=\"tanh\"))\n",
        "  modelos_tpl_I[res].add(keras.layers.Dense(units=1, activation=\"linear\"))\n",
        "  #tf.keras.utils.plot_model(modelos_tpl_I[res], show_shapes=True)\n",
        "  modelos_tpl_I[res].compile(loss='mean_squared_error', optimizer=sgd, metrics=[\"mean_absolute_error\"])"
      ],
      "metadata": {
        "id": "LBi2FXybgOac"
      },
      "execution_count": null,
      "outputs": []
    },
    {
      "cell_type": "markdown",
      "source": [
        "**Agora vamos treinar os Modelos criados**"
      ],
      "metadata": {
        "id": "wcAZYVbYggPl"
      }
    },
    {
      "cell_type": "code",
      "source": [
        "early = tf.keras.callbacks.EarlyStopping(monitor='loss', patience=100)\n",
        "\n",
        "history_modelos_tpl_I = []\n",
        "for res in range(0,4):\n",
        "  history_modelos_tpl_I.append(modelos_tpl_I[res].fit(x_train, y_train, epochs=epochs, batch_size=10, validation_split=0.2, verbose=True)) #callbacks=[early]\n"
      ],
      "metadata": {
        "id": "OoGtBlXvgfzM",
        "colab": {
          "base_uri": "https://localhost:8080/",
          "height": 1000
        },
        "outputId": "7adc3009-ff78-4d2e-b346-e8fc08144bda"
      },
      "execution_count": null,
      "outputs": [
        {
          "output_type": "stream",
          "name": "stdout",
          "text": [
            "Epoch 1/1000\n",
            "2321/2321 [==============================] - 6s 2ms/step - loss: 0.0730 - mean_absolute_error: 0.1192 - val_loss: 0.0591 - val_mean_absolute_error: 0.1430\n",
            "Epoch 2/1000\n",
            "2321/2321 [==============================] - 6s 3ms/step - loss: 0.0557 - mean_absolute_error: 0.1196 - val_loss: 0.0591 - val_mean_absolute_error: 0.1083\n",
            "Epoch 3/1000\n",
            "2321/2321 [==============================] - 6s 2ms/step - loss: 0.0551 - mean_absolute_error: 0.1189 - val_loss: 0.0571 - val_mean_absolute_error: 0.1198\n",
            "Epoch 4/1000\n",
            "2321/2321 [==============================] - 6s 2ms/step - loss: 0.0547 - mean_absolute_error: 0.1183 - val_loss: 0.0560 - val_mean_absolute_error: 0.1130\n",
            "Epoch 5/1000\n",
            "2321/2321 [==============================] - 6s 2ms/step - loss: 0.0541 - mean_absolute_error: 0.1174 - val_loss: 0.0554 - val_mean_absolute_error: 0.1132\n",
            "Epoch 6/1000\n",
            "2321/2321 [==============================] - 6s 3ms/step - loss: 0.0537 - mean_absolute_error: 0.1167 - val_loss: 0.0550 - val_mean_absolute_error: 0.1158\n",
            "Epoch 7/1000\n",
            "2321/2321 [==============================] - 6s 2ms/step - loss: 0.0532 - mean_absolute_error: 0.1159 - val_loss: 0.0545 - val_mean_absolute_error: 0.1082\n",
            "Epoch 8/1000\n",
            "2321/2321 [==============================] - 6s 2ms/step - loss: 0.0527 - mean_absolute_error: 0.1151 - val_loss: 0.0540 - val_mean_absolute_error: 0.1124\n",
            "Epoch 9/1000\n",
            "2321/2321 [==============================] - 6s 2ms/step - loss: 0.0526 - mean_absolute_error: 0.1148 - val_loss: 0.0535 - val_mean_absolute_error: 0.1150\n",
            "Epoch 10/1000\n",
            "2321/2321 [==============================] - 6s 2ms/step - loss: 0.0519 - mean_absolute_error: 0.1139 - val_loss: 0.0536 - val_mean_absolute_error: 0.1035\n",
            "Epoch 11/1000\n",
            "2321/2321 [==============================] - 6s 2ms/step - loss: 0.0518 - mean_absolute_error: 0.1137 - val_loss: 0.0533 - val_mean_absolute_error: 0.1109\n",
            "Epoch 12/1000\n",
            "2321/2321 [==============================] - 6s 2ms/step - loss: 0.0516 - mean_absolute_error: 0.1132 - val_loss: 0.0537 - val_mean_absolute_error: 0.1202\n",
            "Epoch 13/1000\n",
            "2321/2321 [==============================] - 6s 3ms/step - loss: 0.0512 - mean_absolute_error: 0.1130 - val_loss: 0.0525 - val_mean_absolute_error: 0.1048\n",
            "Epoch 14/1000\n",
            "2321/2321 [==============================] - 6s 2ms/step - loss: 0.0511 - mean_absolute_error: 0.1126 - val_loss: 0.0529 - val_mean_absolute_error: 0.1354\n",
            "Epoch 15/1000\n",
            "2321/2321 [==============================] - 6s 2ms/step - loss: 0.0507 - mean_absolute_error: 0.1123 - val_loss: 0.0518 - val_mean_absolute_error: 0.1204\n",
            "Epoch 16/1000\n",
            "2321/2321 [==============================] - 6s 3ms/step - loss: 0.0506 - mean_absolute_error: 0.1119 - val_loss: 0.0520 - val_mean_absolute_error: 0.1112\n",
            "Epoch 17/1000\n",
            "2321/2321 [==============================] - 6s 2ms/step - loss: 0.0504 - mean_absolute_error: 0.1118 - val_loss: 0.0524 - val_mean_absolute_error: 0.0889\n",
            "Epoch 18/1000\n",
            "2321/2321 [==============================] - 6s 2ms/step - loss: 0.0504 - mean_absolute_error: 0.1117 - val_loss: 0.0515 - val_mean_absolute_error: 0.0998\n",
            "Epoch 19/1000\n",
            "2321/2321 [==============================] - 6s 2ms/step - loss: 0.0500 - mean_absolute_error: 0.1114 - val_loss: 0.0512 - val_mean_absolute_error: 0.1107\n",
            "Epoch 20/1000\n",
            "2321/2321 [==============================] - 6s 2ms/step - loss: 0.0498 - mean_absolute_error: 0.1110 - val_loss: 0.0508 - val_mean_absolute_error: 0.1076\n",
            "Epoch 21/1000\n",
            "2321/2321 [==============================] - 6s 2ms/step - loss: 0.0498 - mean_absolute_error: 0.1109 - val_loss: 0.0510 - val_mean_absolute_error: 0.1037\n",
            "Epoch 22/1000\n",
            "2321/2321 [==============================] - 6s 2ms/step - loss: 0.0497 - mean_absolute_error: 0.1109 - val_loss: 0.0520 - val_mean_absolute_error: 0.0898\n",
            "Epoch 23/1000\n",
            "2321/2321 [==============================] - 6s 2ms/step - loss: 0.0496 - mean_absolute_error: 0.1107 - val_loss: 0.0509 - val_mean_absolute_error: 0.1253\n",
            "Epoch 24/1000\n",
            "2321/2321 [==============================] - 6s 2ms/step - loss: 0.0494 - mean_absolute_error: 0.1105 - val_loss: 0.0514 - val_mean_absolute_error: 0.1279\n",
            "Epoch 25/1000\n",
            "2321/2321 [==============================] - 6s 2ms/step - loss: 0.0492 - mean_absolute_error: 0.1103 - val_loss: 0.0509 - val_mean_absolute_error: 0.0925\n",
            "Epoch 26/1000\n",
            "2321/2321 [==============================] - 6s 2ms/step - loss: 0.0492 - mean_absolute_error: 0.1099 - val_loss: 0.0518 - val_mean_absolute_error: 0.1247\n",
            "Epoch 27/1000\n",
            "2321/2321 [==============================] - 6s 2ms/step - loss: 0.0492 - mean_absolute_error: 0.1101 - val_loss: 0.0505 - val_mean_absolute_error: 0.1021\n",
            "Epoch 28/1000\n",
            "2321/2321 [==============================] - 6s 2ms/step - loss: 0.0491 - mean_absolute_error: 0.1099 - val_loss: 0.0512 - val_mean_absolute_error: 0.1252\n",
            "Epoch 29/1000\n",
            "2321/2321 [==============================] - 6s 2ms/step - loss: 0.0491 - mean_absolute_error: 0.1099 - val_loss: 0.0504 - val_mean_absolute_error: 0.1031\n",
            "Epoch 30/1000\n",
            "2321/2321 [==============================] - 6s 3ms/step - loss: 0.0489 - mean_absolute_error: 0.1099 - val_loss: 0.0503 - val_mean_absolute_error: 0.0959\n",
            "Epoch 31/1000\n",
            "2321/2321 [==============================] - 6s 2ms/step - loss: 0.0489 - mean_absolute_error: 0.1095 - val_loss: 0.0511 - val_mean_absolute_error: 0.0970\n",
            "Epoch 32/1000\n",
            "2321/2321 [==============================] - 6s 2ms/step - loss: 0.0489 - mean_absolute_error: 0.1097 - val_loss: 0.0500 - val_mean_absolute_error: 0.1079\n",
            "Epoch 33/1000\n",
            "2321/2321 [==============================] - 6s 2ms/step - loss: 0.0487 - mean_absolute_error: 0.1094 - val_loss: 0.0500 - val_mean_absolute_error: 0.1049\n",
            "Epoch 34/1000\n",
            "2321/2321 [==============================] - 6s 3ms/step - loss: 0.0488 - mean_absolute_error: 0.1095 - val_loss: 0.0498 - val_mean_absolute_error: 0.1029\n",
            "Epoch 35/1000\n",
            "2321/2321 [==============================] - 6s 2ms/step - loss: 0.0487 - mean_absolute_error: 0.1092 - val_loss: 0.0506 - val_mean_absolute_error: 0.1350\n",
            "Epoch 36/1000\n",
            "2321/2321 [==============================] - 6s 2ms/step - loss: 0.0486 - mean_absolute_error: 0.1094 - val_loss: 0.0506 - val_mean_absolute_error: 0.0859\n",
            "Epoch 37/1000\n",
            "2321/2321 [==============================] - 6s 2ms/step - loss: 0.0486 - mean_absolute_error: 0.1091 - val_loss: 0.0504 - val_mean_absolute_error: 0.0893\n",
            "Epoch 38/1000\n",
            "2321/2321 [==============================] - 6s 2ms/step - loss: 0.0486 - mean_absolute_error: 0.1091 - val_loss: 0.0498 - val_mean_absolute_error: 0.1187\n",
            "Epoch 39/1000\n",
            "2321/2321 [==============================] - 6s 2ms/step - loss: 0.0485 - mean_absolute_error: 0.1091 - val_loss: 0.0499 - val_mean_absolute_error: 0.1175\n",
            "Epoch 40/1000\n",
            "2321/2321 [==============================] - 6s 2ms/step - loss: 0.0485 - mean_absolute_error: 0.1092 - val_loss: 0.0494 - val_mean_absolute_error: 0.1110\n",
            "Epoch 41/1000\n",
            "2321/2321 [==============================] - 6s 2ms/step - loss: 0.0485 - mean_absolute_error: 0.1091 - val_loss: 0.0494 - val_mean_absolute_error: 0.1110\n",
            "Epoch 42/1000\n",
            "2321/2321 [==============================] - 6s 2ms/step - loss: 0.0484 - mean_absolute_error: 0.1089 - val_loss: 0.0506 - val_mean_absolute_error: 0.1377\n",
            "Epoch 43/1000\n",
            "2321/2321 [==============================] - 6s 2ms/step - loss: 0.0485 - mean_absolute_error: 0.1089 - val_loss: 0.0498 - val_mean_absolute_error: 0.1067\n",
            "Epoch 44/1000\n",
            "2321/2321 [==============================] - 6s 3ms/step - loss: 0.0483 - mean_absolute_error: 0.1088 - val_loss: 0.0492 - val_mean_absolute_error: 0.1085\n",
            "Epoch 45/1000\n",
            "2321/2321 [==============================] - 6s 2ms/step - loss: 0.0483 - mean_absolute_error: 0.1086 - val_loss: 0.0504 - val_mean_absolute_error: 0.1345\n",
            "Epoch 46/1000\n",
            "2321/2321 [==============================] - 6s 2ms/step - loss: 0.0483 - mean_absolute_error: 0.1089 - val_loss: 0.0496 - val_mean_absolute_error: 0.1050\n",
            "Epoch 47/1000\n",
            "2321/2321 [==============================] - 6s 2ms/step - loss: 0.0483 - mean_absolute_error: 0.1088 - val_loss: 0.0493 - val_mean_absolute_error: 0.1143\n",
            "Epoch 48/1000\n",
            "2321/2321 [==============================] - 6s 2ms/step - loss: 0.0482 - mean_absolute_error: 0.1084 - val_loss: 0.0497 - val_mean_absolute_error: 0.1076\n",
            "Epoch 49/1000\n",
            "2321/2321 [==============================] - 6s 2ms/step - loss: 0.0481 - mean_absolute_error: 0.1086 - val_loss: 0.0495 - val_mean_absolute_error: 0.0923\n",
            "Epoch 50/1000\n",
            "2321/2321 [==============================] - 6s 2ms/step - loss: 0.0481 - mean_absolute_error: 0.1084 - val_loss: 0.0497 - val_mean_absolute_error: 0.0879\n",
            "Epoch 51/1000\n",
            "2321/2321 [==============================] - 6s 2ms/step - loss: 0.0481 - mean_absolute_error: 0.1083 - val_loss: 0.0498 - val_mean_absolute_error: 0.1310\n",
            "Epoch 52/1000\n",
            "2321/2321 [==============================] - 6s 2ms/step - loss: 0.0481 - mean_absolute_error: 0.1084 - val_loss: 0.0492 - val_mean_absolute_error: 0.1177\n",
            "Epoch 53/1000\n",
            "2321/2321 [==============================] - 6s 2ms/step - loss: 0.0481 - mean_absolute_error: 0.1085 - val_loss: 0.0502 - val_mean_absolute_error: 0.0948\n",
            "Epoch 54/1000\n",
            "2321/2321 [==============================] - 6s 2ms/step - loss: 0.0481 - mean_absolute_error: 0.1084 - val_loss: 0.0494 - val_mean_absolute_error: 0.1256\n",
            "Epoch 55/1000\n",
            "2321/2321 [==============================] - 6s 2ms/step - loss: 0.0480 - mean_absolute_error: 0.1084 - val_loss: 0.0490 - val_mean_absolute_error: 0.1012\n",
            "Epoch 56/1000\n",
            "2321/2321 [==============================] - 6s 2ms/step - loss: 0.0479 - mean_absolute_error: 0.1082 - val_loss: 0.0491 - val_mean_absolute_error: 0.0967\n",
            "Epoch 57/1000\n",
            "2321/2321 [==============================] - 6s 2ms/step - loss: 0.0480 - mean_absolute_error: 0.1082 - val_loss: 0.0500 - val_mean_absolute_error: 0.0834\n",
            "Epoch 58/1000\n",
            "2321/2321 [==============================] - 6s 2ms/step - loss: 0.0480 - mean_absolute_error: 0.1082 - val_loss: 0.0491 - val_mean_absolute_error: 0.0977\n",
            "Epoch 59/1000\n",
            "2321/2321 [==============================] - 6s 3ms/step - loss: 0.0480 - mean_absolute_error: 0.1082 - val_loss: 0.0489 - val_mean_absolute_error: 0.1140\n",
            "Epoch 60/1000\n",
            "2321/2321 [==============================] - 6s 2ms/step - loss: 0.0479 - mean_absolute_error: 0.1081 - val_loss: 0.0495 - val_mean_absolute_error: 0.1298\n",
            "Epoch 61/1000\n",
            "2321/2321 [==============================] - 6s 2ms/step - loss: 0.0478 - mean_absolute_error: 0.1081 - val_loss: 0.0512 - val_mean_absolute_error: 0.1468\n",
            "Epoch 62/1000\n",
            "2321/2321 [==============================] - 6s 2ms/step - loss: 0.0479 - mean_absolute_error: 0.1082 - val_loss: 0.0498 - val_mean_absolute_error: 0.0815\n",
            "Epoch 63/1000\n",
            "2321/2321 [==============================] - 6s 2ms/step - loss: 0.0479 - mean_absolute_error: 0.1079 - val_loss: 0.0495 - val_mean_absolute_error: 0.0909\n",
            "Epoch 64/1000\n",
            "2321/2321 [==============================] - 6s 2ms/step - loss: 0.0478 - mean_absolute_error: 0.1079 - val_loss: 0.0488 - val_mean_absolute_error: 0.1135\n",
            "Epoch 65/1000\n",
            "2321/2321 [==============================] - 6s 2ms/step - loss: 0.0478 - mean_absolute_error: 0.1078 - val_loss: 0.0496 - val_mean_absolute_error: 0.1309\n",
            "Epoch 66/1000\n",
            "2321/2321 [==============================] - 6s 2ms/step - loss: 0.0478 - mean_absolute_error: 0.1079 - val_loss: 0.0488 - val_mean_absolute_error: 0.1122\n",
            "Epoch 67/1000\n",
            "2321/2321 [==============================] - 6s 2ms/step - loss: 0.0478 - mean_absolute_error: 0.1080 - val_loss: 0.0488 - val_mean_absolute_error: 0.1009\n",
            "Epoch 68/1000\n",
            "2321/2321 [==============================] - 6s 3ms/step - loss: 0.0477 - mean_absolute_error: 0.1078 - val_loss: 0.0488 - val_mean_absolute_error: 0.1051\n",
            "Epoch 69/1000\n",
            "2321/2321 [==============================] - 6s 3ms/step - loss: 0.0478 - mean_absolute_error: 0.1079 - val_loss: 0.0520 - val_mean_absolute_error: 0.1556\n",
            "Epoch 70/1000\n",
            "2321/2321 [==============================] - 6s 2ms/step - loss: 0.0477 - mean_absolute_error: 0.1079 - val_loss: 0.0486 - val_mean_absolute_error: 0.1055\n",
            "Epoch 71/1000\n",
            "2321/2321 [==============================] - 6s 2ms/step - loss: 0.0478 - mean_absolute_error: 0.1078 - val_loss: 0.0491 - val_mean_absolute_error: 0.1122\n",
            "Epoch 72/1000\n",
            "2321/2321 [==============================] - 6s 2ms/step - loss: 0.0476 - mean_absolute_error: 0.1077 - val_loss: 0.0491 - val_mean_absolute_error: 0.0924\n",
            "Epoch 73/1000\n",
            "2321/2321 [==============================] - 6s 3ms/step - loss: 0.0476 - mean_absolute_error: 0.1077 - val_loss: 0.0508 - val_mean_absolute_error: 0.0795\n",
            "Epoch 74/1000\n",
            "2321/2321 [==============================] - 6s 2ms/step - loss: 0.0477 - mean_absolute_error: 0.1078 - val_loss: 0.0495 - val_mean_absolute_error: 0.1210\n",
            "Epoch 75/1000\n",
            "2321/2321 [==============================] - 6s 2ms/step - loss: 0.0477 - mean_absolute_error: 0.1076 - val_loss: 0.0489 - val_mean_absolute_error: 0.1198\n",
            "Epoch 76/1000\n",
            "2321/2321 [==============================] - 6s 2ms/step - loss: 0.0476 - mean_absolute_error: 0.1077 - val_loss: 0.0488 - val_mean_absolute_error: 0.1220\n",
            "Epoch 77/1000\n",
            "2321/2321 [==============================] - 6s 2ms/step - loss: 0.0477 - mean_absolute_error: 0.1077 - val_loss: 0.0486 - val_mean_absolute_error: 0.1013\n",
            "Epoch 78/1000\n",
            "2321/2321 [==============================] - 6s 2ms/step - loss: 0.0476 - mean_absolute_error: 0.1074 - val_loss: 0.0498 - val_mean_absolute_error: 0.0941\n",
            "Epoch 79/1000\n",
            "2321/2321 [==============================] - 6s 2ms/step - loss: 0.0476 - mean_absolute_error: 0.1076 - val_loss: 0.0490 - val_mean_absolute_error: 0.1050\n",
            "Epoch 80/1000\n",
            "2321/2321 [==============================] - 6s 2ms/step - loss: 0.0475 - mean_absolute_error: 0.1076 - val_loss: 0.0485 - val_mean_absolute_error: 0.1109\n",
            "Epoch 81/1000\n",
            "2321/2321 [==============================] - 6s 2ms/step - loss: 0.0475 - mean_absolute_error: 0.1075 - val_loss: 0.0485 - val_mean_absolute_error: 0.1059\n",
            "Epoch 82/1000\n",
            "2321/2321 [==============================] - 6s 2ms/step - loss: 0.0476 - mean_absolute_error: 0.1075 - val_loss: 0.0508 - val_mean_absolute_error: 0.0935\n",
            "Epoch 83/1000\n",
            "2321/2321 [==============================] - 6s 2ms/step - loss: 0.0476 - mean_absolute_error: 0.1077 - val_loss: 0.0487 - val_mean_absolute_error: 0.0976\n",
            "Epoch 84/1000\n",
            "2321/2321 [==============================] - 6s 2ms/step - loss: 0.0475 - mean_absolute_error: 0.1075 - val_loss: 0.0485 - val_mean_absolute_error: 0.0986\n",
            "Epoch 85/1000\n",
            "2321/2321 [==============================] - 6s 2ms/step - loss: 0.0475 - mean_absolute_error: 0.1073 - val_loss: 0.0527 - val_mean_absolute_error: 0.1618\n",
            "Epoch 86/1000\n",
            "2321/2321 [==============================] - 6s 2ms/step - loss: 0.0474 - mean_absolute_error: 0.1076 - val_loss: 0.0488 - val_mean_absolute_error: 0.1062\n",
            "Epoch 87/1000\n",
            "2321/2321 [==============================] - 6s 3ms/step - loss: 0.0474 - mean_absolute_error: 0.1072 - val_loss: 0.0484 - val_mean_absolute_error: 0.1148\n",
            "Epoch 88/1000\n",
            "2321/2321 [==============================] - 6s 2ms/step - loss: 0.0475 - mean_absolute_error: 0.1073 - val_loss: 0.0489 - val_mean_absolute_error: 0.1004\n",
            "Epoch 89/1000\n",
            "2321/2321 [==============================] - 6s 2ms/step - loss: 0.0476 - mean_absolute_error: 0.1077 - val_loss: 0.0490 - val_mean_absolute_error: 0.1294\n",
            "Epoch 90/1000\n",
            "2321/2321 [==============================] - 6s 2ms/step - loss: 0.0474 - mean_absolute_error: 0.1074 - val_loss: 0.0489 - val_mean_absolute_error: 0.1178\n",
            "Epoch 91/1000\n",
            "2321/2321 [==============================] - 6s 2ms/step - loss: 0.0474 - mean_absolute_error: 0.1075 - val_loss: 0.0483 - val_mean_absolute_error: 0.1113\n",
            "Epoch 92/1000\n",
            "2321/2321 [==============================] - 6s 2ms/step - loss: 0.0475 - mean_absolute_error: 0.1075 - val_loss: 0.0484 - val_mean_absolute_error: 0.1038\n",
            "Epoch 93/1000\n",
            "2321/2321 [==============================] - 6s 2ms/step - loss: 0.0474 - mean_absolute_error: 0.1073 - val_loss: 0.0483 - val_mean_absolute_error: 0.1110\n",
            "Epoch 94/1000\n",
            "2321/2321 [==============================] - 6s 2ms/step - loss: 0.0475 - mean_absolute_error: 0.1075 - val_loss: 0.0489 - val_mean_absolute_error: 0.0865\n",
            "Epoch 95/1000\n",
            "2321/2321 [==============================] - 6s 2ms/step - loss: 0.0474 - mean_absolute_error: 0.1072 - val_loss: 0.0482 - val_mean_absolute_error: 0.1070\n",
            "Epoch 96/1000\n",
            "2321/2321 [==============================] - 6s 2ms/step - loss: 0.0474 - mean_absolute_error: 0.1074 - val_loss: 0.0491 - val_mean_absolute_error: 0.1259\n",
            "Epoch 97/1000\n",
            "2321/2321 [==============================] - 6s 2ms/step - loss: 0.0475 - mean_absolute_error: 0.1074 - val_loss: 0.0484 - val_mean_absolute_error: 0.1141\n",
            "Epoch 98/1000\n",
            "2321/2321 [==============================] - 6s 2ms/step - loss: 0.0474 - mean_absolute_error: 0.1074 - val_loss: 0.0482 - val_mean_absolute_error: 0.1051\n",
            "Epoch 99/1000\n",
            "2321/2321 [==============================] - 6s 2ms/step - loss: 0.0473 - mean_absolute_error: 0.1070 - val_loss: 0.0484 - val_mean_absolute_error: 0.1190\n",
            "Epoch 100/1000\n",
            "2321/2321 [==============================] - 6s 2ms/step - loss: 0.0474 - mean_absolute_error: 0.1073 - val_loss: 0.0487 - val_mean_absolute_error: 0.0913\n",
            "Epoch 101/1000\n",
            "2321/2321 [==============================] - 6s 2ms/step - loss: 0.0473 - mean_absolute_error: 0.1072 - val_loss: 0.0489 - val_mean_absolute_error: 0.1290\n",
            "Epoch 102/1000\n",
            "2321/2321 [==============================] - 6s 3ms/step - loss: 0.0473 - mean_absolute_error: 0.1072 - val_loss: 0.0487 - val_mean_absolute_error: 0.1138\n",
            "Epoch 103/1000\n",
            "2321/2321 [==============================] - 6s 2ms/step - loss: 0.0473 - mean_absolute_error: 0.1071 - val_loss: 0.0483 - val_mean_absolute_error: 0.1159\n",
            "Epoch 104/1000\n",
            "2321/2321 [==============================] - 6s 2ms/step - loss: 0.0472 - mean_absolute_error: 0.1069 - val_loss: 0.0485 - val_mean_absolute_error: 0.1223\n",
            "Epoch 105/1000\n",
            "2321/2321 [==============================] - 6s 2ms/step - loss: 0.0473 - mean_absolute_error: 0.1072 - val_loss: 0.0482 - val_mean_absolute_error: 0.1040\n",
            "Epoch 106/1000\n",
            "2321/2321 [==============================] - 6s 2ms/step - loss: 0.0474 - mean_absolute_error: 0.1073 - val_loss: 0.0485 - val_mean_absolute_error: 0.1211\n",
            "Epoch 107/1000\n",
            "2321/2321 [==============================] - 6s 2ms/step - loss: 0.0473 - mean_absolute_error: 0.1073 - val_loss: 0.0481 - val_mean_absolute_error: 0.1113\n",
            "Epoch 108/1000\n",
            "2321/2321 [==============================] - 6s 2ms/step - loss: 0.0473 - mean_absolute_error: 0.1072 - val_loss: 0.0482 - val_mean_absolute_error: 0.1040\n",
            "Epoch 109/1000\n",
            "2321/2321 [==============================] - 6s 2ms/step - loss: 0.0472 - mean_absolute_error: 0.1071 - val_loss: 0.0485 - val_mean_absolute_error: 0.0951\n",
            "Epoch 110/1000\n",
            "2321/2321 [==============================] - 6s 2ms/step - loss: 0.0472 - mean_absolute_error: 0.1071 - val_loss: 0.0484 - val_mean_absolute_error: 0.1152\n",
            "Epoch 111/1000\n",
            "2321/2321 [==============================] - 6s 2ms/step - loss: 0.0473 - mean_absolute_error: 0.1070 - val_loss: 0.0490 - val_mean_absolute_error: 0.1044\n",
            "Epoch 112/1000\n",
            "2321/2321 [==============================] - 6s 2ms/step - loss: 0.0472 - mean_absolute_error: 0.1070 - val_loss: 0.0487 - val_mean_absolute_error: 0.1127\n",
            "Epoch 113/1000\n",
            "2321/2321 [==============================] - 6s 2ms/step - loss: 0.0473 - mean_absolute_error: 0.1070 - val_loss: 0.0484 - val_mean_absolute_error: 0.1044\n",
            "Epoch 114/1000\n",
            "2321/2321 [==============================] - 6s 2ms/step - loss: 0.0472 - mean_absolute_error: 0.1071 - val_loss: 0.0483 - val_mean_absolute_error: 0.0932\n",
            "Epoch 115/1000\n",
            "2321/2321 [==============================] - 6s 2ms/step - loss: 0.0472 - mean_absolute_error: 0.1069 - val_loss: 0.0494 - val_mean_absolute_error: 0.0948\n",
            "Epoch 116/1000\n",
            "2321/2321 [==============================] - 6s 2ms/step - loss: 0.0472 - mean_absolute_error: 0.1070 - val_loss: 0.0480 - val_mean_absolute_error: 0.1059\n",
            "Epoch 117/1000\n",
            "2321/2321 [==============================] - 6s 2ms/step - loss: 0.0471 - mean_absolute_error: 0.1069 - val_loss: 0.0480 - val_mean_absolute_error: 0.1016\n",
            "Epoch 118/1000\n",
            "2321/2321 [==============================] - 6s 2ms/step - loss: 0.0472 - mean_absolute_error: 0.1068 - val_loss: 0.0484 - val_mean_absolute_error: 0.1088\n",
            "Epoch 119/1000\n",
            "2321/2321 [==============================] - 6s 2ms/step - loss: 0.0472 - mean_absolute_error: 0.1070 - val_loss: 0.0487 - val_mean_absolute_error: 0.0847\n",
            "Epoch 120/1000\n",
            "2321/2321 [==============================] - 6s 2ms/step - loss: 0.0471 - mean_absolute_error: 0.1067 - val_loss: 0.0488 - val_mean_absolute_error: 0.0847\n",
            "Epoch 121/1000\n",
            "2321/2321 [==============================] - 6s 2ms/step - loss: 0.0473 - mean_absolute_error: 0.1070 - val_loss: 0.0480 - val_mean_absolute_error: 0.1041\n",
            "Epoch 122/1000\n",
            "2321/2321 [==============================] - 6s 2ms/step - loss: 0.0472 - mean_absolute_error: 0.1069 - val_loss: 0.0489 - val_mean_absolute_error: 0.1260\n",
            "Epoch 123/1000\n",
            "2321/2321 [==============================] - 6s 3ms/step - loss: 0.0472 - mean_absolute_error: 0.1069 - val_loss: 0.0481 - val_mean_absolute_error: 0.1132\n",
            "Epoch 124/1000\n",
            "2321/2321 [==============================] - 6s 2ms/step - loss: 0.0472 - mean_absolute_error: 0.1068 - val_loss: 0.0487 - val_mean_absolute_error: 0.0946\n",
            "Epoch 125/1000\n",
            "2321/2321 [==============================] - 6s 2ms/step - loss: 0.0472 - mean_absolute_error: 0.1071 - val_loss: 0.0480 - val_mean_absolute_error: 0.1056\n",
            "Epoch 126/1000\n",
            "2321/2321 [==============================] - 6s 2ms/step - loss: 0.0472 - mean_absolute_error: 0.1069 - val_loss: 0.0496 - val_mean_absolute_error: 0.0804\n",
            "Epoch 127/1000\n",
            "2321/2321 [==============================] - 6s 2ms/step - loss: 0.0472 - mean_absolute_error: 0.1068 - val_loss: 0.0480 - val_mean_absolute_error: 0.1085\n",
            "Epoch 128/1000\n",
            "2321/2321 [==============================] - 6s 2ms/step - loss: 0.0470 - mean_absolute_error: 0.1066 - val_loss: 0.0497 - val_mean_absolute_error: 0.1420\n",
            "Epoch 129/1000\n",
            "2321/2321 [==============================] - 6s 2ms/step - loss: 0.0472 - mean_absolute_error: 0.1071 - val_loss: 0.0484 - val_mean_absolute_error: 0.0883\n",
            "Epoch 130/1000\n",
            "2321/2321 [==============================] - 6s 2ms/step - loss: 0.0472 - mean_absolute_error: 0.1069 - val_loss: 0.0479 - val_mean_absolute_error: 0.1054\n",
            "Epoch 131/1000\n",
            "2321/2321 [==============================] - 6s 3ms/step - loss: 0.0470 - mean_absolute_error: 0.1067 - val_loss: 0.0489 - val_mean_absolute_error: 0.1268\n",
            "Epoch 132/1000\n",
            "2321/2321 [==============================] - 6s 2ms/step - loss: 0.0470 - mean_absolute_error: 0.1065 - val_loss: 0.0491 - val_mean_absolute_error: 0.0943\n",
            "Epoch 133/1000\n",
            "2321/2321 [==============================] - 6s 2ms/step - loss: 0.0471 - mean_absolute_error: 0.1068 - val_loss: 0.0488 - val_mean_absolute_error: 0.1321\n",
            "Epoch 134/1000\n",
            "2321/2321 [==============================] - 6s 2ms/step - loss: 0.0470 - mean_absolute_error: 0.1066 - val_loss: 0.0482 - val_mean_absolute_error: 0.1074\n",
            "Epoch 135/1000\n",
            "2321/2321 [==============================] - 6s 2ms/step - loss: 0.0471 - mean_absolute_error: 0.1066 - val_loss: 0.0489 - val_mean_absolute_error: 0.1334\n",
            "Epoch 136/1000\n",
            "2321/2321 [==============================] - 6s 2ms/step - loss: 0.0470 - mean_absolute_error: 0.1067 - val_loss: 0.0483 - val_mean_absolute_error: 0.1221\n",
            "Epoch 137/1000\n",
            "2321/2321 [==============================] - 6s 2ms/step - loss: 0.0471 - mean_absolute_error: 0.1068 - val_loss: 0.0499 - val_mean_absolute_error: 0.0819\n",
            "Epoch 138/1000\n",
            "2321/2321 [==============================] - 6s 2ms/step - loss: 0.0470 - mean_absolute_error: 0.1067 - val_loss: 0.0486 - val_mean_absolute_error: 0.1194\n",
            "Epoch 139/1000\n",
            "2321/2321 [==============================] - 6s 2ms/step - loss: 0.0470 - mean_absolute_error: 0.1066 - val_loss: 0.0480 - val_mean_absolute_error: 0.1182\n",
            "Epoch 140/1000\n",
            "2321/2321 [==============================] - 6s 2ms/step - loss: 0.0471 - mean_absolute_error: 0.1067 - val_loss: 0.0481 - val_mean_absolute_error: 0.0969\n",
            "Epoch 141/1000\n",
            "2321/2321 [==============================] - 6s 2ms/step - loss: 0.0470 - mean_absolute_error: 0.1068 - val_loss: 0.0486 - val_mean_absolute_error: 0.1300\n",
            "Epoch 142/1000\n",
            "2321/2321 [==============================] - 6s 2ms/step - loss: 0.0470 - mean_absolute_error: 0.1066 - val_loss: 0.0498 - val_mean_absolute_error: 0.0872\n",
            "Epoch 143/1000\n",
            "2321/2321 [==============================] - 6s 2ms/step - loss: 0.0470 - mean_absolute_error: 0.1066 - val_loss: 0.0482 - val_mean_absolute_error: 0.1142\n",
            "Epoch 144/1000\n",
            "2321/2321 [==============================] - 6s 2ms/step - loss: 0.0471 - mean_absolute_error: 0.1068 - val_loss: 0.0503 - val_mean_absolute_error: 0.1471\n",
            "Epoch 145/1000\n",
            "2321/2321 [==============================] - 6s 3ms/step - loss: 0.0470 - mean_absolute_error: 0.1067 - val_loss: 0.0483 - val_mean_absolute_error: 0.0929\n",
            "Epoch 146/1000\n",
            "2321/2321 [==============================] - 6s 2ms/step - loss: 0.0470 - mean_absolute_error: 0.1065 - val_loss: 0.0495 - val_mean_absolute_error: 0.1391\n",
            "Epoch 147/1000\n",
            "2321/2321 [==============================] - 6s 2ms/step - loss: 0.0471 - mean_absolute_error: 0.1068 - val_loss: 0.0482 - val_mean_absolute_error: 0.1239\n",
            "Epoch 148/1000\n",
            "2321/2321 [==============================] - 6s 2ms/step - loss: 0.0470 - mean_absolute_error: 0.1067 - val_loss: 0.0478 - val_mean_absolute_error: 0.0993\n",
            "Epoch 149/1000\n",
            "2321/2321 [==============================] - 6s 2ms/step - loss: 0.0470 - mean_absolute_error: 0.1068 - val_loss: 0.0487 - val_mean_absolute_error: 0.0818\n",
            "Epoch 150/1000\n",
            "2321/2321 [==============================] - 6s 2ms/step - loss: 0.0469 - mean_absolute_error: 0.1065 - val_loss: 0.0482 - val_mean_absolute_error: 0.0928\n",
            "Epoch 151/1000\n",
            "2321/2321 [==============================] - 6s 2ms/step - loss: 0.0470 - mean_absolute_error: 0.1067 - val_loss: 0.0482 - val_mean_absolute_error: 0.1243\n",
            "Epoch 152/1000\n",
            "2321/2321 [==============================] - 6s 2ms/step - loss: 0.0470 - mean_absolute_error: 0.1067 - val_loss: 0.0478 - val_mean_absolute_error: 0.1060\n",
            "Epoch 153/1000\n",
            "2321/2321 [==============================] - 6s 2ms/step - loss: 0.0469 - mean_absolute_error: 0.1063 - val_loss: 0.0480 - val_mean_absolute_error: 0.1072\n",
            "Epoch 154/1000\n",
            "2321/2321 [==============================] - 6s 2ms/step - loss: 0.0470 - mean_absolute_error: 0.1065 - val_loss: 0.0492 - val_mean_absolute_error: 0.1278\n",
            "Epoch 155/1000\n",
            "2321/2321 [==============================] - 6s 3ms/step - loss: 0.0469 - mean_absolute_error: 0.1067 - val_loss: 0.0479 - val_mean_absolute_error: 0.1133\n",
            "Epoch 156/1000\n",
            "2321/2321 [==============================] - 6s 2ms/step - loss: 0.0469 - mean_absolute_error: 0.1061 - val_loss: 0.0492 - val_mean_absolute_error: 0.0959\n",
            "Epoch 157/1000\n",
            "2321/2321 [==============================] - 6s 2ms/step - loss: 0.0470 - mean_absolute_error: 0.1067 - val_loss: 0.0509 - val_mean_absolute_error: 0.0685\n",
            "Epoch 158/1000\n",
            "2321/2321 [==============================] - 6s 2ms/step - loss: 0.0469 - mean_absolute_error: 0.1064 - val_loss: 0.0485 - val_mean_absolute_error: 0.1031\n",
            "Epoch 159/1000\n",
            "2321/2321 [==============================] - 6s 2ms/step - loss: 0.0469 - mean_absolute_error: 0.1064 - val_loss: 0.0478 - val_mean_absolute_error: 0.1039\n",
            "Epoch 160/1000\n",
            "2321/2321 [==============================] - 6s 3ms/step - loss: 0.0470 - mean_absolute_error: 0.1066 - val_loss: 0.0482 - val_mean_absolute_error: 0.1129\n",
            "Epoch 161/1000\n",
            "2321/2321 [==============================] - 6s 2ms/step - loss: 0.0470 - mean_absolute_error: 0.1066 - val_loss: 0.0478 - val_mean_absolute_error: 0.1038\n",
            "Epoch 162/1000\n",
            "2321/2321 [==============================] - 6s 2ms/step - loss: 0.0469 - mean_absolute_error: 0.1065 - val_loss: 0.0478 - val_mean_absolute_error: 0.1068\n",
            "Epoch 163/1000\n",
            "2321/2321 [==============================] - 6s 2ms/step - loss: 0.0469 - mean_absolute_error: 0.1063 - val_loss: 0.0488 - val_mean_absolute_error: 0.1168\n",
            "Epoch 164/1000\n",
            "2321/2321 [==============================] - 6s 2ms/step - loss: 0.0470 - mean_absolute_error: 0.1068 - val_loss: 0.0479 - val_mean_absolute_error: 0.1162\n",
            "Epoch 165/1000\n",
            "2321/2321 [==============================] - 6s 2ms/step - loss: 0.0469 - mean_absolute_error: 0.1064 - val_loss: 0.0528 - val_mean_absolute_error: 0.1635\n",
            "Epoch 166/1000\n",
            "2321/2321 [==============================] - 6s 2ms/step - loss: 0.0469 - mean_absolute_error: 0.1064 - val_loss: 0.0485 - val_mean_absolute_error: 0.1288\n",
            "Epoch 167/1000\n",
            "2321/2321 [==============================] - 6s 2ms/step - loss: 0.0469 - mean_absolute_error: 0.1064 - val_loss: 0.0477 - val_mean_absolute_error: 0.1131\n",
            "Epoch 168/1000\n",
            "2321/2321 [==============================] - 6s 2ms/step - loss: 0.0469 - mean_absolute_error: 0.1064 - val_loss: 0.0478 - val_mean_absolute_error: 0.1183\n",
            "Epoch 169/1000\n",
            "2321/2321 [==============================] - 6s 2ms/step - loss: 0.0470 - mean_absolute_error: 0.1066 - val_loss: 0.0483 - val_mean_absolute_error: 0.1278\n",
            "Epoch 170/1000\n",
            "2321/2321 [==============================] - 6s 2ms/step - loss: 0.0468 - mean_absolute_error: 0.1063 - val_loss: 0.0488 - val_mean_absolute_error: 0.0807\n",
            "Epoch 171/1000\n",
            "2321/2321 [==============================] - 6s 2ms/step - loss: 0.0468 - mean_absolute_error: 0.1064 - val_loss: 0.0476 - val_mean_absolute_error: 0.1079\n",
            "Epoch 172/1000\n",
            "2321/2321 [==============================] - 6s 2ms/step - loss: 0.0469 - mean_absolute_error: 0.1063 - val_loss: 0.0480 - val_mean_absolute_error: 0.1211\n",
            "Epoch 173/1000\n",
            "2321/2321 [==============================] - 6s 2ms/step - loss: 0.0468 - mean_absolute_error: 0.1064 - val_loss: 0.0476 - val_mean_absolute_error: 0.1047\n",
            "Epoch 174/1000\n",
            "2321/2321 [==============================] - 6s 3ms/step - loss: 0.0470 - mean_absolute_error: 0.1065 - val_loss: 0.0494 - val_mean_absolute_error: 0.0867\n",
            "Epoch 175/1000\n",
            "2321/2321 [==============================] - 6s 2ms/step - loss: 0.0469 - mean_absolute_error: 0.1065 - val_loss: 0.0482 - val_mean_absolute_error: 0.1261\n",
            "Epoch 176/1000\n",
            "2321/2321 [==============================] - 6s 2ms/step - loss: 0.0469 - mean_absolute_error: 0.1064 - val_loss: 0.0477 - val_mean_absolute_error: 0.0991\n",
            "Epoch 177/1000\n",
            "2321/2321 [==============================] - 6s 2ms/step - loss: 0.0468 - mean_absolute_error: 0.1063 - val_loss: 0.0477 - val_mean_absolute_error: 0.1145\n",
            "Epoch 178/1000\n",
            "2321/2321 [==============================] - 6s 3ms/step - loss: 0.0468 - mean_absolute_error: 0.1063 - val_loss: 0.0483 - val_mean_absolute_error: 0.1286\n",
            "Epoch 179/1000\n",
            "2321/2321 [==============================] - 6s 2ms/step - loss: 0.0469 - mean_absolute_error: 0.1063 - val_loss: 0.0497 - val_mean_absolute_error: 0.0763\n",
            "Epoch 180/1000\n",
            "2321/2321 [==============================] - 6s 2ms/step - loss: 0.0469 - mean_absolute_error: 0.1063 - val_loss: 0.0476 - val_mean_absolute_error: 0.1138\n",
            "Epoch 181/1000\n",
            "2321/2321 [==============================] - 6s 2ms/step - loss: 0.0468 - mean_absolute_error: 0.1064 - val_loss: 0.0479 - val_mean_absolute_error: 0.0906\n",
            "Epoch 182/1000\n",
            "2321/2321 [==============================] - 6s 2ms/step - loss: 0.0469 - mean_absolute_error: 0.1062 - val_loss: 0.0485 - val_mean_absolute_error: 0.0895\n",
            "Epoch 183/1000\n",
            "2321/2321 [==============================] - 6s 2ms/step - loss: 0.0468 - mean_absolute_error: 0.1064 - val_loss: 0.0481 - val_mean_absolute_error: 0.0871\n",
            "Epoch 184/1000\n",
            "2321/2321 [==============================] - 6s 2ms/step - loss: 0.0468 - mean_absolute_error: 0.1062 - val_loss: 0.0485 - val_mean_absolute_error: 0.1275\n",
            "Epoch 185/1000\n",
            "2321/2321 [==============================] - 6s 2ms/step - loss: 0.0469 - mean_absolute_error: 0.1064 - val_loss: 0.0486 - val_mean_absolute_error: 0.0871\n",
            "Epoch 186/1000\n",
            "2321/2321 [==============================] - 6s 2ms/step - loss: 0.0467 - mean_absolute_error: 0.1060 - val_loss: 0.0481 - val_mean_absolute_error: 0.0893\n",
            "Epoch 187/1000\n",
            "2321/2321 [==============================] - 6s 2ms/step - loss: 0.0468 - mean_absolute_error: 0.1063 - val_loss: 0.0480 - val_mean_absolute_error: 0.1157\n",
            "Epoch 188/1000\n",
            "2321/2321 [==============================] - 6s 2ms/step - loss: 0.0468 - mean_absolute_error: 0.1065 - val_loss: 0.0477 - val_mean_absolute_error: 0.0991\n",
            "Epoch 189/1000\n",
            "2321/2321 [==============================] - 6s 3ms/step - loss: 0.0468 - mean_absolute_error: 0.1063 - val_loss: 0.0482 - val_mean_absolute_error: 0.1247\n",
            "Epoch 190/1000\n",
            "2321/2321 [==============================] - 6s 2ms/step - loss: 0.0469 - mean_absolute_error: 0.1062 - val_loss: 0.0479 - val_mean_absolute_error: 0.1182\n",
            "Epoch 191/1000\n",
            "2321/2321 [==============================] - 6s 2ms/step - loss: 0.0468 - mean_absolute_error: 0.1064 - val_loss: 0.0479 - val_mean_absolute_error: 0.0897\n",
            "Epoch 192/1000\n",
            "2321/2321 [==============================] - 6s 2ms/step - loss: 0.0468 - mean_absolute_error: 0.1062 - val_loss: 0.0487 - val_mean_absolute_error: 0.0792\n",
            "Epoch 193/1000\n",
            "2321/2321 [==============================] - 6s 2ms/step - loss: 0.0469 - mean_absolute_error: 0.1063 - val_loss: 0.0481 - val_mean_absolute_error: 0.0853\n",
            "Epoch 194/1000\n",
            "2321/2321 [==============================] - 6s 2ms/step - loss: 0.0468 - mean_absolute_error: 0.1061 - val_loss: 0.0479 - val_mean_absolute_error: 0.0943\n",
            "Epoch 195/1000\n",
            "2321/2321 [==============================] - 6s 2ms/step - loss: 0.0468 - mean_absolute_error: 0.1062 - val_loss: 0.0487 - val_mean_absolute_error: 0.0785\n",
            "Epoch 196/1000\n",
            "2321/2321 [==============================] - 6s 2ms/step - loss: 0.0468 - mean_absolute_error: 0.1060 - val_loss: 0.0500 - val_mean_absolute_error: 0.1477\n",
            "Epoch 197/1000\n",
            "2321/2321 [==============================] - 6s 2ms/step - loss: 0.0468 - mean_absolute_error: 0.1062 - val_loss: 0.0489 - val_mean_absolute_error: 0.1359\n",
            "Epoch 198/1000\n",
            "2321/2321 [==============================] - 6s 2ms/step - loss: 0.0468 - mean_absolute_error: 0.1065 - val_loss: 0.0475 - val_mean_absolute_error: 0.1085\n",
            "Epoch 199/1000\n",
            "2321/2321 [==============================] - 6s 2ms/step - loss: 0.0469 - mean_absolute_error: 0.1063 - val_loss: 0.0476 - val_mean_absolute_error: 0.1117\n",
            "Epoch 200/1000\n",
            "2321/2321 [==============================] - 6s 2ms/step - loss: 0.0468 - mean_absolute_error: 0.1064 - val_loss: 0.0477 - val_mean_absolute_error: 0.0988\n",
            "Epoch 201/1000\n",
            "2321/2321 [==============================] - 6s 2ms/step - loss: 0.0468 - mean_absolute_error: 0.1063 - val_loss: 0.0483 - val_mean_absolute_error: 0.0864\n",
            "Epoch 202/1000\n",
            "2321/2321 [==============================] - 6s 2ms/step - loss: 0.0468 - mean_absolute_error: 0.1062 - val_loss: 0.0485 - val_mean_absolute_error: 0.0871\n",
            "Epoch 203/1000\n",
            "2321/2321 [==============================] - 6s 3ms/step - loss: 0.0468 - mean_absolute_error: 0.1062 - val_loss: 0.0476 - val_mean_absolute_error: 0.0979\n",
            "Epoch 204/1000\n",
            "2321/2321 [==============================] - 6s 2ms/step - loss: 0.0467 - mean_absolute_error: 0.1062 - val_loss: 0.0486 - val_mean_absolute_error: 0.0776\n",
            "Epoch 205/1000\n",
            "2321/2321 [==============================] - 6s 2ms/step - loss: 0.0468 - mean_absolute_error: 0.1061 - val_loss: 0.0485 - val_mean_absolute_error: 0.0870\n",
            "Epoch 206/1000\n",
            "2321/2321 [==============================] - 6s 2ms/step - loss: 0.0467 - mean_absolute_error: 0.1060 - val_loss: 0.0480 - val_mean_absolute_error: 0.1266\n",
            "Epoch 207/1000\n",
            "2321/2321 [==============================] - 6s 2ms/step - loss: 0.0468 - mean_absolute_error: 0.1063 - val_loss: 0.0482 - val_mean_absolute_error: 0.1287\n",
            "Epoch 208/1000\n",
            "2321/2321 [==============================] - 6s 2ms/step - loss: 0.0467 - mean_absolute_error: 0.1061 - val_loss: 0.0475 - val_mean_absolute_error: 0.0971\n",
            "Epoch 209/1000\n",
            "2321/2321 [==============================] - 6s 2ms/step - loss: 0.0468 - mean_absolute_error: 0.1062 - val_loss: 0.0479 - val_mean_absolute_error: 0.1189\n",
            "Epoch 210/1000\n",
            "2321/2321 [==============================] - 6s 2ms/step - loss: 0.0467 - mean_absolute_error: 0.1061 - val_loss: 0.0478 - val_mean_absolute_error: 0.0899\n",
            "Epoch 211/1000\n",
            "2321/2321 [==============================] - 6s 2ms/step - loss: 0.0467 - mean_absolute_error: 0.1059 - val_loss: 0.0480 - val_mean_absolute_error: 0.0851\n",
            "Epoch 212/1000\n",
            "2321/2321 [==============================] - 6s 2ms/step - loss: 0.0466 - mean_absolute_error: 0.1060 - val_loss: 0.0474 - val_mean_absolute_error: 0.1099\n",
            "Epoch 213/1000\n",
            "2321/2321 [==============================] - 6s 2ms/step - loss: 0.0467 - mean_absolute_error: 0.1062 - val_loss: 0.0477 - val_mean_absolute_error: 0.0970\n",
            "Epoch 214/1000\n",
            "2321/2321 [==============================] - 6s 2ms/step - loss: 0.0468 - mean_absolute_error: 0.1062 - val_loss: 0.0475 - val_mean_absolute_error: 0.1104\n",
            "Epoch 215/1000\n",
            "2321/2321 [==============================] - 6s 2ms/step - loss: 0.0467 - mean_absolute_error: 0.1061 - val_loss: 0.0474 - val_mean_absolute_error: 0.1098\n",
            "Epoch 216/1000\n",
            "2321/2321 [==============================] - 6s 2ms/step - loss: 0.0467 - mean_absolute_error: 0.1059 - val_loss: 0.0475 - val_mean_absolute_error: 0.1145\n",
            "Epoch 217/1000\n",
            "2321/2321 [==============================] - 6s 2ms/step - loss: 0.0467 - mean_absolute_error: 0.1060 - val_loss: 0.0474 - val_mean_absolute_error: 0.1115\n",
            "Epoch 218/1000\n",
            "2321/2321 [==============================] - 6s 3ms/step - loss: 0.0467 - mean_absolute_error: 0.1062 - val_loss: 0.0477 - val_mean_absolute_error: 0.1217\n",
            "Epoch 219/1000\n",
            "2321/2321 [==============================] - 6s 2ms/step - loss: 0.0467 - mean_absolute_error: 0.1060 - val_loss: 0.0480 - val_mean_absolute_error: 0.0940\n",
            "Epoch 220/1000\n",
            "2321/2321 [==============================] - 6s 2ms/step - loss: 0.0467 - mean_absolute_error: 0.1063 - val_loss: 0.0474 - val_mean_absolute_error: 0.1003\n",
            "Epoch 221/1000\n",
            "2321/2321 [==============================] - 6s 2ms/step - loss: 0.0466 - mean_absolute_error: 0.1060 - val_loss: 0.0478 - val_mean_absolute_error: 0.1208\n",
            "Epoch 222/1000\n",
            "2321/2321 [==============================] - 6s 2ms/step - loss: 0.0467 - mean_absolute_error: 0.1062 - val_loss: 0.0482 - val_mean_absolute_error: 0.1283\n",
            "Epoch 223/1000\n",
            "2321/2321 [==============================] - 6s 2ms/step - loss: 0.0466 - mean_absolute_error: 0.1060 - val_loss: 0.0475 - val_mean_absolute_error: 0.1164\n",
            "Epoch 224/1000\n",
            "2321/2321 [==============================] - 6s 2ms/step - loss: 0.0467 - mean_absolute_error: 0.1060 - val_loss: 0.0496 - val_mean_absolute_error: 0.0966\n",
            "Epoch 225/1000\n",
            "2321/2321 [==============================] - 6s 2ms/step - loss: 0.0467 - mean_absolute_error: 0.1061 - val_loss: 0.0483 - val_mean_absolute_error: 0.1113\n",
            "Epoch 226/1000\n",
            "2321/2321 [==============================] - 6s 2ms/step - loss: 0.0468 - mean_absolute_error: 0.1063 - val_loss: 0.0474 - val_mean_absolute_error: 0.1093\n",
            "Epoch 227/1000\n",
            "2321/2321 [==============================] - 6s 2ms/step - loss: 0.0468 - mean_absolute_error: 0.1062 - val_loss: 0.0496 - val_mean_absolute_error: 0.1409\n",
            "Epoch 228/1000\n",
            "2321/2321 [==============================] - 6s 2ms/step - loss: 0.0467 - mean_absolute_error: 0.1061 - val_loss: 0.0477 - val_mean_absolute_error: 0.0915\n",
            "Epoch 229/1000\n",
            "2321/2321 [==============================] - 6s 2ms/step - loss: 0.0467 - mean_absolute_error: 0.1061 - val_loss: 0.0479 - val_mean_absolute_error: 0.1249\n",
            "Epoch 230/1000\n",
            "2321/2321 [==============================] - 6s 2ms/step - loss: 0.0467 - mean_absolute_error: 0.1061 - val_loss: 0.0477 - val_mean_absolute_error: 0.1015\n",
            "Epoch 231/1000\n",
            "2321/2321 [==============================] - 6s 2ms/step - loss: 0.0465 - mean_absolute_error: 0.1057 - val_loss: 0.0478 - val_mean_absolute_error: 0.1233\n",
            "Epoch 232/1000\n",
            "2321/2321 [==============================] - 6s 3ms/step - loss: 0.0466 - mean_absolute_error: 0.1060 - val_loss: 0.0477 - val_mean_absolute_error: 0.1230\n",
            "Epoch 233/1000\n",
            "2321/2321 [==============================] - 6s 3ms/step - loss: 0.0467 - mean_absolute_error: 0.1060 - val_loss: 0.0484 - val_mean_absolute_error: 0.1335\n",
            "Epoch 234/1000\n",
            "2321/2321 [==============================] - 6s 2ms/step - loss: 0.0467 - mean_absolute_error: 0.1061 - val_loss: 0.0484 - val_mean_absolute_error: 0.1260\n",
            "Epoch 235/1000\n",
            "2321/2321 [==============================] - 6s 2ms/step - loss: 0.0467 - mean_absolute_error: 0.1061 - val_loss: 0.0479 - val_mean_absolute_error: 0.1232\n",
            "Epoch 236/1000\n",
            "2321/2321 [==============================] - 6s 2ms/step - loss: 0.0466 - mean_absolute_error: 0.1059 - val_loss: 0.0495 - val_mean_absolute_error: 0.0801\n",
            "Epoch 237/1000\n",
            "2321/2321 [==============================] - 6s 2ms/step - loss: 0.0467 - mean_absolute_error: 0.1062 - val_loss: 0.0488 - val_mean_absolute_error: 0.0818\n",
            "Epoch 238/1000\n",
            "2321/2321 [==============================] - 6s 2ms/step - loss: 0.0467 - mean_absolute_error: 0.1060 - val_loss: 0.0474 - val_mean_absolute_error: 0.1034\n",
            "Epoch 239/1000\n",
            "2321/2321 [==============================] - 6s 2ms/step - loss: 0.0466 - mean_absolute_error: 0.1058 - val_loss: 0.0476 - val_mean_absolute_error: 0.0970\n",
            "Epoch 240/1000\n",
            "2321/2321 [==============================] - 6s 2ms/step - loss: 0.0466 - mean_absolute_error: 0.1059 - val_loss: 0.0477 - val_mean_absolute_error: 0.1227\n",
            "Epoch 241/1000\n",
            "2321/2321 [==============================] - 6s 2ms/step - loss: 0.0465 - mean_absolute_error: 0.1057 - val_loss: 0.0479 - val_mean_absolute_error: 0.0859\n",
            "Epoch 242/1000\n",
            "2321/2321 [==============================] - 6s 2ms/step - loss: 0.0465 - mean_absolute_error: 0.1058 - val_loss: 0.0485 - val_mean_absolute_error: 0.0818\n",
            "Epoch 243/1000\n",
            "2321/2321 [==============================] - 6s 2ms/step - loss: 0.0466 - mean_absolute_error: 0.1059 - val_loss: 0.0475 - val_mean_absolute_error: 0.1101\n",
            "Epoch 244/1000\n",
            "2321/2321 [==============================] - 6s 2ms/step - loss: 0.0466 - mean_absolute_error: 0.1058 - val_loss: 0.0487 - val_mean_absolute_error: 0.0896\n",
            "Epoch 245/1000\n",
            "2321/2321 [==============================] - 6s 2ms/step - loss: 0.0468 - mean_absolute_error: 0.1062 - val_loss: 0.0476 - val_mean_absolute_error: 0.0947\n",
            "Epoch 246/1000\n",
            "2321/2321 [==============================] - 6s 2ms/step - loss: 0.0466 - mean_absolute_error: 0.1059 - val_loss: 0.0475 - val_mean_absolute_error: 0.0981\n",
            "Epoch 247/1000\n",
            "2321/2321 [==============================] - 6s 3ms/step - loss: 0.0467 - mean_absolute_error: 0.1060 - val_loss: 0.0483 - val_mean_absolute_error: 0.1328\n",
            "Epoch 248/1000\n",
            "2321/2321 [==============================] - 6s 2ms/step - loss: 0.0466 - mean_absolute_error: 0.1059 - val_loss: 0.0524 - val_mean_absolute_error: 0.1636\n",
            "Epoch 249/1000\n",
            "2321/2321 [==============================] - 6s 2ms/step - loss: 0.0466 - mean_absolute_error: 0.1061 - val_loss: 0.0474 - val_mean_absolute_error: 0.1133\n",
            "Epoch 250/1000\n",
            "2321/2321 [==============================] - 6s 2ms/step - loss: 0.0466 - mean_absolute_error: 0.1059 - val_loss: 0.0478 - val_mean_absolute_error: 0.1159\n",
            "Epoch 251/1000\n",
            "2321/2321 [==============================] - 6s 2ms/step - loss: 0.0466 - mean_absolute_error: 0.1060 - val_loss: 0.0478 - val_mean_absolute_error: 0.0877\n",
            "Epoch 252/1000\n",
            "2321/2321 [==============================] - 6s 2ms/step - loss: 0.0466 - mean_absolute_error: 0.1059 - val_loss: 0.0474 - val_mean_absolute_error: 0.0963\n",
            "Epoch 253/1000\n",
            "2321/2321 [==============================] - 6s 2ms/step - loss: 0.0466 - mean_absolute_error: 0.1059 - val_loss: 0.0485 - val_mean_absolute_error: 0.0772\n",
            "Epoch 254/1000\n",
            "2321/2321 [==============================] - 6s 2ms/step - loss: 0.0465 - mean_absolute_error: 0.1055 - val_loss: 0.0540 - val_mean_absolute_error: 0.1735\n",
            "Epoch 255/1000\n",
            "2321/2321 [==============================] - 6s 2ms/step - loss: 0.0466 - mean_absolute_error: 0.1061 - val_loss: 0.0480 - val_mean_absolute_error: 0.0842\n",
            "Epoch 256/1000\n",
            "2321/2321 [==============================] - 6s 2ms/step - loss: 0.0466 - mean_absolute_error: 0.1059 - val_loss: 0.0477 - val_mean_absolute_error: 0.0975\n",
            "Epoch 257/1000\n",
            "2321/2321 [==============================] - 6s 2ms/step - loss: 0.0466 - mean_absolute_error: 0.1058 - val_loss: 0.0497 - val_mean_absolute_error: 0.1472\n",
            "Epoch 258/1000\n",
            "2321/2321 [==============================] - 6s 2ms/step - loss: 0.0465 - mean_absolute_error: 0.1059 - val_loss: 0.0490 - val_mean_absolute_error: 0.1394\n",
            "Epoch 259/1000\n",
            "2321/2321 [==============================] - 6s 2ms/step - loss: 0.0465 - mean_absolute_error: 0.1059 - val_loss: 0.0472 - val_mean_absolute_error: 0.1047\n",
            "Epoch 260/1000\n",
            "2321/2321 [==============================] - 6s 2ms/step - loss: 0.0466 - mean_absolute_error: 0.1059 - val_loss: 0.0473 - val_mean_absolute_error: 0.1003\n",
            "Epoch 261/1000\n",
            "2321/2321 [==============================] - 6s 3ms/step - loss: 0.0466 - mean_absolute_error: 0.1060 - val_loss: 0.0476 - val_mean_absolute_error: 0.0911\n",
            "Epoch 262/1000\n",
            "2321/2321 [==============================] - 6s 3ms/step - loss: 0.0465 - mean_absolute_error: 0.1057 - val_loss: 0.0489 - val_mean_absolute_error: 0.1368\n",
            "Epoch 263/1000\n",
            "2321/2321 [==============================] - 6s 2ms/step - loss: 0.0465 - mean_absolute_error: 0.1059 - val_loss: 0.0489 - val_mean_absolute_error: 0.0841\n",
            "Epoch 264/1000\n",
            "2321/2321 [==============================] - 6s 2ms/step - loss: 0.0465 - mean_absolute_error: 0.1058 - val_loss: 0.0486 - val_mean_absolute_error: 0.0850\n",
            "Epoch 265/1000\n",
            "2321/2321 [==============================] - 6s 2ms/step - loss: 0.0465 - mean_absolute_error: 0.1060 - val_loss: 0.0476 - val_mean_absolute_error: 0.0904\n",
            "Epoch 266/1000\n",
            "2321/2321 [==============================] - 6s 2ms/step - loss: 0.0465 - mean_absolute_error: 0.1057 - val_loss: 0.0473 - val_mean_absolute_error: 0.1075\n",
            "Epoch 267/1000\n",
            "2321/2321 [==============================] - 6s 2ms/step - loss: 0.0466 - mean_absolute_error: 0.1061 - val_loss: 0.0472 - val_mean_absolute_error: 0.1030\n",
            "Epoch 268/1000\n",
            "2321/2321 [==============================] - 6s 2ms/step - loss: 0.0466 - mean_absolute_error: 0.1059 - val_loss: 0.0477 - val_mean_absolute_error: 0.1228\n",
            "Epoch 269/1000\n",
            "2321/2321 [==============================] - 6s 2ms/step - loss: 0.0466 - mean_absolute_error: 0.1059 - val_loss: 0.0473 - val_mean_absolute_error: 0.1000\n",
            "Epoch 270/1000\n",
            "2321/2321 [==============================] - 6s 2ms/step - loss: 0.0465 - mean_absolute_error: 0.1058 - val_loss: 0.0528 - val_mean_absolute_error: 0.1643\n",
            "Epoch 271/1000\n",
            "2321/2321 [==============================] - 6s 2ms/step - loss: 0.0466 - mean_absolute_error: 0.1058 - val_loss: 0.0472 - val_mean_absolute_error: 0.1082\n",
            "Epoch 272/1000\n",
            "2321/2321 [==============================] - 6s 2ms/step - loss: 0.0466 - mean_absolute_error: 0.1058 - val_loss: 0.0493 - val_mean_absolute_error: 0.0708\n",
            "Epoch 273/1000\n",
            "2321/2321 [==============================] - 6s 2ms/step - loss: 0.0465 - mean_absolute_error: 0.1057 - val_loss: 0.0478 - val_mean_absolute_error: 0.1228\n",
            "Epoch 274/1000\n",
            "2321/2321 [==============================] - 6s 3ms/step - loss: 0.0466 - mean_absolute_error: 0.1059 - val_loss: 0.0474 - val_mean_absolute_error: 0.0939\n",
            "Epoch 275/1000\n",
            "2321/2321 [==============================] - 6s 2ms/step - loss: 0.0466 - mean_absolute_error: 0.1057 - val_loss: 0.0474 - val_mean_absolute_error: 0.1172\n",
            "Epoch 276/1000\n",
            "2321/2321 [==============================] - 6s 3ms/step - loss: 0.0466 - mean_absolute_error: 0.1059 - val_loss: 0.0478 - val_mean_absolute_error: 0.0849\n",
            "Epoch 277/1000\n",
            "2321/2321 [==============================] - 6s 2ms/step - loss: 0.0466 - mean_absolute_error: 0.1058 - val_loss: 0.0472 - val_mean_absolute_error: 0.1012\n",
            "Epoch 278/1000\n",
            "2321/2321 [==============================] - 6s 2ms/step - loss: 0.0465 - mean_absolute_error: 0.1057 - val_loss: 0.0483 - val_mean_absolute_error: 0.1286\n",
            "Epoch 279/1000\n",
            "2321/2321 [==============================] - 6s 2ms/step - loss: 0.0465 - mean_absolute_error: 0.1056 - val_loss: 0.0482 - val_mean_absolute_error: 0.1166\n",
            "Epoch 280/1000\n",
            "2321/2321 [==============================] - 6s 2ms/step - loss: 0.0465 - mean_absolute_error: 0.1060 - val_loss: 0.0495 - val_mean_absolute_error: 0.1391\n",
            "Epoch 281/1000\n",
            "2321/2321 [==============================] - 6s 2ms/step - loss: 0.0465 - mean_absolute_error: 0.1057 - val_loss: 0.0473 - val_mean_absolute_error: 0.1010\n",
            "Epoch 282/1000\n",
            "2321/2321 [==============================] - 6s 2ms/step - loss: 0.0465 - mean_absolute_error: 0.1058 - val_loss: 0.0478 - val_mean_absolute_error: 0.1118\n",
            "Epoch 283/1000\n",
            "2321/2321 [==============================] - 6s 2ms/step - loss: 0.0464 - mean_absolute_error: 0.1057 - val_loss: 0.0476 - val_mean_absolute_error: 0.1213\n",
            "Epoch 284/1000\n",
            "2321/2321 [==============================] - 6s 2ms/step - loss: 0.0464 - mean_absolute_error: 0.1057 - val_loss: 0.0478 - val_mean_absolute_error: 0.1221\n",
            "Epoch 285/1000\n",
            "2321/2321 [==============================] - 6s 2ms/step - loss: 0.0465 - mean_absolute_error: 0.1058 - val_loss: 0.0475 - val_mean_absolute_error: 0.1214\n",
            "Epoch 286/1000\n",
            "2321/2321 [==============================] - 6s 3ms/step - loss: 0.0465 - mean_absolute_error: 0.1057 - val_loss: 0.0474 - val_mean_absolute_error: 0.1142\n",
            "Epoch 287/1000\n",
            "2321/2321 [==============================] - 6s 3ms/step - loss: 0.0465 - mean_absolute_error: 0.1058 - val_loss: 0.0477 - val_mean_absolute_error: 0.1247\n",
            "Epoch 288/1000\n",
            "2321/2321 [==============================] - 6s 3ms/step - loss: 0.0465 - mean_absolute_error: 0.1057 - val_loss: 0.0481 - val_mean_absolute_error: 0.1258\n",
            "Epoch 289/1000\n",
            "2321/2321 [==============================] - 6s 2ms/step - loss: 0.0465 - mean_absolute_error: 0.1057 - val_loss: 0.0472 - val_mean_absolute_error: 0.1152\n",
            "Epoch 290/1000\n",
            "2321/2321 [==============================] - 6s 3ms/step - loss: 0.0465 - mean_absolute_error: 0.1056 - val_loss: 0.0477 - val_mean_absolute_error: 0.1215\n",
            "Epoch 291/1000\n",
            "2321/2321 [==============================] - 6s 3ms/step - loss: 0.0465 - mean_absolute_error: 0.1058 - val_loss: 0.0472 - val_mean_absolute_error: 0.1032\n",
            "Epoch 292/1000\n",
            "2321/2321 [==============================] - 6s 2ms/step - loss: 0.0464 - mean_absolute_error: 0.1056 - val_loss: 0.0473 - val_mean_absolute_error: 0.0963\n",
            "Epoch 293/1000\n",
            "2321/2321 [==============================] - 6s 2ms/step - loss: 0.0465 - mean_absolute_error: 0.1057 - val_loss: 0.0473 - val_mean_absolute_error: 0.1034\n",
            "Epoch 294/1000\n",
            "2321/2321 [==============================] - 6s 2ms/step - loss: 0.0465 - mean_absolute_error: 0.1056 - val_loss: 0.0503 - val_mean_absolute_error: 0.1518\n",
            "Epoch 295/1000\n",
            "2321/2321 [==============================] - 6s 2ms/step - loss: 0.0465 - mean_absolute_error: 0.1058 - val_loss: 0.0476 - val_mean_absolute_error: 0.0951\n",
            "Epoch 296/1000\n",
            "2321/2321 [==============================] - 6s 2ms/step - loss: 0.0465 - mean_absolute_error: 0.1058 - val_loss: 0.0473 - val_mean_absolute_error: 0.1083\n",
            "Epoch 297/1000\n",
            "2321/2321 [==============================] - 6s 2ms/step - loss: 0.0466 - mean_absolute_error: 0.1060 - val_loss: 0.0488 - val_mean_absolute_error: 0.1357\n",
            "Epoch 298/1000\n",
            "2321/2321 [==============================] - 6s 2ms/step - loss: 0.0465 - mean_absolute_error: 0.1057 - val_loss: 0.0478 - val_mean_absolute_error: 0.1263\n",
            "Epoch 299/1000\n",
            "2321/2321 [==============================] - 6s 2ms/step - loss: 0.0466 - mean_absolute_error: 0.1059 - val_loss: 0.0479 - val_mean_absolute_error: 0.0826\n",
            "Epoch 300/1000\n",
            "2321/2321 [==============================] - 6s 2ms/step - loss: 0.0465 - mean_absolute_error: 0.1057 - val_loss: 0.0474 - val_mean_absolute_error: 0.0923\n",
            "Epoch 301/1000\n",
            "2321/2321 [==============================] - 6s 2ms/step - loss: 0.0465 - mean_absolute_error: 0.1057 - val_loss: 0.0491 - val_mean_absolute_error: 0.1421\n",
            "Epoch 302/1000\n",
            "2321/2321 [==============================] - 6s 2ms/step - loss: 0.0465 - mean_absolute_error: 0.1060 - val_loss: 0.0480 - val_mean_absolute_error: 0.0814\n",
            "Epoch 303/1000\n",
            "2321/2321 [==============================] - 6s 2ms/step - loss: 0.0463 - mean_absolute_error: 0.1054 - val_loss: 0.0480 - val_mean_absolute_error: 0.1025\n",
            "Epoch 304/1000\n",
            "2321/2321 [==============================] - 6s 2ms/step - loss: 0.0465 - mean_absolute_error: 0.1058 - val_loss: 0.0492 - val_mean_absolute_error: 0.0755\n",
            "Epoch 305/1000\n",
            "2321/2321 [==============================] - 6s 3ms/step - loss: 0.0464 - mean_absolute_error: 0.1056 - val_loss: 0.0491 - val_mean_absolute_error: 0.0864\n",
            "Epoch 306/1000\n",
            "2321/2321 [==============================] - 6s 2ms/step - loss: 0.0464 - mean_absolute_error: 0.1057 - val_loss: 0.0471 - val_mean_absolute_error: 0.1012\n",
            "Epoch 307/1000\n",
            "2321/2321 [==============================] - 6s 2ms/step - loss: 0.0464 - mean_absolute_error: 0.1056 - val_loss: 0.0472 - val_mean_absolute_error: 0.1094\n",
            "Epoch 308/1000\n",
            "2321/2321 [==============================] - 6s 2ms/step - loss: 0.0465 - mean_absolute_error: 0.1059 - val_loss: 0.0477 - val_mean_absolute_error: 0.0851\n",
            "Epoch 309/1000\n",
            "2321/2321 [==============================] - 6s 2ms/step - loss: 0.0464 - mean_absolute_error: 0.1056 - val_loss: 0.0473 - val_mean_absolute_error: 0.0921\n",
            "Epoch 310/1000\n",
            "2321/2321 [==============================] - 6s 2ms/step - loss: 0.0464 - mean_absolute_error: 0.1058 - val_loss: 0.0473 - val_mean_absolute_error: 0.1144\n",
            "Epoch 311/1000\n",
            "2321/2321 [==============================] - 6s 2ms/step - loss: 0.0464 - mean_absolute_error: 0.1056 - val_loss: 0.0471 - val_mean_absolute_error: 0.1007\n",
            "Epoch 312/1000\n",
            "2321/2321 [==============================] - 6s 2ms/step - loss: 0.0464 - mean_absolute_error: 0.1055 - val_loss: 0.0475 - val_mean_absolute_error: 0.0979\n",
            "Epoch 313/1000\n",
            "2321/2321 [==============================] - 6s 2ms/step - loss: 0.0464 - mean_absolute_error: 0.1058 - val_loss: 0.0473 - val_mean_absolute_error: 0.1000\n",
            "Epoch 314/1000\n",
            "2321/2321 [==============================] - 6s 2ms/step - loss: 0.0465 - mean_absolute_error: 0.1056 - val_loss: 0.0481 - val_mean_absolute_error: 0.1292\n",
            "Epoch 315/1000\n",
            "2321/2321 [==============================] - 6s 2ms/step - loss: 0.0464 - mean_absolute_error: 0.1054 - val_loss: 0.0471 - val_mean_absolute_error: 0.1048\n",
            "Epoch 316/1000\n",
            "2321/2321 [==============================] - 6s 2ms/step - loss: 0.0464 - mean_absolute_error: 0.1055 - val_loss: 0.0475 - val_mean_absolute_error: 0.1230\n",
            "Epoch 317/1000\n",
            "2321/2321 [==============================] - 6s 2ms/step - loss: 0.0465 - mean_absolute_error: 0.1057 - val_loss: 0.0473 - val_mean_absolute_error: 0.1176\n",
            "Epoch 318/1000\n",
            "2321/2321 [==============================] - 6s 2ms/step - loss: 0.0465 - mean_absolute_error: 0.1058 - val_loss: 0.0473 - val_mean_absolute_error: 0.0948\n",
            "Epoch 319/1000\n",
            "2321/2321 [==============================] - 6s 3ms/step - loss: 0.0464 - mean_absolute_error: 0.1056 - val_loss: 0.0471 - val_mean_absolute_error: 0.1088\n",
            "Epoch 320/1000\n",
            "2321/2321 [==============================] - 6s 3ms/step - loss: 0.0465 - mean_absolute_error: 0.1057 - val_loss: 0.0476 - val_mean_absolute_error: 0.1249\n",
            "Epoch 321/1000\n",
            "2321/2321 [==============================] - 6s 2ms/step - loss: 0.0464 - mean_absolute_error: 0.1055 - val_loss: 0.0471 - val_mean_absolute_error: 0.1075\n",
            "Epoch 322/1000\n",
            "2321/2321 [==============================] - 6s 2ms/step - loss: 0.0464 - mean_absolute_error: 0.1056 - val_loss: 0.0471 - val_mean_absolute_error: 0.1081\n",
            "Epoch 323/1000\n",
            "2321/2321 [==============================] - 6s 2ms/step - loss: 0.0465 - mean_absolute_error: 0.1058 - val_loss: 0.0480 - val_mean_absolute_error: 0.1313\n",
            "Epoch 324/1000\n",
            "2321/2321 [==============================] - 6s 2ms/step - loss: 0.0464 - mean_absolute_error: 0.1055 - val_loss: 0.0480 - val_mean_absolute_error: 0.1242\n",
            "Epoch 325/1000\n",
            "2321/2321 [==============================] - 6s 2ms/step - loss: 0.0464 - mean_absolute_error: 0.1059 - val_loss: 0.0471 - val_mean_absolute_error: 0.1107\n",
            "Epoch 326/1000\n",
            "2321/2321 [==============================] - 6s 2ms/step - loss: 0.0463 - mean_absolute_error: 0.1054 - val_loss: 0.0534 - val_mean_absolute_error: 0.1700\n",
            "Epoch 327/1000\n",
            "2321/2321 [==============================] - 6s 2ms/step - loss: 0.0465 - mean_absolute_error: 0.1060 - val_loss: 0.0472 - val_mean_absolute_error: 0.1002\n",
            "Epoch 328/1000\n",
            "2321/2321 [==============================] - 6s 2ms/step - loss: 0.0464 - mean_absolute_error: 0.1054 - val_loss: 0.0474 - val_mean_absolute_error: 0.1205\n",
            "Epoch 329/1000\n",
            "2321/2321 [==============================] - 6s 2ms/step - loss: 0.0465 - mean_absolute_error: 0.1056 - val_loss: 0.0478 - val_mean_absolute_error: 0.0979\n",
            "Epoch 330/1000\n",
            "2321/2321 [==============================] - 6s 2ms/step - loss: 0.0464 - mean_absolute_error: 0.1056 - val_loss: 0.0473 - val_mean_absolute_error: 0.0995\n",
            "Epoch 331/1000\n",
            "2321/2321 [==============================] - 6s 2ms/step - loss: 0.0465 - mean_absolute_error: 0.1056 - val_loss: 0.0472 - val_mean_absolute_error: 0.1113\n",
            "Epoch 332/1000\n",
            "2321/2321 [==============================] - 6s 2ms/step - loss: 0.0464 - mean_absolute_error: 0.1055 - val_loss: 0.0475 - val_mean_absolute_error: 0.1165\n",
            "Epoch 333/1000\n",
            "2321/2321 [==============================] - 6s 2ms/step - loss: 0.0465 - mean_absolute_error: 0.1057 - val_loss: 0.0473 - val_mean_absolute_error: 0.1087\n",
            "Epoch 334/1000\n",
            "2321/2321 [==============================] - 6s 3ms/step - loss: 0.0464 - mean_absolute_error: 0.1055 - val_loss: 0.0482 - val_mean_absolute_error: 0.0799\n",
            "Epoch 335/1000\n",
            "2321/2321 [==============================] - 6s 2ms/step - loss: 0.0464 - mean_absolute_error: 0.1054 - val_loss: 0.0478 - val_mean_absolute_error: 0.1268\n",
            "Epoch 336/1000\n",
            "2321/2321 [==============================] - 6s 2ms/step - loss: 0.0464 - mean_absolute_error: 0.1056 - val_loss: 0.0471 - val_mean_absolute_error: 0.1097\n",
            "Epoch 337/1000\n",
            "2321/2321 [==============================] - 6s 2ms/step - loss: 0.0463 - mean_absolute_error: 0.1055 - val_loss: 0.0473 - val_mean_absolute_error: 0.0917\n",
            "Epoch 338/1000\n",
            "2321/2321 [==============================] - 6s 2ms/step - loss: 0.0464 - mean_absolute_error: 0.1055 - val_loss: 0.0473 - val_mean_absolute_error: 0.1204\n",
            "Epoch 339/1000\n",
            "2321/2321 [==============================] - 6s 3ms/step - loss: 0.0462 - mean_absolute_error: 0.1053 - val_loss: 0.0477 - val_mean_absolute_error: 0.1239\n",
            "Epoch 340/1000\n",
            "2321/2321 [==============================] - 6s 3ms/step - loss: 0.0464 - mean_absolute_error: 0.1057 - val_loss: 0.0471 - val_mean_absolute_error: 0.1027\n",
            "Epoch 341/1000\n",
            "2321/2321 [==============================] - 6s 3ms/step - loss: 0.0464 - mean_absolute_error: 0.1055 - val_loss: 0.0477 - val_mean_absolute_error: 0.1158\n",
            "Epoch 342/1000\n",
            "2321/2321 [==============================] - 6s 3ms/step - loss: 0.0465 - mean_absolute_error: 0.1057 - val_loss: 0.0474 - val_mean_absolute_error: 0.0940\n",
            "Epoch 343/1000\n",
            "2321/2321 [==============================] - 6s 2ms/step - loss: 0.0464 - mean_absolute_error: 0.1054 - val_loss: 0.0472 - val_mean_absolute_error: 0.0924\n",
            "Epoch 344/1000\n",
            "2321/2321 [==============================] - 6s 2ms/step - loss: 0.0463 - mean_absolute_error: 0.1054 - val_loss: 0.0473 - val_mean_absolute_error: 0.0997\n",
            "Epoch 345/1000\n",
            "2321/2321 [==============================] - 6s 3ms/step - loss: 0.0464 - mean_absolute_error: 0.1055 - val_loss: 0.0496 - val_mean_absolute_error: 0.0808\n",
            "Epoch 346/1000\n",
            "2321/2321 [==============================] - 6s 2ms/step - loss: 0.0464 - mean_absolute_error: 0.1056 - val_loss: 0.0477 - val_mean_absolute_error: 0.0859\n",
            "Epoch 347/1000\n",
            "2321/2321 [==============================] - 6s 2ms/step - loss: 0.0464 - mean_absolute_error: 0.1056 - val_loss: 0.0471 - val_mean_absolute_error: 0.1092\n",
            "Epoch 348/1000\n",
            "2321/2321 [==============================] - 6s 3ms/step - loss: 0.0464 - mean_absolute_error: 0.1056 - val_loss: 0.0488 - val_mean_absolute_error: 0.1301\n",
            "Epoch 349/1000\n",
            "2321/2321 [==============================] - 6s 3ms/step - loss: 0.0463 - mean_absolute_error: 0.1053 - val_loss: 0.0499 - val_mean_absolute_error: 0.0812\n",
            "Epoch 350/1000\n",
            "2321/2321 [==============================] - 6s 3ms/step - loss: 0.0463 - mean_absolute_error: 0.1055 - val_loss: 0.0471 - val_mean_absolute_error: 0.0988\n",
            "Epoch 351/1000\n",
            "2321/2321 [==============================] - 6s 2ms/step - loss: 0.0464 - mean_absolute_error: 0.1056 - val_loss: 0.0471 - val_mean_absolute_error: 0.1084\n",
            "Epoch 352/1000\n",
            "2321/2321 [==============================] - 6s 3ms/step - loss: 0.0464 - mean_absolute_error: 0.1056 - val_loss: 0.0471 - val_mean_absolute_error: 0.1126\n",
            "Epoch 353/1000\n",
            "2321/2321 [==============================] - 6s 3ms/step - loss: 0.0464 - mean_absolute_error: 0.1054 - val_loss: 0.0478 - val_mean_absolute_error: 0.1260\n",
            "Epoch 354/1000\n",
            "2321/2321 [==============================] - 6s 2ms/step - loss: 0.0464 - mean_absolute_error: 0.1057 - val_loss: 0.0470 - val_mean_absolute_error: 0.0985\n",
            "Epoch 355/1000\n",
            "2321/2321 [==============================] - 6s 3ms/step - loss: 0.0464 - mean_absolute_error: 0.1056 - val_loss: 0.0471 - val_mean_absolute_error: 0.1147\n",
            "Epoch 356/1000\n",
            "2321/2321 [==============================] - 6s 3ms/step - loss: 0.0463 - mean_absolute_error: 0.1056 - val_loss: 0.0473 - val_mean_absolute_error: 0.0906\n",
            "Epoch 357/1000\n",
            "2321/2321 [==============================] - 6s 2ms/step - loss: 0.0464 - mean_absolute_error: 0.1054 - val_loss: 0.0481 - val_mean_absolute_error: 0.1322\n",
            "Epoch 358/1000\n",
            "2321/2321 [==============================] - 6s 2ms/step - loss: 0.0464 - mean_absolute_error: 0.1057 - val_loss: 0.0475 - val_mean_absolute_error: 0.1233\n",
            "Epoch 359/1000\n",
            "2321/2321 [==============================] - 6s 3ms/step - loss: 0.0463 - mean_absolute_error: 0.1053 - val_loss: 0.0572 - val_mean_absolute_error: 0.1875\n",
            "Epoch 360/1000\n",
            "2321/2321 [==============================] - 6s 2ms/step - loss: 0.0463 - mean_absolute_error: 0.1056 - val_loss: 0.0472 - val_mean_absolute_error: 0.1008\n",
            "Epoch 361/1000\n",
            "2321/2321 [==============================] - 6s 2ms/step - loss: 0.0463 - mean_absolute_error: 0.1054 - val_loss: 0.0494 - val_mean_absolute_error: 0.0790\n",
            "Epoch 362/1000\n",
            "2321/2321 [==============================] - 6s 2ms/step - loss: 0.0463 - mean_absolute_error: 0.1055 - val_loss: 0.0473 - val_mean_absolute_error: 0.1077\n",
            "Epoch 363/1000\n",
            "2321/2321 [==============================] - 6s 3ms/step - loss: 0.0463 - mean_absolute_error: 0.1057 - val_loss: 0.0480 - val_mean_absolute_error: 0.0968\n",
            "Epoch 364/1000\n",
            "2321/2321 [==============================] - 6s 3ms/step - loss: 0.0464 - mean_absolute_error: 0.1054 - val_loss: 0.0470 - val_mean_absolute_error: 0.1027\n",
            "Epoch 365/1000\n",
            "2321/2321 [==============================] - 6s 2ms/step - loss: 0.0463 - mean_absolute_error: 0.1052 - val_loss: 0.0499 - val_mean_absolute_error: 0.1479\n",
            "Epoch 366/1000\n",
            "2321/2321 [==============================] - 6s 2ms/step - loss: 0.0464 - mean_absolute_error: 0.1057 - val_loss: 0.0494 - val_mean_absolute_error: 0.0715\n",
            "Epoch 367/1000\n",
            "2321/2321 [==============================] - 6s 2ms/step - loss: 0.0464 - mean_absolute_error: 0.1053 - val_loss: 0.0474 - val_mean_absolute_error: 0.1195\n",
            "Epoch 368/1000\n",
            "2321/2321 [==============================] - 6s 2ms/step - loss: 0.0464 - mean_absolute_error: 0.1055 - val_loss: 0.0471 - val_mean_absolute_error: 0.1064\n",
            "Epoch 369/1000\n",
            "2321/2321 [==============================] - 6s 2ms/step - loss: 0.0463 - mean_absolute_error: 0.1053 - val_loss: 0.0477 - val_mean_absolute_error: 0.1221\n",
            "Epoch 370/1000\n",
            "2321/2321 [==============================] - 6s 2ms/step - loss: 0.0463 - mean_absolute_error: 0.1053 - val_loss: 0.0477 - val_mean_absolute_error: 0.1054\n",
            "Epoch 371/1000\n",
            "2321/2321 [==============================] - 6s 2ms/step - loss: 0.0463 - mean_absolute_error: 0.1055 - val_loss: 0.0470 - val_mean_absolute_error: 0.0998\n",
            "Epoch 372/1000\n",
            "2321/2321 [==============================] - 6s 2ms/step - loss: 0.0464 - mean_absolute_error: 0.1056 - val_loss: 0.0474 - val_mean_absolute_error: 0.1225\n",
            "Epoch 373/1000\n",
            "2321/2321 [==============================] - 6s 2ms/step - loss: 0.0464 - mean_absolute_error: 0.1055 - val_loss: 0.0469 - val_mean_absolute_error: 0.1050\n",
            "Epoch 374/1000\n",
            "2321/2321 [==============================] - 6s 2ms/step - loss: 0.0464 - mean_absolute_error: 0.1057 - val_loss: 0.0478 - val_mean_absolute_error: 0.1282\n",
            "Epoch 375/1000\n",
            "2321/2321 [==============================] - 6s 3ms/step - loss: 0.0464 - mean_absolute_error: 0.1054 - val_loss: 0.0472 - val_mean_absolute_error: 0.1170\n",
            "Epoch 376/1000\n",
            "2321/2321 [==============================] - 6s 3ms/step - loss: 0.0463 - mean_absolute_error: 0.1055 - val_loss: 0.0471 - val_mean_absolute_error: 0.1166\n",
            "Epoch 377/1000\n",
            "2321/2321 [==============================] - 6s 3ms/step - loss: 0.0462 - mean_absolute_error: 0.1054 - val_loss: 0.0473 - val_mean_absolute_error: 0.0888\n",
            "Epoch 378/1000\n",
            "2321/2321 [==============================] - 6s 3ms/step - loss: 0.0463 - mean_absolute_error: 0.1054 - val_loss: 0.0480 - val_mean_absolute_error: 0.0859\n",
            "Epoch 379/1000\n",
            "2321/2321 [==============================] - 6s 2ms/step - loss: 0.0464 - mean_absolute_error: 0.1056 - val_loss: 0.0476 - val_mean_absolute_error: 0.0837\n",
            "Epoch 380/1000\n",
            "2321/2321 [==============================] - 6s 2ms/step - loss: 0.0463 - mean_absolute_error: 0.1053 - val_loss: 0.0480 - val_mean_absolute_error: 0.0802\n",
            "Epoch 381/1000\n",
            "2321/2321 [==============================] - 6s 2ms/step - loss: 0.0463 - mean_absolute_error: 0.1052 - val_loss: 0.0481 - val_mean_absolute_error: 0.0883\n",
            "Epoch 382/1000\n",
            "2321/2321 [==============================] - 6s 2ms/step - loss: 0.0462 - mean_absolute_error: 0.1051 - val_loss: 0.0474 - val_mean_absolute_error: 0.1015\n",
            "Epoch 383/1000\n",
            "2321/2321 [==============================] - 6s 2ms/step - loss: 0.0463 - mean_absolute_error: 0.1053 - val_loss: 0.0478 - val_mean_absolute_error: 0.1289\n",
            "Epoch 384/1000\n",
            "2321/2321 [==============================] - 6s 2ms/step - loss: 0.0463 - mean_absolute_error: 0.1055 - val_loss: 0.0474 - val_mean_absolute_error: 0.1159\n",
            "Epoch 385/1000\n",
            "2321/2321 [==============================] - 6s 2ms/step - loss: 0.0463 - mean_absolute_error: 0.1054 - val_loss: 0.0473 - val_mean_absolute_error: 0.0977\n",
            "Epoch 386/1000\n",
            "2321/2321 [==============================] - 6s 2ms/step - loss: 0.0463 - mean_absolute_error: 0.1054 - val_loss: 0.0472 - val_mean_absolute_error: 0.0910\n",
            "Epoch 387/1000\n",
            "2321/2321 [==============================] - 6s 2ms/step - loss: 0.0464 - mean_absolute_error: 0.1055 - val_loss: 0.0470 - val_mean_absolute_error: 0.1043\n",
            "Epoch 388/1000\n",
            "2321/2321 [==============================] - 6s 3ms/step - loss: 0.0463 - mean_absolute_error: 0.1053 - val_loss: 0.0471 - val_mean_absolute_error: 0.1064\n",
            "Epoch 389/1000\n",
            "2321/2321 [==============================] - 6s 2ms/step - loss: 0.0463 - mean_absolute_error: 0.1055 - val_loss: 0.0471 - val_mean_absolute_error: 0.0964\n",
            "Epoch 390/1000\n",
            "2321/2321 [==============================] - 6s 2ms/step - loss: 0.0462 - mean_absolute_error: 0.1053 - val_loss: 0.0475 - val_mean_absolute_error: 0.0903\n",
            "Epoch 391/1000\n",
            "2321/2321 [==============================] - 6s 2ms/step - loss: 0.0462 - mean_absolute_error: 0.1051 - val_loss: 0.0472 - val_mean_absolute_error: 0.1026\n",
            "Epoch 392/1000\n",
            "2321/2321 [==============================] - 6s 3ms/step - loss: 0.0463 - mean_absolute_error: 0.1056 - val_loss: 0.0474 - val_mean_absolute_error: 0.1228\n",
            "Epoch 393/1000\n",
            "2321/2321 [==============================] - 6s 3ms/step - loss: 0.0462 - mean_absolute_error: 0.1053 - val_loss: 0.0482 - val_mean_absolute_error: 0.0763\n",
            "Epoch 394/1000\n",
            "2321/2321 [==============================] - 6s 3ms/step - loss: 0.0463 - mean_absolute_error: 0.1053 - val_loss: 0.0473 - val_mean_absolute_error: 0.1188\n",
            "Epoch 395/1000\n",
            "2321/2321 [==============================] - 6s 3ms/step - loss: 0.0464 - mean_absolute_error: 0.1055 - val_loss: 0.0482 - val_mean_absolute_error: 0.0753\n",
            "Epoch 396/1000\n",
            "2321/2321 [==============================] - 6s 3ms/step - loss: 0.0463 - mean_absolute_error: 0.1055 - val_loss: 0.0469 - val_mean_absolute_error: 0.1064\n",
            "Epoch 397/1000\n",
            "2321/2321 [==============================] - 6s 2ms/step - loss: 0.0463 - mean_absolute_error: 0.1053 - val_loss: 0.0484 - val_mean_absolute_error: 0.1245\n",
            "Epoch 398/1000\n",
            "2321/2321 [==============================] - 6s 2ms/step - loss: 0.0464 - mean_absolute_error: 0.1057 - val_loss: 0.0485 - val_mean_absolute_error: 0.0784\n",
            "Epoch 399/1000\n",
            "2321/2321 [==============================] - 6s 2ms/step - loss: 0.0463 - mean_absolute_error: 0.1051 - val_loss: 0.0491 - val_mean_absolute_error: 0.1421\n",
            "Epoch 400/1000\n",
            "2321/2321 [==============================] - 6s 2ms/step - loss: 0.0463 - mean_absolute_error: 0.1054 - val_loss: 0.0472 - val_mean_absolute_error: 0.1191\n",
            "Epoch 401/1000\n",
            "2321/2321 [==============================] - 6s 2ms/step - loss: 0.0463 - mean_absolute_error: 0.1056 - val_loss: 0.0478 - val_mean_absolute_error: 0.1300\n",
            "Epoch 402/1000\n",
            "2321/2321 [==============================] - 6s 3ms/step - loss: 0.0463 - mean_absolute_error: 0.1054 - val_loss: 0.0471 - val_mean_absolute_error: 0.1143\n",
            "Epoch 403/1000\n",
            "2321/2321 [==============================] - 6s 2ms/step - loss: 0.0463 - mean_absolute_error: 0.1054 - val_loss: 0.0472 - val_mean_absolute_error: 0.1187\n",
            "Epoch 404/1000\n",
            "2321/2321 [==============================] - 6s 2ms/step - loss: 0.0463 - mean_absolute_error: 0.1053 - val_loss: 0.0472 - val_mean_absolute_error: 0.1005\n",
            "Epoch 405/1000\n",
            "2321/2321 [==============================] - 6s 2ms/step - loss: 0.0462 - mean_absolute_error: 0.1052 - val_loss: 0.0482 - val_mean_absolute_error: 0.0904\n",
            "Epoch 406/1000\n",
            "2321/2321 [==============================] - 6s 3ms/step - loss: 0.0462 - mean_absolute_error: 0.1053 - val_loss: 0.0481 - val_mean_absolute_error: 0.1331\n",
            "Epoch 407/1000\n",
            "2321/2321 [==============================] - 6s 3ms/step - loss: 0.0463 - mean_absolute_error: 0.1054 - val_loss: 0.0474 - val_mean_absolute_error: 0.1235\n",
            "Epoch 408/1000\n",
            "2321/2321 [==============================] - 6s 2ms/step - loss: 0.0464 - mean_absolute_error: 0.1057 - val_loss: 0.0477 - val_mean_absolute_error: 0.0836\n",
            "Epoch 409/1000\n",
            "2321/2321 [==============================] - 6s 2ms/step - loss: 0.0463 - mean_absolute_error: 0.1053 - val_loss: 0.0480 - val_mean_absolute_error: 0.0815\n",
            "Epoch 410/1000\n",
            "2321/2321 [==============================] - 6s 3ms/step - loss: 0.0462 - mean_absolute_error: 0.1054 - val_loss: 0.0479 - val_mean_absolute_error: 0.0787\n",
            "Epoch 411/1000\n",
            "2321/2321 [==============================] - 6s 2ms/step - loss: 0.0463 - mean_absolute_error: 0.1052 - val_loss: 0.0471 - val_mean_absolute_error: 0.1145\n",
            "Epoch 412/1000\n",
            "2321/2321 [==============================] - 6s 2ms/step - loss: 0.0462 - mean_absolute_error: 0.1053 - val_loss: 0.0469 - val_mean_absolute_error: 0.1098\n",
            "Epoch 413/1000\n",
            "2321/2321 [==============================] - 6s 2ms/step - loss: 0.0463 - mean_absolute_error: 0.1055 - val_loss: 0.0470 - val_mean_absolute_error: 0.1051\n",
            "Epoch 414/1000\n",
            "2321/2321 [==============================] - 6s 3ms/step - loss: 0.0463 - mean_absolute_error: 0.1054 - val_loss: 0.0478 - val_mean_absolute_error: 0.1294\n",
            "Epoch 415/1000\n",
            "2321/2321 [==============================] - 6s 3ms/step - loss: 0.0463 - mean_absolute_error: 0.1053 - val_loss: 0.0477 - val_mean_absolute_error: 0.0988\n",
            "Epoch 416/1000\n",
            "2321/2321 [==============================] - 6s 2ms/step - loss: 0.0463 - mean_absolute_error: 0.1052 - val_loss: 0.0512 - val_mean_absolute_error: 0.1590\n",
            "Epoch 417/1000\n",
            "2321/2321 [==============================] - 6s 2ms/step - loss: 0.0462 - mean_absolute_error: 0.1052 - val_loss: 0.0476 - val_mean_absolute_error: 0.0842\n",
            "Epoch 418/1000\n",
            "2321/2321 [==============================] - 6s 2ms/step - loss: 0.0463 - mean_absolute_error: 0.1055 - val_loss: 0.0469 - val_mean_absolute_error: 0.1071\n",
            "Epoch 419/1000\n",
            "2321/2321 [==============================] - 6s 2ms/step - loss: 0.0462 - mean_absolute_error: 0.1054 - val_loss: 0.0477 - val_mean_absolute_error: 0.1286\n",
            "Epoch 420/1000\n",
            "2321/2321 [==============================] - 6s 2ms/step - loss: 0.0463 - mean_absolute_error: 0.1052 - val_loss: 0.0470 - val_mean_absolute_error: 0.1085\n",
            "Epoch 421/1000\n",
            "2321/2321 [==============================] - 6s 3ms/step - loss: 0.0463 - mean_absolute_error: 0.1054 - val_loss: 0.0472 - val_mean_absolute_error: 0.0887\n",
            "Epoch 422/1000\n",
            "2321/2321 [==============================] - 6s 2ms/step - loss: 0.0462 - mean_absolute_error: 0.1052 - val_loss: 0.0477 - val_mean_absolute_error: 0.0879\n",
            "Epoch 423/1000\n",
            "2321/2321 [==============================] - 6s 3ms/step - loss: 0.0463 - mean_absolute_error: 0.1052 - val_loss: 0.0471 - val_mean_absolute_error: 0.1003\n",
            "Epoch 424/1000\n",
            "2321/2321 [==============================] - 6s 2ms/step - loss: 0.0463 - mean_absolute_error: 0.1052 - val_loss: 0.0489 - val_mean_absolute_error: 0.1404\n",
            "Epoch 425/1000\n",
            "2321/2321 [==============================] - 6s 3ms/step - loss: 0.0462 - mean_absolute_error: 0.1053 - val_loss: 0.0474 - val_mean_absolute_error: 0.0975\n",
            "Epoch 426/1000\n",
            "2321/2321 [==============================] - 6s 3ms/step - loss: 0.0462 - mean_absolute_error: 0.1056 - val_loss: 0.0470 - val_mean_absolute_error: 0.1059\n",
            "Epoch 427/1000\n",
            "2321/2321 [==============================] - 6s 2ms/step - loss: 0.0461 - mean_absolute_error: 0.1049 - val_loss: 0.0469 - val_mean_absolute_error: 0.1020\n",
            "Epoch 428/1000\n",
            "2321/2321 [==============================] - 6s 2ms/step - loss: 0.0462 - mean_absolute_error: 0.1052 - val_loss: 0.0481 - val_mean_absolute_error: 0.0785\n",
            "Epoch 429/1000\n",
            "2321/2321 [==============================] - 6s 2ms/step - loss: 0.0462 - mean_absolute_error: 0.1053 - val_loss: 0.0474 - val_mean_absolute_error: 0.0885\n",
            "Epoch 430/1000\n",
            "2321/2321 [==============================] - 6s 2ms/step - loss: 0.0463 - mean_absolute_error: 0.1053 - val_loss: 0.0470 - val_mean_absolute_error: 0.0954\n",
            "Epoch 431/1000\n",
            "2321/2321 [==============================] - 6s 2ms/step - loss: 0.0461 - mean_absolute_error: 0.1050 - val_loss: 0.0480 - val_mean_absolute_error: 0.1282\n",
            "Epoch 432/1000\n",
            "2321/2321 [==============================] - 6s 2ms/step - loss: 0.0462 - mean_absolute_error: 0.1054 - val_loss: 0.0473 - val_mean_absolute_error: 0.1211\n",
            "Epoch 433/1000\n",
            "2321/2321 [==============================] - 6s 2ms/step - loss: 0.0462 - mean_absolute_error: 0.1054 - val_loss: 0.0468 - val_mean_absolute_error: 0.1068\n",
            "Epoch 434/1000\n",
            "2321/2321 [==============================] - 6s 2ms/step - loss: 0.0462 - mean_absolute_error: 0.1053 - val_loss: 0.0468 - val_mean_absolute_error: 0.1067\n",
            "Epoch 435/1000\n",
            "2321/2321 [==============================] - 6s 3ms/step - loss: 0.0462 - mean_absolute_error: 0.1052 - val_loss: 0.0499 - val_mean_absolute_error: 0.1502\n",
            "Epoch 436/1000\n",
            "2321/2321 [==============================] - 6s 3ms/step - loss: 0.0462 - mean_absolute_error: 0.1052 - val_loss: 0.0469 - val_mean_absolute_error: 0.1104\n",
            "Epoch 437/1000\n",
            "2321/2321 [==============================] - 6s 2ms/step - loss: 0.0462 - mean_absolute_error: 0.1053 - val_loss: 0.0472 - val_mean_absolute_error: 0.1021\n",
            "Epoch 438/1000\n",
            "2321/2321 [==============================] - 6s 2ms/step - loss: 0.0462 - mean_absolute_error: 0.1053 - val_loss: 0.0473 - val_mean_absolute_error: 0.1208\n",
            "Epoch 439/1000\n",
            "2321/2321 [==============================] - 6s 2ms/step - loss: 0.0462 - mean_absolute_error: 0.1052 - val_loss: 0.0490 - val_mean_absolute_error: 0.1429\n",
            "Epoch 440/1000\n",
            "2321/2321 [==============================] - 6s 3ms/step - loss: 0.0462 - mean_absolute_error: 0.1054 - val_loss: 0.0469 - val_mean_absolute_error: 0.1084\n",
            "Epoch 441/1000\n",
            "2321/2321 [==============================] - 6s 3ms/step - loss: 0.0462 - mean_absolute_error: 0.1052 - val_loss: 0.0469 - val_mean_absolute_error: 0.0993\n",
            "Epoch 442/1000\n",
            "2321/2321 [==============================] - 6s 3ms/step - loss: 0.0462 - mean_absolute_error: 0.1050 - val_loss: 0.0475 - val_mean_absolute_error: 0.1265\n",
            "Epoch 443/1000\n",
            "2321/2321 [==============================] - 6s 3ms/step - loss: 0.0462 - mean_absolute_error: 0.1052 - val_loss: 0.0479 - val_mean_absolute_error: 0.1318\n",
            "Epoch 444/1000\n",
            "2321/2321 [==============================] - 6s 3ms/step - loss: 0.0462 - mean_absolute_error: 0.1054 - val_loss: 0.0471 - val_mean_absolute_error: 0.0989\n",
            "Epoch 445/1000\n",
            "2321/2321 [==============================] - 6s 2ms/step - loss: 0.0463 - mean_absolute_error: 0.1052 - val_loss: 0.0469 - val_mean_absolute_error: 0.1121\n",
            "Epoch 446/1000\n",
            "2321/2321 [==============================] - 6s 3ms/step - loss: 0.0462 - mean_absolute_error: 0.1051 - val_loss: 0.0469 - val_mean_absolute_error: 0.1101\n",
            "Epoch 447/1000\n",
            "2321/2321 [==============================] - 6s 3ms/step - loss: 0.0463 - mean_absolute_error: 0.1054 - val_loss: 0.0470 - val_mean_absolute_error: 0.1051\n",
            "Epoch 448/1000\n",
            "2321/2321 [==============================] - 6s 3ms/step - loss: 0.0462 - mean_absolute_error: 0.1052 - val_loss: 0.0476 - val_mean_absolute_error: 0.1231\n",
            "Epoch 449/1000\n",
            "2321/2321 [==============================] - 6s 3ms/step - loss: 0.0462 - mean_absolute_error: 0.1053 - val_loss: 0.0468 - val_mean_absolute_error: 0.1071\n",
            "Epoch 450/1000\n",
            "2321/2321 [==============================] - 6s 3ms/step - loss: 0.0462 - mean_absolute_error: 0.1053 - val_loss: 0.0469 - val_mean_absolute_error: 0.1025\n",
            "Epoch 451/1000\n",
            "2321/2321 [==============================] - 6s 2ms/step - loss: 0.0462 - mean_absolute_error: 0.1053 - val_loss: 0.0482 - val_mean_absolute_error: 0.0788\n",
            "Epoch 452/1000\n",
            "2321/2321 [==============================] - 6s 3ms/step - loss: 0.0463 - mean_absolute_error: 0.1053 - val_loss: 0.0482 - val_mean_absolute_error: 0.1357\n",
            "Epoch 453/1000\n",
            "2321/2321 [==============================] - 6s 3ms/step - loss: 0.0462 - mean_absolute_error: 0.1054 - val_loss: 0.0471 - val_mean_absolute_error: 0.1035\n",
            "Epoch 454/1000\n",
            "2321/2321 [==============================] - 6s 3ms/step - loss: 0.0462 - mean_absolute_error: 0.1052 - val_loss: 0.0477 - val_mean_absolute_error: 0.0809\n",
            "Epoch 455/1000\n",
            "2321/2321 [==============================] - 6s 3ms/step - loss: 0.0463 - mean_absolute_error: 0.1052 - val_loss: 0.0472 - val_mean_absolute_error: 0.1174\n",
            "Epoch 456/1000\n",
            "2321/2321 [==============================] - 6s 2ms/step - loss: 0.0462 - mean_absolute_error: 0.1053 - val_loss: 0.0468 - val_mean_absolute_error: 0.1073\n",
            "Epoch 457/1000\n",
            "2321/2321 [==============================] - 6s 2ms/step - loss: 0.0461 - mean_absolute_error: 0.1051 - val_loss: 0.0473 - val_mean_absolute_error: 0.1129\n",
            "Epoch 458/1000\n",
            "2321/2321 [==============================] - 6s 3ms/step - loss: 0.0463 - mean_absolute_error: 0.1052 - val_loss: 0.0480 - val_mean_absolute_error: 0.1330\n",
            "Epoch 459/1000\n",
            "2321/2321 [==============================] - 6s 3ms/step - loss: 0.0461 - mean_absolute_error: 0.1051 - val_loss: 0.0482 - val_mean_absolute_error: 0.1287\n",
            "Epoch 460/1000\n",
            "2321/2321 [==============================] - 6s 3ms/step - loss: 0.0461 - mean_absolute_error: 0.1052 - val_loss: 0.0472 - val_mean_absolute_error: 0.1178\n",
            "Epoch 461/1000\n",
            "2321/2321 [==============================] - 6s 3ms/step - loss: 0.0461 - mean_absolute_error: 0.1052 - val_loss: 0.0470 - val_mean_absolute_error: 0.0988\n",
            "Epoch 462/1000\n",
            "2321/2321 [==============================] - 6s 2ms/step - loss: 0.0462 - mean_absolute_error: 0.1053 - val_loss: 0.0470 - val_mean_absolute_error: 0.1135\n",
            "Epoch 463/1000\n",
            "2321/2321 [==============================] - 6s 3ms/step - loss: 0.0462 - mean_absolute_error: 0.1052 - val_loss: 0.0485 - val_mean_absolute_error: 0.0803\n",
            "Epoch 464/1000\n",
            "2321/2321 [==============================] - 6s 3ms/step - loss: 0.0463 - mean_absolute_error: 0.1054 - val_loss: 0.0468 - val_mean_absolute_error: 0.1054\n",
            "Epoch 465/1000\n",
            "2321/2321 [==============================] - 6s 3ms/step - loss: 0.0462 - mean_absolute_error: 0.1052 - val_loss: 0.0471 - val_mean_absolute_error: 0.1093\n",
            "Epoch 466/1000\n",
            "2321/2321 [==============================] - 6s 3ms/step - loss: 0.0462 - mean_absolute_error: 0.1052 - val_loss: 0.0469 - val_mean_absolute_error: 0.0957\n",
            "Epoch 467/1000\n",
            "2321/2321 [==============================] - 6s 2ms/step - loss: 0.0462 - mean_absolute_error: 0.1052 - val_loss: 0.0472 - val_mean_absolute_error: 0.1205\n",
            "Epoch 468/1000\n",
            "2321/2321 [==============================] - 6s 2ms/step - loss: 0.0462 - mean_absolute_error: 0.1050 - val_loss: 0.0485 - val_mean_absolute_error: 0.1205\n",
            "Epoch 469/1000\n",
            "2321/2321 [==============================] - 6s 3ms/step - loss: 0.0462 - mean_absolute_error: 0.1051 - val_loss: 0.0489 - val_mean_absolute_error: 0.1431\n",
            "Epoch 470/1000\n",
            "2321/2321 [==============================] - 6s 2ms/step - loss: 0.0462 - mean_absolute_error: 0.1053 - val_loss: 0.0479 - val_mean_absolute_error: 0.0778\n",
            "Epoch 471/1000\n",
            "2321/2321 [==============================] - 6s 3ms/step - loss: 0.0462 - mean_absolute_error: 0.1050 - val_loss: 0.0468 - val_mean_absolute_error: 0.1057\n",
            "Epoch 472/1000\n",
            "2321/2321 [==============================] - 6s 2ms/step - loss: 0.0462 - mean_absolute_error: 0.1053 - val_loss: 0.0475 - val_mean_absolute_error: 0.0867\n",
            "Epoch 473/1000\n",
            "2321/2321 [==============================] - 6s 3ms/step - loss: 0.0461 - mean_absolute_error: 0.1050 - val_loss: 0.0488 - val_mean_absolute_error: 0.1428\n",
            "Epoch 474/1000\n",
            "2321/2321 [==============================] - 6s 2ms/step - loss: 0.0461 - mean_absolute_error: 0.1050 - val_loss: 0.0469 - val_mean_absolute_error: 0.1000\n",
            "Epoch 475/1000\n",
            "2321/2321 [==============================] - 6s 3ms/step - loss: 0.0463 - mean_absolute_error: 0.1054 - val_loss: 0.0470 - val_mean_absolute_error: 0.0983\n",
            "Epoch 476/1000\n",
            "2321/2321 [==============================] - 6s 2ms/step - loss: 0.0462 - mean_absolute_error: 0.1052 - val_loss: 0.0477 - val_mean_absolute_error: 0.0878\n",
            "Epoch 477/1000\n",
            "2321/2321 [==============================] - 6s 3ms/step - loss: 0.0460 - mean_absolute_error: 0.1049 - val_loss: 0.0499 - val_mean_absolute_error: 0.1503\n",
            "Epoch 478/1000\n",
            "2321/2321 [==============================] - 6s 3ms/step - loss: 0.0461 - mean_absolute_error: 0.1052 - val_loss: 0.0480 - val_mean_absolute_error: 0.0842\n",
            "Epoch 479/1000\n",
            "2321/2321 [==============================] - 6s 3ms/step - loss: 0.0462 - mean_absolute_error: 0.1053 - val_loss: 0.0469 - val_mean_absolute_error: 0.1160\n",
            "Epoch 480/1000\n",
            "2321/2321 [==============================] - 6s 3ms/step - loss: 0.0462 - mean_absolute_error: 0.1052 - val_loss: 0.0481 - val_mean_absolute_error: 0.0761\n",
            "Epoch 481/1000\n",
            "2321/2321 [==============================] - 6s 2ms/step - loss: 0.0463 - mean_absolute_error: 0.1052 - val_loss: 0.0476 - val_mean_absolute_error: 0.0896\n",
            "Epoch 482/1000\n",
            "2321/2321 [==============================] - 6s 2ms/step - loss: 0.0462 - mean_absolute_error: 0.1051 - val_loss: 0.0470 - val_mean_absolute_error: 0.1065\n",
            "Epoch 483/1000\n",
            "2321/2321 [==============================] - 6s 2ms/step - loss: 0.0462 - mean_absolute_error: 0.1053 - val_loss: 0.0468 - val_mean_absolute_error: 0.1091\n",
            "Epoch 484/1000\n",
            "2321/2321 [==============================] - 6s 3ms/step - loss: 0.0461 - mean_absolute_error: 0.1052 - val_loss: 0.0476 - val_mean_absolute_error: 0.0824\n",
            "Epoch 485/1000\n",
            "2321/2321 [==============================] - 6s 3ms/step - loss: 0.0462 - mean_absolute_error: 0.1051 - val_loss: 0.0478 - val_mean_absolute_error: 0.1280\n",
            "Epoch 486/1000\n",
            "2321/2321 [==============================] - 6s 2ms/step - loss: 0.0462 - mean_absolute_error: 0.1053 - val_loss: 0.0471 - val_mean_absolute_error: 0.0983\n",
            "Epoch 487/1000\n",
            "2321/2321 [==============================] - 6s 2ms/step - loss: 0.0462 - mean_absolute_error: 0.1053 - val_loss: 0.0468 - val_mean_absolute_error: 0.1086\n",
            "Epoch 488/1000\n",
            "2321/2321 [==============================] - 6s 3ms/step - loss: 0.0462 - mean_absolute_error: 0.1050 - val_loss: 0.0499 - val_mean_absolute_error: 0.1466\n",
            "Epoch 489/1000\n",
            "2321/2321 [==============================] - 6s 3ms/step - loss: 0.0461 - mean_absolute_error: 0.1053 - val_loss: 0.0525 - val_mean_absolute_error: 0.1669\n",
            "Epoch 490/1000\n",
            "2321/2321 [==============================] - 6s 2ms/step - loss: 0.0461 - mean_absolute_error: 0.1051 - val_loss: 0.0475 - val_mean_absolute_error: 0.1277\n",
            "Epoch 491/1000\n",
            "2321/2321 [==============================] - 6s 3ms/step - loss: 0.0461 - mean_absolute_error: 0.1051 - val_loss: 0.0483 - val_mean_absolute_error: 0.0729\n",
            "Epoch 492/1000\n",
            "2321/2321 [==============================] - 6s 2ms/step - loss: 0.0462 - mean_absolute_error: 0.1052 - val_loss: 0.0468 - val_mean_absolute_error: 0.0980\n",
            "Epoch 493/1000\n",
            "2321/2321 [==============================] - 6s 2ms/step - loss: 0.0460 - mean_absolute_error: 0.1049 - val_loss: 0.0472 - val_mean_absolute_error: 0.1072\n",
            "Epoch 494/1000\n",
            "2321/2321 [==============================] - 6s 3ms/step - loss: 0.0462 - mean_absolute_error: 0.1053 - val_loss: 0.0487 - val_mean_absolute_error: 0.1390\n",
            "Epoch 495/1000\n",
            "2321/2321 [==============================] - 6s 2ms/step - loss: 0.0461 - mean_absolute_error: 0.1051 - val_loss: 0.0470 - val_mean_absolute_error: 0.1188\n",
            "Epoch 496/1000\n",
            "2321/2321 [==============================] - 6s 3ms/step - loss: 0.0462 - mean_absolute_error: 0.1052 - val_loss: 0.0471 - val_mean_absolute_error: 0.1135\n",
            "Epoch 497/1000\n",
            "2321/2321 [==============================] - 6s 2ms/step - loss: 0.0463 - mean_absolute_error: 0.1054 - val_loss: 0.0474 - val_mean_absolute_error: 0.0897\n",
            "Epoch 498/1000\n",
            "2321/2321 [==============================] - 6s 2ms/step - loss: 0.0461 - mean_absolute_error: 0.1051 - val_loss: 0.0504 - val_mean_absolute_error: 0.0824\n",
            "Epoch 499/1000\n",
            "2321/2321 [==============================] - 6s 3ms/step - loss: 0.0461 - mean_absolute_error: 0.1051 - val_loss: 0.0520 - val_mean_absolute_error: 0.1643\n",
            "Epoch 500/1000\n",
            "2321/2321 [==============================] - 6s 3ms/step - loss: 0.0460 - mean_absolute_error: 0.1050 - val_loss: 0.0473 - val_mean_absolute_error: 0.0869\n",
            "Epoch 501/1000\n",
            "2321/2321 [==============================] - 6s 3ms/step - loss: 0.0461 - mean_absolute_error: 0.1050 - val_loss: 0.0470 - val_mean_absolute_error: 0.0965\n",
            "Epoch 502/1000\n",
            "2321/2321 [==============================] - 6s 3ms/step - loss: 0.0461 - mean_absolute_error: 0.1049 - val_loss: 0.0472 - val_mean_absolute_error: 0.1225\n",
            "Epoch 503/1000\n",
            "2321/2321 [==============================] - 6s 2ms/step - loss: 0.0460 - mean_absolute_error: 0.1052 - val_loss: 0.0478 - val_mean_absolute_error: 0.1270\n",
            "Epoch 504/1000\n",
            "2321/2321 [==============================] - 6s 2ms/step - loss: 0.0462 - mean_absolute_error: 0.1052 - val_loss: 0.0469 - val_mean_absolute_error: 0.0954\n",
            "Epoch 505/1000\n",
            "2321/2321 [==============================] - 6s 2ms/step - loss: 0.0462 - mean_absolute_error: 0.1051 - val_loss: 0.0469 - val_mean_absolute_error: 0.1126\n",
            "Epoch 506/1000\n",
            "2321/2321 [==============================] - 6s 2ms/step - loss: 0.0461 - mean_absolute_error: 0.1050 - val_loss: 0.0469 - val_mean_absolute_error: 0.1019\n",
            "Epoch 507/1000\n",
            "2321/2321 [==============================] - 6s 3ms/step - loss: 0.0461 - mean_absolute_error: 0.1051 - val_loss: 0.0474 - val_mean_absolute_error: 0.1037\n",
            "Epoch 508/1000\n",
            "2321/2321 [==============================] - 6s 3ms/step - loss: 0.0462 - mean_absolute_error: 0.1052 - val_loss: 0.0468 - val_mean_absolute_error: 0.1091\n",
            "Epoch 509/1000\n",
            "2321/2321 [==============================] - 6s 3ms/step - loss: 0.0462 - mean_absolute_error: 0.1053 - val_loss: 0.0478 - val_mean_absolute_error: 0.0834\n",
            "Epoch 510/1000\n",
            "2321/2321 [==============================] - 6s 3ms/step - loss: 0.0461 - mean_absolute_error: 0.1051 - val_loss: 0.0474 - val_mean_absolute_error: 0.1256\n",
            "Epoch 511/1000\n",
            "2321/2321 [==============================] - 6s 3ms/step - loss: 0.0462 - mean_absolute_error: 0.1052 - val_loss: 0.0474 - val_mean_absolute_error: 0.0855\n",
            "Epoch 512/1000\n",
            "2321/2321 [==============================] - 6s 2ms/step - loss: 0.0462 - mean_absolute_error: 0.1051 - val_loss: 0.0471 - val_mean_absolute_error: 0.1206\n",
            "Epoch 513/1000\n",
            "2321/2321 [==============================] - 6s 2ms/step - loss: 0.0461 - mean_absolute_error: 0.1051 - val_loss: 0.0470 - val_mean_absolute_error: 0.1009\n",
            "Epoch 514/1000\n",
            "2321/2321 [==============================] - 6s 3ms/step - loss: 0.0461 - mean_absolute_error: 0.1053 - val_loss: 0.0469 - val_mean_absolute_error: 0.1020\n",
            "Epoch 515/1000\n",
            "2321/2321 [==============================] - 6s 3ms/step - loss: 0.0460 - mean_absolute_error: 0.1049 - val_loss: 0.0487 - val_mean_absolute_error: 0.1413\n",
            "Epoch 516/1000\n",
            "2321/2321 [==============================] - 6s 3ms/step - loss: 0.0461 - mean_absolute_error: 0.1052 - val_loss: 0.0480 - val_mean_absolute_error: 0.0903\n",
            "Epoch 517/1000\n",
            "2321/2321 [==============================] - 6s 3ms/step - loss: 0.0462 - mean_absolute_error: 0.1053 - val_loss: 0.0468 - val_mean_absolute_error: 0.1140\n",
            "Epoch 518/1000\n",
            "2321/2321 [==============================] - 6s 3ms/step - loss: 0.0461 - mean_absolute_error: 0.1052 - val_loss: 0.0467 - val_mean_absolute_error: 0.1045\n",
            "Epoch 519/1000\n",
            "2321/2321 [==============================] - 6s 3ms/step - loss: 0.0461 - mean_absolute_error: 0.1051 - val_loss: 0.0486 - val_mean_absolute_error: 0.0752\n",
            "Epoch 520/1000\n",
            "2321/2321 [==============================] - 6s 2ms/step - loss: 0.0461 - mean_absolute_error: 0.1052 - val_loss: 0.0481 - val_mean_absolute_error: 0.0764\n",
            "Epoch 521/1000\n",
            "2321/2321 [==============================] - 6s 3ms/step - loss: 0.0462 - mean_absolute_error: 0.1051 - val_loss: 0.0476 - val_mean_absolute_error: 0.1290\n",
            "Epoch 522/1000\n",
            "2321/2321 [==============================] - 6s 3ms/step - loss: 0.0461 - mean_absolute_error: 0.1050 - val_loss: 0.0476 - val_mean_absolute_error: 0.1136\n",
            "Epoch 523/1000\n",
            "2321/2321 [==============================] - 6s 3ms/step - loss: 0.0461 - mean_absolute_error: 0.1050 - val_loss: 0.0469 - val_mean_absolute_error: 0.1164\n",
            "Epoch 524/1000\n",
            "2321/2321 [==============================] - 6s 3ms/step - loss: 0.0461 - mean_absolute_error: 0.1053 - val_loss: 0.0467 - val_mean_absolute_error: 0.1037\n",
            "Epoch 525/1000\n",
            "2321/2321 [==============================] - 6s 2ms/step - loss: 0.0461 - mean_absolute_error: 0.1050 - val_loss: 0.0483 - val_mean_absolute_error: 0.1371\n",
            "Epoch 526/1000\n",
            "2321/2321 [==============================] - 6s 2ms/step - loss: 0.0460 - mean_absolute_error: 0.1051 - val_loss: 0.0531 - val_mean_absolute_error: 0.1672\n",
            "Epoch 527/1000\n",
            "2321/2321 [==============================] - 6s 3ms/step - loss: 0.0461 - mean_absolute_error: 0.1050 - val_loss: 0.0478 - val_mean_absolute_error: 0.0803\n",
            "Epoch 528/1000\n",
            "2321/2321 [==============================] - 6s 3ms/step - loss: 0.0460 - mean_absolute_error: 0.1049 - val_loss: 0.0473 - val_mean_absolute_error: 0.0912\n",
            "Epoch 529/1000\n",
            "2321/2321 [==============================] - 6s 2ms/step - loss: 0.0461 - mean_absolute_error: 0.1051 - val_loss: 0.0471 - val_mean_absolute_error: 0.1183\n",
            "Epoch 530/1000\n",
            "2321/2321 [==============================] - 6s 2ms/step - loss: 0.0461 - mean_absolute_error: 0.1051 - val_loss: 0.0468 - val_mean_absolute_error: 0.0986\n",
            "Epoch 531/1000\n",
            "2321/2321 [==============================] - 6s 2ms/step - loss: 0.0461 - mean_absolute_error: 0.1050 - val_loss: 0.0510 - val_mean_absolute_error: 0.1587\n",
            "Epoch 532/1000\n",
            "2321/2321 [==============================] - 6s 3ms/step - loss: 0.0460 - mean_absolute_error: 0.1051 - val_loss: 0.0471 - val_mean_absolute_error: 0.0917\n",
            "Epoch 533/1000\n",
            "2321/2321 [==============================] - 6s 2ms/step - loss: 0.0462 - mean_absolute_error: 0.1050 - val_loss: 0.0472 - val_mean_absolute_error: 0.0952\n",
            "Epoch 534/1000\n",
            "2321/2321 [==============================] - 6s 2ms/step - loss: 0.0460 - mean_absolute_error: 0.1048 - val_loss: 0.0473 - val_mean_absolute_error: 0.1034\n",
            "Epoch 535/1000\n",
            "2321/2321 [==============================] - 6s 3ms/step - loss: 0.0461 - mean_absolute_error: 0.1052 - val_loss: 0.0471 - val_mean_absolute_error: 0.0974\n",
            "Epoch 536/1000\n",
            "2321/2321 [==============================] - 6s 3ms/step - loss: 0.0461 - mean_absolute_error: 0.1051 - val_loss: 0.0472 - val_mean_absolute_error: 0.1186\n",
            "Epoch 537/1000\n",
            "2321/2321 [==============================] - 6s 2ms/step - loss: 0.0461 - mean_absolute_error: 0.1050 - val_loss: 0.0468 - val_mean_absolute_error: 0.1110\n",
            "Epoch 538/1000\n",
            "2321/2321 [==============================] - 6s 3ms/step - loss: 0.0461 - mean_absolute_error: 0.1049 - val_loss: 0.0474 - val_mean_absolute_error: 0.1243\n",
            "Epoch 539/1000\n",
            "2321/2321 [==============================] - 6s 3ms/step - loss: 0.0461 - mean_absolute_error: 0.1051 - val_loss: 0.0468 - val_mean_absolute_error: 0.1128\n",
            "Epoch 540/1000\n",
            "2321/2321 [==============================] - 6s 3ms/step - loss: 0.0462 - mean_absolute_error: 0.1051 - val_loss: 0.0469 - val_mean_absolute_error: 0.1127\n",
            "Epoch 541/1000\n",
            "2321/2321 [==============================] - 6s 3ms/step - loss: 0.0460 - mean_absolute_error: 0.1050 - val_loss: 0.0468 - val_mean_absolute_error: 0.1132\n",
            "Epoch 542/1000\n",
            "2321/2321 [==============================] - 6s 2ms/step - loss: 0.0461 - mean_absolute_error: 0.1051 - val_loss: 0.0473 - val_mean_absolute_error: 0.1227\n",
            "Epoch 543/1000\n",
            "2321/2321 [==============================] - 6s 3ms/step - loss: 0.0460 - mean_absolute_error: 0.1052 - val_loss: 0.0468 - val_mean_absolute_error: 0.0948\n",
            "Epoch 544/1000\n",
            "2321/2321 [==============================] - 6s 3ms/step - loss: 0.0462 - mean_absolute_error: 0.1050 - val_loss: 0.0469 - val_mean_absolute_error: 0.1182\n",
            "Epoch 545/1000\n",
            "2321/2321 [==============================] - 6s 2ms/step - loss: 0.0461 - mean_absolute_error: 0.1051 - val_loss: 0.0469 - val_mean_absolute_error: 0.0918\n",
            "Epoch 546/1000\n",
            " 460/2321 [====>.........................] - ETA: 4s - loss: 0.0463 - mean_absolute_error: 0.1058"
          ]
        },
        {
          "output_type": "error",
          "ename": "KeyboardInterrupt",
          "evalue": "ignored",
          "traceback": [
            "\u001b[0;31m---------------------------------------------------------------------------\u001b[0m",
            "\u001b[0;31mKeyboardInterrupt\u001b[0m                         Traceback (most recent call last)",
            "\u001b[0;32m<ipython-input-318-02a75f5b418b>\u001b[0m in \u001b[0;36m<module>\u001b[0;34m()\u001b[0m\n\u001b[1;32m      3\u001b[0m \u001b[0mhistory_modelos_tpl_I\u001b[0m \u001b[0;34m=\u001b[0m \u001b[0;34m[\u001b[0m\u001b[0;34m]\u001b[0m\u001b[0;34m\u001b[0m\u001b[0;34m\u001b[0m\u001b[0m\n\u001b[1;32m      4\u001b[0m \u001b[0;32mfor\u001b[0m \u001b[0mres\u001b[0m \u001b[0;32min\u001b[0m \u001b[0mrange\u001b[0m\u001b[0;34m(\u001b[0m\u001b[0;36m0\u001b[0m\u001b[0;34m,\u001b[0m\u001b[0;36m4\u001b[0m\u001b[0;34m)\u001b[0m\u001b[0;34m:\u001b[0m\u001b[0;34m\u001b[0m\u001b[0;34m\u001b[0m\u001b[0m\n\u001b[0;32m----> 5\u001b[0;31m   \u001b[0mhistory_modelos_tpl_I\u001b[0m\u001b[0;34m.\u001b[0m\u001b[0mappend\u001b[0m\u001b[0;34m(\u001b[0m\u001b[0mmodelos_tpl_I\u001b[0m\u001b[0;34m[\u001b[0m\u001b[0mres\u001b[0m\u001b[0;34m]\u001b[0m\u001b[0;34m.\u001b[0m\u001b[0mfit\u001b[0m\u001b[0;34m(\u001b[0m\u001b[0mx_train\u001b[0m\u001b[0;34m,\u001b[0m \u001b[0my_train\u001b[0m\u001b[0;34m,\u001b[0m \u001b[0mepochs\u001b[0m\u001b[0;34m=\u001b[0m\u001b[0mepochs\u001b[0m\u001b[0;34m,\u001b[0m \u001b[0mbatch_size\u001b[0m\u001b[0;34m=\u001b[0m\u001b[0;36m10\u001b[0m\u001b[0;34m,\u001b[0m \u001b[0mvalidation_split\u001b[0m\u001b[0;34m=\u001b[0m\u001b[0;36m0.2\u001b[0m\u001b[0;34m,\u001b[0m \u001b[0mverbose\u001b[0m\u001b[0;34m=\u001b[0m\u001b[0;32mTrue\u001b[0m\u001b[0;34m)\u001b[0m\u001b[0;34m)\u001b[0m \u001b[0;31m#callbacks=[early]\u001b[0m\u001b[0;34m\u001b[0m\u001b[0;34m\u001b[0m\u001b[0m\n\u001b[0m",
            "\u001b[0;32m/usr/local/lib/python3.7/dist-packages/keras/utils/traceback_utils.py\u001b[0m in \u001b[0;36merror_handler\u001b[0;34m(*args, **kwargs)\u001b[0m\n\u001b[1;32m     62\u001b[0m     \u001b[0mfiltered_tb\u001b[0m \u001b[0;34m=\u001b[0m \u001b[0;32mNone\u001b[0m\u001b[0;34m\u001b[0m\u001b[0;34m\u001b[0m\u001b[0m\n\u001b[1;32m     63\u001b[0m     \u001b[0;32mtry\u001b[0m\u001b[0;34m:\u001b[0m\u001b[0;34m\u001b[0m\u001b[0;34m\u001b[0m\u001b[0m\n\u001b[0;32m---> 64\u001b[0;31m       \u001b[0;32mreturn\u001b[0m \u001b[0mfn\u001b[0m\u001b[0;34m(\u001b[0m\u001b[0;34m*\u001b[0m\u001b[0margs\u001b[0m\u001b[0;34m,\u001b[0m \u001b[0;34m**\u001b[0m\u001b[0mkwargs\u001b[0m\u001b[0;34m)\u001b[0m\u001b[0;34m\u001b[0m\u001b[0;34m\u001b[0m\u001b[0m\n\u001b[0m\u001b[1;32m     65\u001b[0m     \u001b[0;32mexcept\u001b[0m \u001b[0mException\u001b[0m \u001b[0;32mas\u001b[0m \u001b[0me\u001b[0m\u001b[0;34m:\u001b[0m  \u001b[0;31m# pylint: disable=broad-except\u001b[0m\u001b[0;34m\u001b[0m\u001b[0;34m\u001b[0m\u001b[0m\n\u001b[1;32m     66\u001b[0m       \u001b[0mfiltered_tb\u001b[0m \u001b[0;34m=\u001b[0m \u001b[0m_process_traceback_frames\u001b[0m\u001b[0;34m(\u001b[0m\u001b[0me\u001b[0m\u001b[0;34m.\u001b[0m\u001b[0m__traceback__\u001b[0m\u001b[0;34m)\u001b[0m\u001b[0;34m\u001b[0m\u001b[0;34m\u001b[0m\u001b[0m\n",
            "\u001b[0;32m/usr/local/lib/python3.7/dist-packages/keras/engine/training.py\u001b[0m in \u001b[0;36mfit\u001b[0;34m(self, x, y, batch_size, epochs, verbose, callbacks, validation_split, validation_data, shuffle, class_weight, sample_weight, initial_epoch, steps_per_epoch, validation_steps, validation_batch_size, validation_freq, max_queue_size, workers, use_multiprocessing)\u001b[0m\n\u001b[1;32m   1382\u001b[0m                 _r=1):\n\u001b[1;32m   1383\u001b[0m               \u001b[0mcallbacks\u001b[0m\u001b[0;34m.\u001b[0m\u001b[0mon_train_batch_begin\u001b[0m\u001b[0;34m(\u001b[0m\u001b[0mstep\u001b[0m\u001b[0;34m)\u001b[0m\u001b[0;34m\u001b[0m\u001b[0;34m\u001b[0m\u001b[0m\n\u001b[0;32m-> 1384\u001b[0;31m               \u001b[0mtmp_logs\u001b[0m \u001b[0;34m=\u001b[0m \u001b[0mself\u001b[0m\u001b[0;34m.\u001b[0m\u001b[0mtrain_function\u001b[0m\u001b[0;34m(\u001b[0m\u001b[0miterator\u001b[0m\u001b[0;34m)\u001b[0m\u001b[0;34m\u001b[0m\u001b[0;34m\u001b[0m\u001b[0m\n\u001b[0m\u001b[1;32m   1385\u001b[0m               \u001b[0;32mif\u001b[0m \u001b[0mdata_handler\u001b[0m\u001b[0;34m.\u001b[0m\u001b[0mshould_sync\u001b[0m\u001b[0;34m:\u001b[0m\u001b[0;34m\u001b[0m\u001b[0;34m\u001b[0m\u001b[0m\n\u001b[1;32m   1386\u001b[0m                 \u001b[0mcontext\u001b[0m\u001b[0;34m.\u001b[0m\u001b[0masync_wait\u001b[0m\u001b[0;34m(\u001b[0m\u001b[0;34m)\u001b[0m\u001b[0;34m\u001b[0m\u001b[0;34m\u001b[0m\u001b[0m\n",
            "\u001b[0;32m/usr/local/lib/python3.7/dist-packages/tensorflow/python/util/traceback_utils.py\u001b[0m in \u001b[0;36merror_handler\u001b[0;34m(*args, **kwargs)\u001b[0m\n\u001b[1;32m    148\u001b[0m     \u001b[0mfiltered_tb\u001b[0m \u001b[0;34m=\u001b[0m \u001b[0;32mNone\u001b[0m\u001b[0;34m\u001b[0m\u001b[0;34m\u001b[0m\u001b[0m\n\u001b[1;32m    149\u001b[0m     \u001b[0;32mtry\u001b[0m\u001b[0;34m:\u001b[0m\u001b[0;34m\u001b[0m\u001b[0;34m\u001b[0m\u001b[0m\n\u001b[0;32m--> 150\u001b[0;31m       \u001b[0;32mreturn\u001b[0m \u001b[0mfn\u001b[0m\u001b[0;34m(\u001b[0m\u001b[0;34m*\u001b[0m\u001b[0margs\u001b[0m\u001b[0;34m,\u001b[0m \u001b[0;34m**\u001b[0m\u001b[0mkwargs\u001b[0m\u001b[0;34m)\u001b[0m\u001b[0;34m\u001b[0m\u001b[0;34m\u001b[0m\u001b[0m\n\u001b[0m\u001b[1;32m    151\u001b[0m     \u001b[0;32mexcept\u001b[0m \u001b[0mException\u001b[0m \u001b[0;32mas\u001b[0m \u001b[0me\u001b[0m\u001b[0;34m:\u001b[0m\u001b[0;34m\u001b[0m\u001b[0;34m\u001b[0m\u001b[0m\n\u001b[1;32m    152\u001b[0m       \u001b[0mfiltered_tb\u001b[0m \u001b[0;34m=\u001b[0m \u001b[0m_process_traceback_frames\u001b[0m\u001b[0;34m(\u001b[0m\u001b[0me\u001b[0m\u001b[0;34m.\u001b[0m\u001b[0m__traceback__\u001b[0m\u001b[0;34m)\u001b[0m\u001b[0;34m\u001b[0m\u001b[0;34m\u001b[0m\u001b[0m\n",
            "\u001b[0;32m/usr/local/lib/python3.7/dist-packages/tensorflow/python/eager/def_function.py\u001b[0m in \u001b[0;36m__call__\u001b[0;34m(self, *args, **kwds)\u001b[0m\n\u001b[1;32m    913\u001b[0m \u001b[0;34m\u001b[0m\u001b[0m\n\u001b[1;32m    914\u001b[0m       \u001b[0;32mwith\u001b[0m \u001b[0mOptionalXlaContext\u001b[0m\u001b[0;34m(\u001b[0m\u001b[0mself\u001b[0m\u001b[0;34m.\u001b[0m\u001b[0m_jit_compile\u001b[0m\u001b[0;34m)\u001b[0m\u001b[0;34m:\u001b[0m\u001b[0;34m\u001b[0m\u001b[0;34m\u001b[0m\u001b[0m\n\u001b[0;32m--> 915\u001b[0;31m         \u001b[0mresult\u001b[0m \u001b[0;34m=\u001b[0m \u001b[0mself\u001b[0m\u001b[0;34m.\u001b[0m\u001b[0m_call\u001b[0m\u001b[0;34m(\u001b[0m\u001b[0;34m*\u001b[0m\u001b[0margs\u001b[0m\u001b[0;34m,\u001b[0m \u001b[0;34m**\u001b[0m\u001b[0mkwds\u001b[0m\u001b[0;34m)\u001b[0m\u001b[0;34m\u001b[0m\u001b[0;34m\u001b[0m\u001b[0m\n\u001b[0m\u001b[1;32m    916\u001b[0m \u001b[0;34m\u001b[0m\u001b[0m\n\u001b[1;32m    917\u001b[0m       \u001b[0mnew_tracing_count\u001b[0m \u001b[0;34m=\u001b[0m \u001b[0mself\u001b[0m\u001b[0;34m.\u001b[0m\u001b[0mexperimental_get_tracing_count\u001b[0m\u001b[0;34m(\u001b[0m\u001b[0;34m)\u001b[0m\u001b[0;34m\u001b[0m\u001b[0;34m\u001b[0m\u001b[0m\n",
            "\u001b[0;32m/usr/local/lib/python3.7/dist-packages/tensorflow/python/eager/def_function.py\u001b[0m in \u001b[0;36m_call\u001b[0;34m(self, *args, **kwds)\u001b[0m\n\u001b[1;32m    945\u001b[0m       \u001b[0;31m# In this case we have created variables on the first call, so we run the\u001b[0m\u001b[0;34m\u001b[0m\u001b[0;34m\u001b[0m\u001b[0;34m\u001b[0m\u001b[0m\n\u001b[1;32m    946\u001b[0m       \u001b[0;31m# defunned version which is guaranteed to never create variables.\u001b[0m\u001b[0;34m\u001b[0m\u001b[0;34m\u001b[0m\u001b[0;34m\u001b[0m\u001b[0m\n\u001b[0;32m--> 947\u001b[0;31m       \u001b[0;32mreturn\u001b[0m \u001b[0mself\u001b[0m\u001b[0;34m.\u001b[0m\u001b[0m_stateless_fn\u001b[0m\u001b[0;34m(\u001b[0m\u001b[0;34m*\u001b[0m\u001b[0margs\u001b[0m\u001b[0;34m,\u001b[0m \u001b[0;34m**\u001b[0m\u001b[0mkwds\u001b[0m\u001b[0;34m)\u001b[0m  \u001b[0;31m# pylint: disable=not-callable\u001b[0m\u001b[0;34m\u001b[0m\u001b[0;34m\u001b[0m\u001b[0m\n\u001b[0m\u001b[1;32m    948\u001b[0m     \u001b[0;32melif\u001b[0m \u001b[0mself\u001b[0m\u001b[0;34m.\u001b[0m\u001b[0m_stateful_fn\u001b[0m \u001b[0;32mis\u001b[0m \u001b[0;32mnot\u001b[0m \u001b[0;32mNone\u001b[0m\u001b[0;34m:\u001b[0m\u001b[0;34m\u001b[0m\u001b[0;34m\u001b[0m\u001b[0m\n\u001b[1;32m    949\u001b[0m       \u001b[0;31m# Release the lock early so that multiple threads can perform the call\u001b[0m\u001b[0;34m\u001b[0m\u001b[0;34m\u001b[0m\u001b[0;34m\u001b[0m\u001b[0m\n",
            "\u001b[0;32m/usr/local/lib/python3.7/dist-packages/tensorflow/python/eager/function.py\u001b[0m in \u001b[0;36m__call__\u001b[0;34m(self, *args, **kwargs)\u001b[0m\n\u001b[1;32m   2955\u001b[0m        filtered_flat_args) = self._maybe_define_function(args, kwargs)\n\u001b[1;32m   2956\u001b[0m     return graph_function._call_flat(\n\u001b[0;32m-> 2957\u001b[0;31m         filtered_flat_args, captured_inputs=graph_function.captured_inputs)  # pylint: disable=protected-access\n\u001b[0m\u001b[1;32m   2958\u001b[0m \u001b[0;34m\u001b[0m\u001b[0m\n\u001b[1;32m   2959\u001b[0m   \u001b[0;34m@\u001b[0m\u001b[0mproperty\u001b[0m\u001b[0;34m\u001b[0m\u001b[0;34m\u001b[0m\u001b[0m\n",
            "\u001b[0;32m/usr/local/lib/python3.7/dist-packages/tensorflow/python/eager/function.py\u001b[0m in \u001b[0;36m_call_flat\u001b[0;34m(self, args, captured_inputs, cancellation_manager)\u001b[0m\n\u001b[1;32m   1852\u001b[0m       \u001b[0;31m# No tape is watching; skip to running the function.\u001b[0m\u001b[0;34m\u001b[0m\u001b[0;34m\u001b[0m\u001b[0;34m\u001b[0m\u001b[0m\n\u001b[1;32m   1853\u001b[0m       return self._build_call_outputs(self._inference_function.call(\n\u001b[0;32m-> 1854\u001b[0;31m           ctx, args, cancellation_manager=cancellation_manager))\n\u001b[0m\u001b[1;32m   1855\u001b[0m     forward_backward = self._select_forward_and_backward_functions(\n\u001b[1;32m   1856\u001b[0m         \u001b[0margs\u001b[0m\u001b[0;34m,\u001b[0m\u001b[0;34m\u001b[0m\u001b[0;34m\u001b[0m\u001b[0m\n",
            "\u001b[0;32m/usr/local/lib/python3.7/dist-packages/tensorflow/python/eager/function.py\u001b[0m in \u001b[0;36mcall\u001b[0;34m(self, ctx, args, cancellation_manager)\u001b[0m\n\u001b[1;32m    502\u001b[0m               \u001b[0minputs\u001b[0m\u001b[0;34m=\u001b[0m\u001b[0margs\u001b[0m\u001b[0;34m,\u001b[0m\u001b[0;34m\u001b[0m\u001b[0;34m\u001b[0m\u001b[0m\n\u001b[1;32m    503\u001b[0m               \u001b[0mattrs\u001b[0m\u001b[0;34m=\u001b[0m\u001b[0mattrs\u001b[0m\u001b[0;34m,\u001b[0m\u001b[0;34m\u001b[0m\u001b[0;34m\u001b[0m\u001b[0m\n\u001b[0;32m--> 504\u001b[0;31m               ctx=ctx)\n\u001b[0m\u001b[1;32m    505\u001b[0m         \u001b[0;32melse\u001b[0m\u001b[0;34m:\u001b[0m\u001b[0;34m\u001b[0m\u001b[0;34m\u001b[0m\u001b[0m\n\u001b[1;32m    506\u001b[0m           outputs = execute.execute_with_cancellation(\n",
            "\u001b[0;32m/usr/local/lib/python3.7/dist-packages/tensorflow/python/eager/execute.py\u001b[0m in \u001b[0;36mquick_execute\u001b[0;34m(op_name, num_outputs, inputs, attrs, ctx, name)\u001b[0m\n\u001b[1;32m     53\u001b[0m     \u001b[0mctx\u001b[0m\u001b[0;34m.\u001b[0m\u001b[0mensure_initialized\u001b[0m\u001b[0;34m(\u001b[0m\u001b[0;34m)\u001b[0m\u001b[0;34m\u001b[0m\u001b[0;34m\u001b[0m\u001b[0m\n\u001b[1;32m     54\u001b[0m     tensors = pywrap_tfe.TFE_Py_Execute(ctx._handle, device_name, op_name,\n\u001b[0;32m---> 55\u001b[0;31m                                         inputs, attrs, num_outputs)\n\u001b[0m\u001b[1;32m     56\u001b[0m   \u001b[0;32mexcept\u001b[0m \u001b[0mcore\u001b[0m\u001b[0;34m.\u001b[0m\u001b[0m_NotOkStatusException\u001b[0m \u001b[0;32mas\u001b[0m \u001b[0me\u001b[0m\u001b[0;34m:\u001b[0m\u001b[0;34m\u001b[0m\u001b[0;34m\u001b[0m\u001b[0m\n\u001b[1;32m     57\u001b[0m     \u001b[0;32mif\u001b[0m \u001b[0mname\u001b[0m \u001b[0;32mis\u001b[0m \u001b[0;32mnot\u001b[0m \u001b[0;32mNone\u001b[0m\u001b[0;34m:\u001b[0m\u001b[0;34m\u001b[0m\u001b[0;34m\u001b[0m\u001b[0m\n",
            "\u001b[0;31mKeyboardInterrupt\u001b[0m: "
          ]
        }
      ]
    },
    {
      "cell_type": "markdown",
      "source": [
        "**Resultados do Treinamento**"
      ],
      "metadata": {
        "id": "CovhFhCGpqXT"
      }
    },
    {
      "cell_type": "code",
      "source": [
        "figure(figsize=(16,9),dpi=80)\n",
        "plt.suptitle('TOPOLOGIA I: EVOLUÇÃO DOS TREINAMENTOS', size=14)\n",
        "for res in range(0,4):\n",
        "    plt.subplot(2,2,res+1)\n",
        "    plt.title('Modelo '+ str(res+1) + ': Optimizer(SGD), Regularizer L2('+str(regularizer[res])+'), Momentum('+str(momentum[res])+')')\n",
        "    plt.xlabel(\"Epochs\")\n",
        "    plt.ylabel(\"Loss\")\n",
        "    plt.plot(history_modelos_tpl_I[res].history['loss'], label=\"MLP - Treino\")\n",
        "    plt.plot(history_modelos_tpl_I[res].history['val_loss'], label=\"MLP - Validação\")\n",
        "    plt.legend()\n",
        "plt.show()"
      ],
      "metadata": {
        "id": "TwzvUCVZgpik"
      },
      "execution_count": null,
      "outputs": []
    },
    {
      "cell_type": "markdown",
      "source": [
        "**Avaliação**"
      ],
      "metadata": {
        "id": "vidmUKLLnlHP"
      }
    },
    {
      "cell_type": "code",
      "source": [
        "figure(figsize=(16,9),dpi=80)\n",
        "plt.suptitle('TOPOLOGIA I: AVALIAÇÃO', size=14)\n",
        "\n",
        "for res in range(0,4):\n",
        "\n",
        "  plt.subplot(2,2,res+1)\n",
        "  y_rest = modelos_tpl_I[res].predict(x_train)\n",
        "  plt.plot(x_train, y_train, '.', color='#4682B4')\n",
        "  plt.plot(x_train, y_rest, '.',color='#FF4500')\n",
        "  plt.title('Modelo '+ str(res+1) + ': Optimizer(SGD), Regularizer L2('+str(regularizer[res])+'), Momentum('+str(momentum[res])+')')\n",
        "  plt.xlabel(\"Epochs\")\n",
        "  plt.ylabel(\"Loss\")\n",
        "\n",
        "plt.show()"
      ],
      "metadata": {
        "id": "EEDqJlOKnjiJ"
      },
      "execution_count": null,
      "outputs": []
    },
    {
      "cell_type": "code",
      "source": [
        "figure(figsize=(16,9),dpi=80)\n",
        "plt.suptitle('TOPOLOGIA I: AVALIAÇÃO', size=14)\n",
        "for res in range(0,4):\n",
        "\n",
        "  plt.subplot(2,2,res+1)\n",
        "  y_rest = modelos_tpl_I[res].predict(x_test)\n",
        "  plt.plot(x_test, y_test, '.', color='#4682B4')\n",
        "  plt.plot(x_test, y_rest, '.', markersize=3 ,color='#FF4500')\n",
        "  plt.title('Modelo '+ str(res+1) + ': Optimizer(SGD), Regularizer L2('+str(regularizer[res])+'), Momentum('+str(momentum[res])+')')\n",
        "  plt.xlabel(\"Epochs\")\n",
        "  plt.ylabel(\"Loss\")\n",
        "\n",
        "plt.show()\n",
        "\n",
        "\n",
        "for res in range(0,4):\n",
        "  test_loss = modelos_tpl_I[res].evaluate(x_test, y_test)"
      ],
      "metadata": {
        "id": "iz_dBr1-n2VT"
      },
      "execution_count": null,
      "outputs": []
    },
    {
      "cell_type": "code",
      "source": [
        "score_modelos_tpl_I = []\n",
        "for res in range(0,4): \n",
        "  score_modelos_tpl_I.append(modelos_tpl_I[res].evaluate(x_test, y_test, verbose=0))\n",
        "  print('Topologia I - Modelo '+ str(res+1) + ': Optimizer(SGD), Regularizer L2('+str(regularizer[res])+'), Momentum('+str(momentum[res])+')')\n",
        "  print('Teste loss:',   score_modelos_tpl_I[res][0])\n",
        "  print('Teste métricas:', score_modelos_tpl_I[res][1])\n",
        "  print('----------------------------------------')"
      ],
      "metadata": {
        "id": "J3U7bmmJRxuR"
      },
      "execution_count": null,
      "outputs": []
    },
    {
      "cell_type": "markdown",
      "source": [
        "\n",
        "\n",
        "---\n",
        "\n"
      ],
      "metadata": {
        "id": "obTWRjl18Nr4"
      }
    },
    {
      "cell_type": "markdown",
      "source": [
        "## **Topologia II**\n",
        "\n",
        "A rede neural que será criada será uma MLP com 5 camadas, sendo:\n",
        "*   01 camada de entrada (input layer) com 10 Neurônios\n",
        "*   01 camada escondida (hidden layer) com 15 Neurônios\n",
        "*   01 camada escondida (hidden layer) com 10 Neurônios\n",
        "*   01 camada escondida (hidden layer) com 5 Neurônios\n",
        "*   01 camada de saída (output layer) com 1 Neurônio"
      ],
      "metadata": {
        "id": "Rw0K8Fm63ymW"
      }
    },
    {
      "cell_type": "markdown",
      "source": [
        "**Criação do Modelos**"
      ],
      "metadata": {
        "id": "Ib7GDXsOn__R"
      }
    },
    {
      "cell_type": "code",
      "source": [
        "#Modelos da Topologia II\n",
        "mdl_tpl_II = []\n",
        "\n",
        "for res in range(0,4):\n",
        "  #print(i)\n",
        "  sgd = tf.keras.optimizers.SGD(learning_rate=0.01, momentum=momentum[res])\n",
        "  mdl_tpl_II.append(keras.Sequential())\n",
        "  mdl_tpl_II[res].add(keras.layers.Dense(units=10,  kernel_regularizer=l2(regularizer[res]), input_shape=[1], activation=\"tanh\"))\n",
        "  mdl_tpl_II[res].add(keras.layers.Dense(units=15,  kernel_regularizer=l2(regularizer[res]), activation=\"tanh\"))\n",
        "  mdl_tpl_II[res].add(keras.layers.Dense(units=10,  kernel_regularizer=l2(regularizer[res]), activation=\"tanh\"))\n",
        "  mdl_tpl_II[res].add(keras.layers.Dense(units=5,  kernel_regularizer=l2(regularizer[res]), activation=\"tanh\"))\n",
        "  mdl_tpl_II[res].add(keras.layers.Dense(units=1,  activation=\"linear\"))\n",
        "  #tf.keras.utils.plot_model(mdl_tpl_II[res], show_shapes=True)\n",
        "  mdl_tpl_II[res].compile(loss='mean_squared_error', optimizer=sgd, metrics=[\"mean_absolute_error\"])"
      ],
      "metadata": {
        "id": "C58Lj89kPMsg"
      },
      "execution_count": null,
      "outputs": []
    },
    {
      "cell_type": "markdown",
      "source": [
        "**Agora vamos treinar os Modelos criados**"
      ],
      "metadata": {
        "id": "ochZeag8Ye62"
      }
    },
    {
      "cell_type": "code",
      "source": [
        "early = tf.keras.callbacks.EarlyStopping(monitor='loss', patience=100)\n",
        "\n",
        "history_mdl_tpl_II = []\n",
        "for res in range(0,4):\n",
        "  history_mdl_tpl_II.append(mdl_tpl_II[res].fit(x_train, y_train, epochs=epochs, batch_size=10, validation_split=0.2, verbose=True)) #callbacks=[early]\n"
      ],
      "metadata": {
        "id": "7pYDzqG_Ye63"
      },
      "execution_count": null,
      "outputs": []
    },
    {
      "cell_type": "markdown",
      "source": [
        "**Resultados do Treinamento**"
      ],
      "metadata": {
        "id": "BQO389mxZmeq"
      }
    },
    {
      "cell_type": "code",
      "source": [
        "figure(figsize=(16,9),dpi=80)\n",
        "plt.suptitle('TOPOLOGIA II: EVOLUÇÃO DOS TREINAMENTOS', size=14)\n",
        "for res in range(0,4):\n",
        "    plt.subplot(2,2,res+1)\n",
        "    plt.title('Modelo '+ str(res+1) + ': Optimizer(SGD), Regularizer L2('+str(regularizer[res])+'), Momentum('+str(momentum[res])+')')\n",
        "    plt.xlabel(\"Epochs\")\n",
        "    plt.ylabel(\"Loss\")\n",
        "    plt.plot(history_mdl_tpl_II[res].history['loss'], label=\"MLP - Treino\")\n",
        "    plt.plot(history_mdl_tpl_II[res].history['val_loss'], label=\"MLP - Validação\")\n",
        "    plt.legend()\n",
        "plt.show()"
      ],
      "metadata": {
        "id": "cGk7jJVNZmer"
      },
      "execution_count": null,
      "outputs": []
    },
    {
      "cell_type": "markdown",
      "source": [
        "**Avaliação**"
      ],
      "metadata": {
        "id": "tgcYD1YNZmer"
      }
    },
    {
      "cell_type": "code",
      "source": [
        "figure(figsize=(16,9),dpi=80)\n",
        "plt.suptitle('TOPOLOGIA II: AVALIAÇÃO', size=14)\n",
        "\n",
        "for res in range(0,4):\n",
        "\n",
        "  plt.subplot(2,2,res+1)\n",
        "  y_rest = mdl_tpl_II[res].predict(x_train)\n",
        "  plt.plot(x_train, y_train, '.', color='#4682B4')\n",
        "  plt.plot(x_train, y_rest, '.',color='#FF4500')\n",
        "  plt.title('Modelo '+ str(res+1) + ': Optimizer(SGD), Regularizer L2('+str(regularizer[res])+'), Momentum('+str(momentum[res])+')')\n",
        "  plt.xlabel(\"Epochs\")\n",
        "  plt.ylabel(\"Loss\")\n",
        "\n",
        "plt.show()"
      ],
      "metadata": {
        "id": "1_gfRRGAZmer"
      },
      "execution_count": null,
      "outputs": []
    },
    {
      "cell_type": "code",
      "source": [
        "figure(figsize=(16,9),dpi=80)\n",
        "plt.suptitle('TOPOLOGIA II: AVALIAÇÃO', size=14)\n",
        "for res in range(0,4):\n",
        "\n",
        "  plt.subplot(2,2,res+1)\n",
        "  y_rest = mdl_tpl_II[res].predict(x_test)\n",
        "  plt.plot(x_test, y_test, '.', color='#4682B4')\n",
        "  plt.plot(x_test, y_rest, '.', markersize=3 ,color='#FF4500')\n",
        "  plt.title('Modelo '+ str(res+1) + ': Optimizer(SGD), Regularizer L2('+str(regularizer[res])+'), Momentum('+str(momentum[res])+')')\n",
        "  plt.xlabel(\"Epochs\")\n",
        "  plt.ylabel(\"Loss\")\n",
        "\n",
        "plt.show()\n",
        "\n",
        "\n",
        "for res in range(0,4):\n",
        "  test_loss = mdl_tpl_II[res].evaluate(x_test, y_test)"
      ],
      "metadata": {
        "id": "eELp7CHNZmer"
      },
      "execution_count": null,
      "outputs": []
    },
    {
      "cell_type": "code",
      "source": [
        "score_mdl_tpl_II = []\n",
        "for res in range(0,4): \n",
        "  score_mdl_tpl_II.append(mdl_tpl_II[res].evaluate(x_test, y_test, verbose=0))\n",
        "  print('Topologia II - Modelo '+ str(res+1) + ': Optimizer(SGD), Regularizer L2('+str(regularizer[res])+'), Momentum('+str(momentum[res])+')')\n",
        "  print('Teste loss:',   score_mdl_tpl_II[res][0])\n",
        "  print('Teste métricas:', score_mdl_tpl_II[res][1])\n",
        "  print('----------------------------------------')"
      ],
      "metadata": {
        "id": "TrRIpFB_Zmes"
      },
      "execution_count": null,
      "outputs": []
    },
    {
      "cell_type": "markdown",
      "source": [
        "\n",
        "\n",
        "---\n",
        "\n"
      ],
      "metadata": {
        "id": "i28GNFRkrlCC"
      }
    },
    {
      "cell_type": "markdown",
      "source": [
        "## **Topologia III**\n",
        "\n",
        "A rede neural que será criada será uma MLP com 5 camadas, sendo:\n",
        "*   01 camada de entrada (input layer) com 15 Neurônios\n",
        "*   01 camada escondida (hidden layer) com 15 Neurônios\n",
        "*   01 camada escondida (hidden layer) com 10 Neurônios\n",
        "*   01 camada escondida (hidden layer) com 5 Neurônios\n",
        "*   01 camada de saída (output layer) com 1 Neurônio"
      ],
      "metadata": {
        "id": "heRoh2V_X-Rq"
      }
    },
    {
      "cell_type": "markdown",
      "source": [
        "**Criação do Modelos**"
      ],
      "metadata": {
        "id": "kH_7uFCu6_eu"
      }
    },
    {
      "cell_type": "code",
      "source": [
        "#Modelos da Topologia III\n",
        "mdl_tpl_III = []\n",
        "\n",
        "for res in range(0,4):\n",
        "  #print(i)\n",
        "  sgd = tf.keras.optimizers.SGD(learning_rate=0.01, decay=1e-6, momentum=momentum[res])\n",
        "  mdl_tpl_III.append(keras.Sequential())\n",
        "  mdl_tpl_III[res].add(keras.layers.Dense(units=15,  kernel_regularizer=l2(regularizer[res]), input_shape=[1], activation=\"tanh\"))\n",
        "  mdl_tpl_III[res].add(keras.layers.Dense(units=15,  kernel_regularizer=l2(regularizer[res]), activation=\"tanh\"))\n",
        "  mdl_tpl_III[res].add(keras.layers.Dense(units=10,  kernel_regularizer=l2(regularizer[res]), activation=\"tanh\"))\n",
        "  mdl_tpl_III[res].add(keras.layers.Dense(units=5,  activation=\"tanh\"))\n",
        "  mdl_tpl_III[res].add(keras.layers.Dense(units=1,  activation=\"linear\"))\n",
        "  #tf.keras.utils.plot_model(mdl_tpl_III[res], show_shapes=True)\n",
        "  mdl_tpl_III[res].compile(loss='mean_squared_error', optimizer=sgd, metrics=[\"mean_absolute_error\"])"
      ],
      "metadata": {
        "id": "bBBBbLld6dig"
      },
      "execution_count": null,
      "outputs": []
    },
    {
      "cell_type": "markdown",
      "source": [
        "**Agora vamos treinar os Modelos criados**"
      ],
      "metadata": {
        "id": "qzEcOmHH6dig"
      }
    },
    {
      "cell_type": "code",
      "source": [
        "early = tf.keras.callbacks.EarlyStopping(monitor='loss', patience=100)\n",
        "\n",
        "history_mdl_tpl_III = []\n",
        "for res in range(0,4):\n",
        "  history_mdl_tpl_III.append(mdl_tpl_III[res].fit(x_train, y_train, epochs=epochs, batch_size=10, validation_split=0.2, verbose=True)) #callbacks=[early]\n"
      ],
      "metadata": {
        "id": "mkHY9gx06dig"
      },
      "execution_count": null,
      "outputs": []
    },
    {
      "cell_type": "markdown",
      "source": [
        "**Resultados do Treinamento**"
      ],
      "metadata": {
        "id": "HtoNoXoR6dig"
      }
    },
    {
      "cell_type": "code",
      "source": [
        "figure(figsize=(16,9),dpi=80)\n",
        "plt.suptitle('TOPOLOGIA III: EVOLUÇÃO DOS TREINAMENTOS', size=14)\n",
        "for res in range(0,4):\n",
        "    plt.subplot(2,2,res+1)\n",
        "    plt.title('Modelo '+ str(res+1) + ': Optimizer(SGD), Regularizer L2('+str(regularizer[res])+'), Momentum('+str(momentum[res])+')')\n",
        "    plt.xlabel(\"Epochs\")\n",
        "    plt.ylabel(\"Loss\")\n",
        "    plt.plot(history_mdl_tpl_III[res].history['loss'], label=\"MLP - Treino\")\n",
        "    plt.plot(history_mdl_tpl_III[res].history['val_loss'], label=\"MLP - Validação\")\n",
        "    plt.legend()\n",
        "plt.show()"
      ],
      "metadata": {
        "id": "FvtvMw7t6dih"
      },
      "execution_count": null,
      "outputs": []
    },
    {
      "cell_type": "markdown",
      "source": [
        "**Avaliação**"
      ],
      "metadata": {
        "id": "fZuDPCPu6dih"
      }
    },
    {
      "cell_type": "code",
      "source": [
        "figure(figsize=(16,9),dpi=80)\n",
        "plt.suptitle('TOPOLOGIA III: AVALIAÇÃO', size=14)\n",
        "\n",
        "for res in range(0,4):\n",
        "\n",
        "  plt.subplot(2,2,res+1)\n",
        "  y_rest = mdl_tpl_III[res].predict(x_train)\n",
        "  plt.plot(x_train, y_train, '.', color='#4682B4')\n",
        "  plt.plot(x_train, y_rest, '.',color='#FF4500')\n",
        "  plt.title('Modelo '+ str(res+1) + ': Optimizer(SGD), Regularizer L2('+str(regularizer[res])+'), Momentum('+str(momentum[res])+')')\n",
        "  plt.xlabel(\"Epochs\")\n",
        "  plt.ylabel(\"Loss\")\n",
        "\n",
        "plt.show()"
      ],
      "metadata": {
        "id": "h1DOxEJz6dih"
      },
      "execution_count": null,
      "outputs": []
    },
    {
      "cell_type": "code",
      "source": [
        "figure(figsize=(16,9),dpi=80)\n",
        "plt.suptitle('TOPOLOGIA III: AVALIAÇÃO', size=14)\n",
        "for res in range(0,4):\n",
        "\n",
        "  plt.subplot(2,2,res+1)\n",
        "  y_rest = mdl_tpl_III[res].predict(x_test)\n",
        "  plt.plot(x_test, y_test, '.', color='#4682B4')\n",
        "  plt.plot(x_test, y_rest, '.', markersize=3 ,color='#FF4500')\n",
        "  plt.title('Modelo '+ str(res+1) + ': Optimizer(SGD), Regularizer L2('+str(regularizer[res])+'), Momentum('+str(momentum[res])+')')\n",
        "  plt.xlabel(\"Epochs\")\n",
        "  plt.ylabel(\"Loss\")\n",
        "\n",
        "plt.show()\n",
        "\n",
        "\n",
        "for res in range(0,4):\n",
        "  test_loss = mdl_tpl_III[res].evaluate(x_test, y_test)"
      ],
      "metadata": {
        "id": "25May2fj6dih"
      },
      "execution_count": null,
      "outputs": []
    },
    {
      "cell_type": "code",
      "source": [
        "score_mdl_tpl_III = []\n",
        "for res in range(0,4): \n",
        "  score_mdl_tpl_III.append(mdl_tpl_III[res].evaluate(x_test, y_test, verbose=0))\n",
        "  print('Topologia III - Modelo '+ str(res+1) + ': Optimizer(SGD), Regularizer L2('+str(regularizer[res])+'), Momentum('+str(momentum[res])+')')\n",
        "  print('Teste loss:',   score_mdl_tpl_III[res][0])\n",
        "  print('Teste métricas:', score_mdl_tpl_III[res][1])\n",
        "  print('----------------------------------------')"
      ],
      "metadata": {
        "id": "jPAmRJTF6dii"
      },
      "execution_count": null,
      "outputs": []
    },
    {
      "cell_type": "markdown",
      "source": [
        "\n",
        "\n",
        "---\n",
        "\n"
      ],
      "metadata": {
        "id": "dMQlGi_mGnC0"
      }
    },
    {
      "cell_type": "markdown",
      "source": [
        "## **Topologia IV**\n",
        "\n",
        "A rede neural que será criada será uma MLP com 6 camadas, sendo:\n",
        "*   01 camada de entrada (input layer) com 20 Neurônios\n",
        "*   01 camada escondida (hidden layer) com 20 Neurônios\n",
        "*   01 camada escondida (hidden layer) com 20 Neurônios\n",
        "*   01 camada escondida (hidden layer) com 10 Neurônios\n",
        "*   01 camada escondida (hidden layer) com 5 Neurônios\n",
        "*   01 camada de saída (output layer) com 1 Neurônio"
      ],
      "metadata": {
        "id": "HaGfg7ZeE-VS"
      }
    },
    {
      "cell_type": "markdown",
      "source": [
        "**Criação do Modelos**"
      ],
      "metadata": {
        "id": "sJ-tTv8RE-VT"
      }
    },
    {
      "cell_type": "code",
      "source": [
        "#Modelos da Topologia IV\n",
        "mdl_tpl_IV = []\n",
        "\n",
        "for res in range(0,4):\n",
        "  #print(i)\n",
        "  sgd = tf.keras.optimizers.SGD(learning_rate=0.01, decay=1e-6, momentum=momentum[res])\n",
        "  mdl_tpl_IV.append(keras.Sequential())\n",
        "  mdl_tpl_IV[res].add(keras.layers.Dense(units=20,  kernel_regularizer=l2(regularizer[res]), input_shape=[1], activation=\"tanh\"))\n",
        "  mdl_tpl_IV[res].add(keras.layers.Dense(units=20,  kernel_regularizer=l2(regularizer[res]), activation=\"tanh\"))\n",
        "  mdl_tpl_IV[res].add(keras.layers.Dense(units=20,  kernel_regularizer=l2(regularizer[res]), activation=\"tanh\"))\n",
        "  mdl_tpl_IV[res].add(keras.layers.Dense(units=10,  kernel_regularizer=l2(regularizer[res]), activation=\"tanh\"))\n",
        "  mdl_tpl_IV[res].add(keras.layers.Dense(units=5,  kernel_regularizer=l2(regularizer[res]), activation=\"tanh\"))\n",
        "  mdl_tpl_IV[res].add(keras.layers.Dense(units=1, activation=\"linear\"))\n",
        "  #tf.keras.utils.plot_model(mdl_tpl_IV[res], show_shapes=True)\n",
        "  mdl_tpl_IV[res].compile(loss='mean_squared_error', optimizer=sgd, metrics=[\"mean_absolute_error\"])"
      ],
      "metadata": {
        "id": "aAG1xttsE-VU"
      },
      "execution_count": null,
      "outputs": []
    },
    {
      "cell_type": "markdown",
      "source": [
        "**Agora vamos treinar os Modelos criados**"
      ],
      "metadata": {
        "id": "059r8QMtE-VV"
      }
    },
    {
      "cell_type": "code",
      "source": [
        "early = tf.keras.callbacks.EarlyStopping(monitor='loss', patience=100)\n",
        "\n",
        "history_mdl_tpl_IV = []\n",
        "for res in range(0,4):\n",
        "  history_mdl_tpl_IV.append(mdl_tpl_IV[res].fit(x_train, y_train, epochs=epochs, batch_size=10, validation_split=0.2, verbose=True)) #callbacks=[early]\n"
      ],
      "metadata": {
        "id": "ANqy9TyfE-VV"
      },
      "execution_count": null,
      "outputs": []
    },
    {
      "cell_type": "markdown",
      "source": [
        "**Resultados do Treinamento**"
      ],
      "metadata": {
        "id": "Mhp6nVzhE-VW"
      }
    },
    {
      "cell_type": "code",
      "source": [
        "figure(figsize=(16,9),dpi=80)\n",
        "plt.suptitle('TOPOLOGIA IV: EVOLUÇÃO DOS TREINAMENTOS', size=14)\n",
        "for res in range(0,4):\n",
        "    plt.subplot(2,2,res+1)\n",
        "    plt.title('Modelo '+ str(res+1) + ': Optimizer(SGD), Regularizer L2('+str(regularizer[res])+'), Momentum('+str(momentum[res])+')')\n",
        "    plt.xlabel(\"Epochs\")\n",
        "    plt.ylabel(\"Loss\")\n",
        "    plt.plot(history_mdl_tpl_IV[res].history['loss'], label=\"MLP - Treino\")\n",
        "    plt.plot(history_mdl_tpl_IV[res].history['val_loss'], label=\"MLP - Validação\")\n",
        "    plt.legend()\n",
        "plt.show()"
      ],
      "metadata": {
        "id": "y2GSR4IdE-VW"
      },
      "execution_count": null,
      "outputs": []
    },
    {
      "cell_type": "markdown",
      "source": [
        "**Avaliação**"
      ],
      "metadata": {
        "id": "RPLnepOrE-VX"
      }
    },
    {
      "cell_type": "code",
      "source": [
        "figure(figsize=(16,9),dpi=80)\n",
        "plt.suptitle('TOPOLOGIA IV: AVALIAÇÃO', size=14)\n",
        "\n",
        "for res in range(0,4):\n",
        "\n",
        "  plt.subplot(2,2,res+1)\n",
        "  y_rest = mdl_tpl_IV[res].predict(x_train)\n",
        "  plt.plot(x_train, y_train, '.', color='#4682B4')\n",
        "  plt.plot(x_train, y_rest, '.',color='#FF4500')\n",
        "  plt.title('Modelo '+ str(res+1) + ': Optimizer(SGD), Regularizer L2('+str(regularizer[res])+'), Momentum('+str(momentum[res])+')')\n",
        "  plt.xlabel(\"Epochs\")\n",
        "  plt.ylabel(\"Loss\")\n",
        "\n",
        "plt.show()"
      ],
      "metadata": {
        "id": "M7VR8TKfE-VX"
      },
      "execution_count": null,
      "outputs": []
    },
    {
      "cell_type": "code",
      "source": [
        "figure(figsize=(16,9),dpi=80)\n",
        "plt.suptitle('TOPOLOGIA IV: AVALIAÇÃO', size=14)\n",
        "for res in range(0,4):\n",
        "\n",
        "  plt.subplot(2,2,res+1)\n",
        "  y_rest = mdl_tpl_IV[res].predict(x_test)\n",
        "  plt.plot(x_test, y_test, '.', color='#4682B4')\n",
        "  plt.plot(x_test, y_rest, '.', markersize=3 ,color='#FF4500')\n",
        "  plt.title('Modelo '+ str(res+1) + ': Optimizer(SGD), Regularizer L2('+str(regularizer[res])+'), Momentum('+str(momentum[res])+')')\n",
        "  plt.xlabel(\"Epochs\")\n",
        "  plt.ylabel(\"Loss\")\n",
        "\n",
        "plt.show()\n",
        "\n",
        "\n",
        "for res in range(0,4):\n",
        "  test_loss = mdl_tpl_IV[res].evaluate(x_test, y_test)"
      ],
      "metadata": {
        "id": "h__QL27KE-VY"
      },
      "execution_count": null,
      "outputs": []
    },
    {
      "cell_type": "code",
      "source": [
        "score_mdl_tpl_IV = []\n",
        "for res in range(0,4): \n",
        "  score_mdl_tpl_IV.append(mdl_tpl_IV[res].evaluate(x_test, y_test, verbose=0))\n",
        "  print('Topologia III - Modelo '+ str(res+1) + ': Optimizer(SGD), Regularizer L2('+str(regularizer[res])+'), Momentum('+str(momentum[res])+')')\n",
        "  print('Teste loss:',   score_mdl_tpl_IV[res][0])\n",
        "  print('Teste métricas:', score_mdl_tpl_IV[res][1])\n",
        "  print('----------------------------------------')"
      ],
      "metadata": {
        "id": "R6oaL8u5E-VY"
      },
      "execution_count": null,
      "outputs": []
    },
    {
      "cell_type": "markdown",
      "source": [
        "## **Topologia V**\n",
        "\n",
        "A rede neural que será criada será uma MLP com 6 camadas, sendo:\n",
        "*   01 camada de entrada (input layer) com 50 Neurônios\n",
        "*   01 camada escondida (hidden layer) com 50 Neurônios\n",
        "*   01 camada escondida (hidden layer) com 50 Neurônios\n",
        "*   01 camada escondida (hidden layer) com 40 Neurônios\n",
        "*   01 camada escondida (hidden layer) com 20 Neurônios\n",
        "*   01 camada de saída (output layer) com 1 Neurônio"
      ],
      "metadata": {
        "id": "GQJY3zPss3rU"
      }
    },
    {
      "cell_type": "markdown",
      "source": [
        "**Criação do Modelos**"
      ],
      "metadata": {
        "id": "SCXA8O1qs3rV"
      }
    },
    {
      "cell_type": "code",
      "source": [
        "#Modelos da Topologia V\n",
        "mdl_tpl_V = []\n",
        "\n",
        "for res in range(0,4):\n",
        "  #print(i)\n",
        "  sgd = tf.keras.optimizers.SGD(learning_rate=0.01, decay=1e-6, momentum=momentum[res])\n",
        "  mdl_tpl_V.append(keras.Sequential())\n",
        "  mdl_tpl_V[res].add(keras.layers.Dense(units=50,  kernel_regularizer=l2(regularizer[res]), input_shape=[1], activation=\"tanh\"))\n",
        "  mdl_tpl_V[res].add(Dropout(dropout[res]))\n",
        "  mdl_tpl_V[res].add(keras.layers.Dense(units=50,  kernel_regularizer=l2(regularizer[res]), activation=\"tanh\"))\n",
        "  mdl_tpl_V[res].add(Dropout(dropout[res]))\n",
        "  mdl_tpl_V[res].add(keras.layers.Dense(units=50,  kernel_regularizer=l2(regularizer[res]), activation=\"tanh\"))\n",
        "  mdl_tpl_V[res].add(Dropout(dropout[res]))\n",
        "  mdl_tpl_V[res].add(keras.layers.Dense(units=40,  kernel_regularizer=l2(regularizer[res]), activation=\"tanh\"))\n",
        "  mdl_tpl_V[res].add(Dropout(dropout[res]))\n",
        "  mdl_tpl_V[res].add(keras.layers.Dense(units=20,  kernel_regularizer=l2(regularizer[res]), activation=\"tanh\"))\n",
        "  mdl_tpl_V[res].add(keras.layers.Dense(units=1, activation=\"linear\"))\n",
        "  #tf.keras.utils.plot_model(mdl_tpl_V[res], show_shapes=True)\n",
        "  mdl_tpl_V[res].compile(loss='mean_squared_error', optimizer=sgd, metrics=[\"mean_absolute_error\"])"
      ],
      "metadata": {
        "id": "d_SUAuGVs3rW"
      },
      "execution_count": null,
      "outputs": []
    },
    {
      "cell_type": "markdown",
      "source": [
        "**Agora vamos treinar os Modelos criados**"
      ],
      "metadata": {
        "id": "dfk1iU1is3rX"
      }
    },
    {
      "cell_type": "code",
      "source": [
        "early = tf.keras.callbacks.EarlyStopping(monitor='loss', patience=100)\n",
        "\n",
        "history_mdl_tpl_V = []\n",
        "for res in range(0,4):\n",
        "  history_mdl_tpl_V.append(mdl_tpl_V[res].fit(x_train, y_train, epochs=epochs, batch_size=10, validation_split=0.2, verbose=True)) #callbacks=[early]\n"
      ],
      "metadata": {
        "id": "dHodAv1As3rX"
      },
      "execution_count": null,
      "outputs": []
    },
    {
      "cell_type": "markdown",
      "source": [
        "**Resultados do Treinamento**"
      ],
      "metadata": {
        "id": "fwsgmROgs3rX"
      }
    },
    {
      "cell_type": "code",
      "source": [
        "figure(figsize=(16,9),dpi=80)\n",
        "plt.suptitle('TOPOLOGIA V: EVOLUÇÃO DOS TREINAMENTOS', size=14)\n",
        "for res in range(0,4):\n",
        "    plt.subplot(2,2,res+1)\n",
        "    plt.title('Modelo '+ str(res+1) + ': Optimizer(SGD), Regularizer L2('+str(regularizer[res])+'), Momentum('+str(momentum[res])+')')\n",
        "    plt.xlabel(\"Epochs\")\n",
        "    plt.ylabel(\"Loss\")\n",
        "    plt.plot(history_mdl_tpl_V[res].history['loss'], label=\"MLP - Treino\")\n",
        "    plt.plot(history_mdl_tpl_V[res].history['val_loss'], label=\"MLP - Validação\")\n",
        "    plt.legend()\n",
        "plt.show()"
      ],
      "metadata": {
        "id": "BLTrX4x4s3rY"
      },
      "execution_count": null,
      "outputs": []
    },
    {
      "cell_type": "markdown",
      "source": [
        "**Avaliação**"
      ],
      "metadata": {
        "id": "Eu2nN3qes3rZ"
      }
    },
    {
      "cell_type": "code",
      "source": [
        "figure(figsize=(16,9),dpi=80)\n",
        "plt.suptitle('TOPOLOGIA V: AVALIAÇÃO', size=14)\n",
        "\n",
        "for res in range(0,4):\n",
        "\n",
        "  plt.subplot(2,2,res+1)\n",
        "  y_rest = mdl_tpl_V[res].predict(x_train)\n",
        "  plt.plot(x_train, y_train, '.', color='#4682B4')\n",
        "  plt.plot(x_train, y_rest, '.',color='#FF4500')\n",
        "  plt.title('Modelo '+ str(res+1) + ': Optimizer(SGD), Regularizer L2('+str(regularizer[res])+'), Momentum('+str(momentum[res])+')')\n",
        "  plt.xlabel(\"Epochs\")\n",
        "  plt.ylabel(\"Loss\")\n",
        "\n",
        "plt.show()"
      ],
      "metadata": {
        "id": "N8K0CBXas3rZ"
      },
      "execution_count": null,
      "outputs": []
    },
    {
      "cell_type": "code",
      "source": [
        "figure(figsize=(16,9),dpi=80)\n",
        "plt.suptitle('TOPOLOGIA V: AVALIAÇÃO', size=14)\n",
        "for res in range(0,4):\n",
        "\n",
        "  plt.subplot(2,2,res+1)\n",
        "  y_rest = mdl_tpl_V[res].predict(x_test)\n",
        "  plt.plot(x_test, y_test, '.', color='#4682B4')\n",
        "  plt.plot(x_test, y_rest, '.', markersize=3 ,color='#FF4500')\n",
        "  plt.title('Modelo '+ str(res+1) + ': Optimizer(SGD), Regularizer L2('+str(regularizer[res])+'), Momentum('+str(momentum[res])+')')\n",
        "  plt.xlabel(\"Epochs\")\n",
        "  plt.ylabel(\"Loss\")\n",
        "\n",
        "plt.show()\n",
        "\n",
        "\n",
        "for res in range(0,4):\n",
        "  test_loss = mdl_tpl_V[res].evaluate(x_test, y_test)"
      ],
      "metadata": {
        "id": "r2i0-F-vs3rc"
      },
      "execution_count": null,
      "outputs": []
    },
    {
      "cell_type": "code",
      "source": [
        "score_mdl_tpl_V = []\n",
        "for res in range(0,4): \n",
        "  score_mdl_tpl_V.append(mdl_tpl_V[res].evaluate(x_test, y_test, verbose=0))\n",
        "  print('Topologia III - Modelo '+ str(res+1) + ': Optimizer(SGD), Regularizer L2('+str(regularizer[res])+'), Momentum('+str(momentum[res])+')')\n",
        "  print('Teste loss:',   score_mdl_tpl_V[res][0])\n",
        "  print('Teste métricas:', score_mdl_tpl_V[res][1])\n",
        "  print('----------------------------------------')"
      ],
      "metadata": {
        "id": "NpGsdJhWs3rd"
      },
      "execution_count": null,
      "outputs": []
    },
    {
      "cell_type": "markdown",
      "source": [
        "# **Problema 2: Classificação**"
      ],
      "metadata": {
        "id": "4rCuKURC35Fs"
      }
    },
    {
      "cell_type": "code",
      "source": [
        "#Vamos coletar apenas uma parte do Dataset para usá-lo neste Projeto\n",
        "'''split_date = datetime.datetime(year=2022, month=6,day=1)\n",
        "\n",
        "df_train_rd80 = df_rd80.loc[df_rd80.index < str(split_date)]\n",
        "df_val_rd80 = df_rd80.loc[df_rd80.index >= str(split_date)]\n",
        "\n",
        "df_train_rd80.reset_index(inplace=True)\n",
        "df_val_rd80.reset_index(inplace=True)\n",
        "\n",
        "print('Shape do treinamento: ', df_train_rd80.shape)\n",
        "print('Shape da validação: ', df_val_rd80.shape)\n",
        "df_train_rd80.head(n=20)'''"
      ],
      "metadata": {
        "id": "_9FTcR2PTiaQ"
      },
      "execution_count": null,
      "outputs": []
    },
    {
      "cell_type": "code",
      "source": [
        "#Visualizando as correlações entre as variáveis\n",
        "corr = df_rd80.corr()\n",
        "plt.figure(figsize=(6, 6))\n",
        "sns.heatmap(corr[(corr >= 0.30) | (corr <= -0.30)],cmap='viridis', vmax=1.0, vmin=-1.0, linewidths=0.1, annot=True, annot_kws={\"size\": 14}, square=True);"
      ],
      "metadata": {
        "id": "2Lmy3vD-8Is-"
      },
      "execution_count": null,
      "outputs": []
    },
    {
      "cell_type": "markdown",
      "source": [
        "#  **Considerações Finais**\n",
        "\n",
        "As redes MLP é uma boa opção para ser aplicada em problemas de regressão. Com base nos históricos obtidos nos treinamentos e testes em cada uma das topologias, aplicando a variação nos hyperparâmetros, número de camadas e números de neurônios, foi  possível visualizar qual a melhor configuração e melhor modelo para ser apicado ao problema em questão."
      ],
      "metadata": {
        "id": "02azJBf2w61y"
      }
    },
    {
      "cell_type": "markdown",
      "source": [
        "# **Referências**\n",
        "\n",
        "BASHEER, I. A.; HAJMEER, M. Artificial neural networks: fundamentals, computing, design, and application. Journal of Microbiological Methods, v. 43, p. 3–31, 2000\n",
        "\n",
        "HAYKIN, Simon. Redes Neurais : princípios e prática. Traduzido por Paulo Martins Engel. 2. ed. Porto Alegre : Bookman, 2001. 900 p. il.\n",
        "\n",
        "HSU, K. L.; GAO, X.; SOROOSHIAN, S.; GUPTA, H. V. Precipitation estimation from remotely sensed information using artificial neural networks. Journal of Applied Meteorology, v. 36, n. 9, p. 1176-1190, 1997.\n",
        "\n",
        "https://towardsdatascience.com/deep-learning-which-loss-and-activation-functions-should-i-use-ac02f1c56aa8\n",
        "\n",
        "https://sites.icmc.usp.br/andre/research/neural/MLP.htm\n",
        "\n",
        "KOVAKS, Z. L. Redes Neurais Artificiais: fundamentos e Aplicações. São Paulo: Acadêmica, 1996.\n",
        "\n",
        "TAFNER, Malcon A.; XEREZ, Marcos de; RODRIGUES FILHO, Ilson W. Redes neurais artificiais : introdução e princípios de neurocomputação. Blumenau : Eko, 1995."
      ],
      "metadata": {
        "id": "rTspcgyB5i7Z"
      }
    }
  ]
}